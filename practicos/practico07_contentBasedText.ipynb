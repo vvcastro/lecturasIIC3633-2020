{
  "nbformat": 4,
  "nbformat_minor": 0,
  "metadata": {
    "colab": {
      "name": "practico07_contentBasedText.ipynb",
      "provenance": [],
      "collapsed_sections": [
        "5I-uPstPLy1N",
        "vZTjzT8oLy1N",
        "zaL2FqeJLy1m",
        "QmWOYk78Ly1n",
        "1D21lw6qLy2I"
      ],
      "include_colab_link": true
    },
    "kernelspec": {
      "display_name": "Python 3",
      "language": "python",
      "name": "python3"
    },
    "language_info": {
      "codemirror_mode": {
        "name": "ipython",
        "version": 3
      },
      "file_extension": ".py",
      "mimetype": "text/x-python",
      "name": "python",
      "nbconvert_exporter": "python",
      "pygments_lexer": "ipython3",
      "version": "3.6.0"
    },
    "toc": {
      "base_numbering": 1,
      "nav_menu": {},
      "number_sections": true,
      "sideBar": true,
      "skip_h1_title": false,
      "title_cell": "Table of Contents",
      "title_sidebar": "Contents",
      "toc_cell": false,
      "toc_position": {},
      "toc_section_display": true,
      "toc_window_display": false
    }
  },
  "cells": [
    {
      "cell_type": "markdown",
      "metadata": {
        "id": "view-in-github",
        "colab_type": "text"
      },
      "source": [
        "<a href=\"https://colab.research.google.com/github/vvcastro/vvcastro-IIC3633-2020/blob/master/practicos/practico07_contentBasedText.ipynb\" target=\"_parent\"><img src=\"https://colab.research.google.com/assets/colab-badge.svg\" alt=\"Open In Colab\"/></a>"
      ]
    },
    {
      "cell_type": "markdown",
      "metadata": {
        "id": "HCJTYRvoRyoE"
      },
      "source": [
        "<a href=\"https://youtu.be/seMk0mF2JZE\" target=\"_parent\"><img src=\"https://upload.wikimedia.org/wikipedia/commons/thumb/0/09/YouTube_full-color_icon_%282017%29.svg/71px-YouTube_full-color_icon_%282017%29.svg.png\" alt=\"Open In Colab\"/></a>"
      ]
    },
    {
      "cell_type": "markdown",
      "metadata": {
        "id": "URsUT4uiLy0i"
      },
      "source": [
        "# Práctico Content-based (Texto)\n",
        "\n",
        "**Profesor:** Denis Parra\n",
        "\n",
        "**Ayudantes:** Vladimir Araujo, Andrés Carvallo, Manuel Cartagena, Francisca Catán, Andres Villa \n",
        "\n",
        "\n",
        "En este proyecto trabajaremos con un modelo de recomendacion de libros de la página [Goodreads](http://www.goodreads.com). El modelo de recomendación de libros es un recomendador basado en contenido, donde se utilizan modelos de lenguage BERT y BERT-large para el cálculo de embeddings de los libros y luego similaridades de ítems. Luego, dependiendo de los libros con los que el usuario ha interactuado, se recomiendan los ítems más similares."
      ]
    },
    {
      "cell_type": "code",
      "metadata": {
        "ExecuteTime": {
          "end_time": "2020-09-05T12:07:02.503203Z",
          "start_time": "2020-09-05T12:07:02.498207Z"
        },
        "id": "_jciMPzaLy0j"
      },
      "source": [
        "import numpy as np\n",
        "import json\n",
        "import requests\n",
        "import heapq\n",
        "import math\n",
        "import matplotlib.pyplot as plt\n",
        "from sklearn.metrics import pairwise_distances\n",
        "from sklearn.decomposition import PCA\n",
        "from io import BytesIO\n",
        "import pickle\n",
        "import pandas as pd\n",
        "import time "
      ],
      "execution_count": 1,
      "outputs": []
    },
    {
      "cell_type": "markdown",
      "metadata": {
        "id": "BN8KY7PzLy0n"
      },
      "source": [
        "Descargamos datos que vienen previamente calculados: \n",
        "- transacciones/interacciones de cada usuario \n",
        "- transaciones para evaluar el modelo \n",
        "- embeddings de imágenes calculados con BERT  \n",
        "- embeddings de imágenes calculados con BERT-large\n",
        "- datos de libros con información de titulo, descripcion, año de publicacion, entre otros. "
      ]
    },
    {
      "cell_type": "code",
      "metadata": {
        "id": "GCdioSuCLy0o",
        "colab": {
          "base_uri": "https://localhost:8080/"
        },
        "outputId": "f969e512-57c0-4114-eb0d-39550002e3aa"
      },
      "source": [
        "!wget --no-check-certificate 'https://docs.google.com/uc?export=download&id=1Q2wix9sRn7lEwPtnUDf70cewi9sAeVVW' -O books.tsv\n",
        "!wget --no-check-certificate 'https://docs.google.com/uc?export=download&id=1qzt5Fxrf1KimlEqyKLNCc2UwxrOj6yAb' -O goodreads_bert_embeddings.npy\n",
        "!wget --no-check-certificate 'https://docs.google.com/uc?export=download&id=1Sls46iCyO__PU6d9FCO05loumYaooY_P' -O goodreads_bert_large_embeddings.npy\n",
        "!wget --no-check-certificate 'https://docs.google.com/uc?export=download&id=1BxNu7OwSz9zi20Ss120qG77BE3vNt4TG' -O goodreads_past_interactions.json\n",
        "!wget --no-check-certificate 'https://docs.google.com/uc?export=download&id=1t5PIqci6UrWW1Qp8rtbaZz-GunnZu0zN' -O goodreads_test_interactions.json"
      ],
      "execution_count": 2,
      "outputs": [
        {
          "output_type": "stream",
          "text": [
            "--2020-12-05 00:30:15--  https://docs.google.com/uc?export=download&id=1Q2wix9sRn7lEwPtnUDf70cewi9sAeVVW\n",
            "Resolving docs.google.com (docs.google.com)... 74.125.195.102, 74.125.195.100, 74.125.195.138, ...\n",
            "Connecting to docs.google.com (docs.google.com)|74.125.195.102|:443... connected.\n",
            "HTTP request sent, awaiting response... 302 Moved Temporarily\n",
            "Location: https://doc-0o-4g-docs.googleusercontent.com/docs/securesc/ha0ro937gcuc7l7deffksulhg5h7mbp1/uhiurqpt9kia02uotnfjuts9sdv40hst/1607128200000/01180867749262413309/*/1Q2wix9sRn7lEwPtnUDf70cewi9sAeVVW?e=download [following]\n",
            "Warning: wildcards not supported in HTTP.\n",
            "--2020-12-05 00:30:16--  https://doc-0o-4g-docs.googleusercontent.com/docs/securesc/ha0ro937gcuc7l7deffksulhg5h7mbp1/uhiurqpt9kia02uotnfjuts9sdv40hst/1607128200000/01180867749262413309/*/1Q2wix9sRn7lEwPtnUDf70cewi9sAeVVW?e=download\n",
            "Resolving doc-0o-4g-docs.googleusercontent.com (doc-0o-4g-docs.googleusercontent.com)... 74.125.195.132, 2607:f8b0:400e:c09::84\n",
            "Connecting to doc-0o-4g-docs.googleusercontent.com (doc-0o-4g-docs.googleusercontent.com)|74.125.195.132|:443... connected.\n",
            "HTTP request sent, awaiting response... 200 OK\n",
            "Length: unspecified [text/tab-separated-values]\n",
            "Saving to: ‘books.tsv’\n",
            "\n",
            "books.tsv               [ <=>                ]   5.54M  --.-KB/s    in 0.05s   \n",
            "\n",
            "2020-12-05 00:30:17 (106 MB/s) - ‘books.tsv’ saved [5814576]\n",
            "\n",
            "--2020-12-05 00:30:17--  https://docs.google.com/uc?export=download&id=1qzt5Fxrf1KimlEqyKLNCc2UwxrOj6yAb\n",
            "Resolving docs.google.com (docs.google.com)... 74.125.20.101, 74.125.20.139, 74.125.20.138, ...\n",
            "Connecting to docs.google.com (docs.google.com)|74.125.20.101|:443... connected.\n",
            "HTTP request sent, awaiting response... 302 Moved Temporarily\n",
            "Location: https://doc-10-4g-docs.googleusercontent.com/docs/securesc/ha0ro937gcuc7l7deffksulhg5h7mbp1/1ci8ibgntdv2tp5l70p6tca50e00b2lb/1607128200000/01180867749262413309/*/1qzt5Fxrf1KimlEqyKLNCc2UwxrOj6yAb?e=download [following]\n",
            "Warning: wildcards not supported in HTTP.\n",
            "--2020-12-05 00:30:19--  https://doc-10-4g-docs.googleusercontent.com/docs/securesc/ha0ro937gcuc7l7deffksulhg5h7mbp1/1ci8ibgntdv2tp5l70p6tca50e00b2lb/1607128200000/01180867749262413309/*/1qzt5Fxrf1KimlEqyKLNCc2UwxrOj6yAb?e=download\n",
            "Resolving doc-10-4g-docs.googleusercontent.com (doc-10-4g-docs.googleusercontent.com)... 74.125.195.132, 2607:f8b0:400e:c09::84\n",
            "Connecting to doc-10-4g-docs.googleusercontent.com (doc-10-4g-docs.googleusercontent.com)|74.125.195.132|:443... connected.\n",
            "HTTP request sent, awaiting response... 200 OK\n",
            "Length: unspecified [application/octet-stream]\n",
            "Saving to: ‘goodreads_bert_embeddings.npy’\n",
            "\n",
            "goodreads_bert_embe     [  <=>               ]  27.96M  90.0MB/s    in 0.3s    \n",
            "\n",
            "2020-12-05 00:30:19 (90.0 MB/s) - ‘goodreads_bert_embeddings.npy’ saved [29313152]\n",
            "\n",
            "--2020-12-05 00:30:19--  https://docs.google.com/uc?export=download&id=1Sls46iCyO__PU6d9FCO05loumYaooY_P\n",
            "Resolving docs.google.com (docs.google.com)... 74.125.20.102, 74.125.20.101, 74.125.20.138, ...\n",
            "Connecting to docs.google.com (docs.google.com)|74.125.20.102|:443... connected.\n",
            "HTTP request sent, awaiting response... 302 Moved Temporarily\n",
            "Location: https://doc-04-4g-docs.googleusercontent.com/docs/securesc/ha0ro937gcuc7l7deffksulhg5h7mbp1/i29b75gli3bdq43vc7knr0ecu5shht1m/1607128200000/01180867749262413309/*/1Sls46iCyO__PU6d9FCO05loumYaooY_P?e=download [following]\n",
            "Warning: wildcards not supported in HTTP.\n",
            "--2020-12-05 00:30:22--  https://doc-04-4g-docs.googleusercontent.com/docs/securesc/ha0ro937gcuc7l7deffksulhg5h7mbp1/i29b75gli3bdq43vc7knr0ecu5shht1m/1607128200000/01180867749262413309/*/1Sls46iCyO__PU6d9FCO05loumYaooY_P?e=download\n",
            "Resolving doc-04-4g-docs.googleusercontent.com (doc-04-4g-docs.googleusercontent.com)... 74.125.195.132, 2607:f8b0:400e:c09::84\n",
            "Connecting to doc-04-4g-docs.googleusercontent.com (doc-04-4g-docs.googleusercontent.com)|74.125.195.132|:443... connected.\n",
            "HTTP request sent, awaiting response... 200 OK\n",
            "Length: unspecified [application/octet-stream]\n",
            "Saving to: ‘goodreads_bert_large_embeddings.npy’\n",
            "\n",
            "goodreads_bert_larg     [  <=>               ]  37.27M  71.3MB/s    in 0.5s    \n",
            "\n",
            "2020-12-05 00:30:22 (71.3 MB/s) - ‘goodreads_bert_large_embeddings.npy’ saved [39084160]\n",
            "\n",
            "--2020-12-05 00:30:22--  https://docs.google.com/uc?export=download&id=1BxNu7OwSz9zi20Ss120qG77BE3vNt4TG\n",
            "Resolving docs.google.com (docs.google.com)... 74.125.195.113, 74.125.195.138, 74.125.195.139, ...\n",
            "Connecting to docs.google.com (docs.google.com)|74.125.195.113|:443... connected.\n",
            "HTTP request sent, awaiting response... 302 Moved Temporarily\n",
            "Location: https://doc-00-4g-docs.googleusercontent.com/docs/securesc/ha0ro937gcuc7l7deffksulhg5h7mbp1/8ea1ftop4519slissg9nj83jlsr9oo3q/1607128200000/01180867749262413309/*/1BxNu7OwSz9zi20Ss120qG77BE3vNt4TG?e=download [following]\n",
            "Warning: wildcards not supported in HTTP.\n",
            "--2020-12-05 00:30:23--  https://doc-00-4g-docs.googleusercontent.com/docs/securesc/ha0ro937gcuc7l7deffksulhg5h7mbp1/8ea1ftop4519slissg9nj83jlsr9oo3q/1607128200000/01180867749262413309/*/1BxNu7OwSz9zi20Ss120qG77BE3vNt4TG?e=download\n",
            "Resolving doc-00-4g-docs.googleusercontent.com (doc-00-4g-docs.googleusercontent.com)... 74.125.195.132, 2607:f8b0:400e:c09::84\n",
            "Connecting to doc-00-4g-docs.googleusercontent.com (doc-00-4g-docs.googleusercontent.com)|74.125.195.132|:443... connected.\n",
            "HTTP request sent, awaiting response... 200 OK\n",
            "Length: 166662 (163K) [application/json]\n",
            "Saving to: ‘goodreads_past_interactions.json’\n",
            "\n",
            "goodreads_past_inte 100%[===================>] 162.76K  --.-KB/s    in 0.002s  \n",
            "\n",
            "2020-12-05 00:30:24 (97.4 MB/s) - ‘goodreads_past_interactions.json’ saved [166662/166662]\n",
            "\n",
            "--2020-12-05 00:30:24--  https://docs.google.com/uc?export=download&id=1t5PIqci6UrWW1Qp8rtbaZz-GunnZu0zN\n",
            "Resolving docs.google.com (docs.google.com)... 74.125.142.139, 74.125.142.113, 74.125.142.100, ...\n",
            "Connecting to docs.google.com (docs.google.com)|74.125.142.139|:443... connected.\n",
            "HTTP request sent, awaiting response... 302 Moved Temporarily\n",
            "Location: https://doc-0g-4g-docs.googleusercontent.com/docs/securesc/ha0ro937gcuc7l7deffksulhg5h7mbp1/p13375ijo5gpsvs1h5iltb82g16d4cfr/1607128200000/01180867749262413309/*/1t5PIqci6UrWW1Qp8rtbaZz-GunnZu0zN?e=download [following]\n",
            "Warning: wildcards not supported in HTTP.\n",
            "--2020-12-05 00:30:24--  https://doc-0g-4g-docs.googleusercontent.com/docs/securesc/ha0ro937gcuc7l7deffksulhg5h7mbp1/p13375ijo5gpsvs1h5iltb82g16d4cfr/1607128200000/01180867749262413309/*/1t5PIqci6UrWW1Qp8rtbaZz-GunnZu0zN?e=download\n",
            "Resolving doc-0g-4g-docs.googleusercontent.com (doc-0g-4g-docs.googleusercontent.com)... 74.125.195.132, 2607:f8b0:400e:c09::84\n",
            "Connecting to doc-0g-4g-docs.googleusercontent.com (doc-0g-4g-docs.googleusercontent.com)|74.125.195.132|:443... connected.\n",
            "HTTP request sent, awaiting response... 200 OK\n",
            "Length: 155925 (152K) [application/json]\n",
            "Saving to: ‘goodreads_test_interactions.json’\n",
            "\n",
            "goodreads_test_inte 100%[===================>] 152.27K  --.-KB/s    in 0.002s  \n",
            "\n",
            "2020-12-05 00:30:24 (78.6 MB/s) - ‘goodreads_test_interactions.json’ saved [155925/155925]\n",
            "\n"
          ],
          "name": "stdout"
        }
      ]
    },
    {
      "cell_type": "markdown",
      "metadata": {
        "id": "5k5qsAdHLy0r"
      },
      "source": [
        "# Cargar datos adicionales"
      ]
    },
    {
      "cell_type": "code",
      "metadata": {
        "ExecuteTime": {
          "end_time": "2020-09-05T12:07:07.594155Z",
          "start_time": "2020-09-05T12:07:07.527654Z"
        },
        "colab": {
          "base_uri": "https://localhost:8080/",
          "height": 462
        },
        "id": "baVHkwjaLy0r",
        "outputId": "8551e7df-096e-406b-b25e-5eff66e5e722"
      },
      "source": [
        "df_books = pd.read_csv('books.tsv', sep='\\t')\n",
        "df_books.head()\n"
      ],
      "execution_count": 3,
      "outputs": [
        {
          "output_type": "execute_result",
          "data": {
            "text/html": [
              "<div>\n",
              "<style scoped>\n",
              "    .dataframe tbody tr th:only-of-type {\n",
              "        vertical-align: middle;\n",
              "    }\n",
              "\n",
              "    .dataframe tbody tr th {\n",
              "        vertical-align: top;\n",
              "    }\n",
              "\n",
              "    .dataframe thead th {\n",
              "        text-align: right;\n",
              "    }\n",
              "</style>\n",
              "<table border=\"1\" class=\"dataframe\">\n",
              "  <thead>\n",
              "    <tr style=\"text-align: right;\">\n",
              "      <th></th>\n",
              "      <th>id</th>\n",
              "      <th>book_id</th>\n",
              "      <th>best_book_id</th>\n",
              "      <th>work_id</th>\n",
              "      <th>books_count</th>\n",
              "      <th>isbn</th>\n",
              "      <th>isbn13</th>\n",
              "      <th>authors</th>\n",
              "      <th>original_publication_year</th>\n",
              "      <th>original_title</th>\n",
              "      <th>title</th>\n",
              "      <th>language_code</th>\n",
              "      <th>average_rating</th>\n",
              "      <th>ratings_count</th>\n",
              "      <th>work_ratings_count</th>\n",
              "      <th>work_text_reviews_count</th>\n",
              "      <th>ratings_1</th>\n",
              "      <th>ratings_2</th>\n",
              "      <th>ratings_3</th>\n",
              "      <th>ratings_4</th>\n",
              "      <th>ratings_5</th>\n",
              "      <th>image_url</th>\n",
              "      <th>small_image_url</th>\n",
              "      <th>book_description</th>\n",
              "    </tr>\n",
              "  </thead>\n",
              "  <tbody>\n",
              "    <tr>\n",
              "      <th>0</th>\n",
              "      <td>1</td>\n",
              "      <td>2767052</td>\n",
              "      <td>2767052</td>\n",
              "      <td>2792775</td>\n",
              "      <td>272</td>\n",
              "      <td>439023483</td>\n",
              "      <td>9.780439e+12</td>\n",
              "      <td>Suzanne Collins</td>\n",
              "      <td>2008.0</td>\n",
              "      <td>The Hunger Games</td>\n",
              "      <td>The Hunger Games (The Hunger Games, #1)</td>\n",
              "      <td>eng</td>\n",
              "      <td>4.34</td>\n",
              "      <td>4780653</td>\n",
              "      <td>4942365</td>\n",
              "      <td>155254</td>\n",
              "      <td>66715</td>\n",
              "      <td>127936</td>\n",
              "      <td>560092</td>\n",
              "      <td>1481305</td>\n",
              "      <td>2706317</td>\n",
              "      <td>https://images.gr-assets.com/books/1447303603m...</td>\n",
              "      <td>https://images.gr-assets.com/books/1447303603s...</td>\n",
              "      <td>Winning will make you famous. Losing means cer...</td>\n",
              "    </tr>\n",
              "    <tr>\n",
              "      <th>1</th>\n",
              "      <td>2</td>\n",
              "      <td>3</td>\n",
              "      <td>3</td>\n",
              "      <td>4640799</td>\n",
              "      <td>491</td>\n",
              "      <td>439554934</td>\n",
              "      <td>9.780440e+12</td>\n",
              "      <td>J.K. Rowling, Mary GrandPré</td>\n",
              "      <td>1997.0</td>\n",
              "      <td>Harry Potter and the Philosopher's Stone</td>\n",
              "      <td>Harry Potter and the Sorcerer's Stone (Harry P...</td>\n",
              "      <td>eng</td>\n",
              "      <td>4.44</td>\n",
              "      <td>4602479</td>\n",
              "      <td>4800065</td>\n",
              "      <td>75867</td>\n",
              "      <td>75504</td>\n",
              "      <td>101676</td>\n",
              "      <td>455024</td>\n",
              "      <td>1156318</td>\n",
              "      <td>3011543</td>\n",
              "      <td>https://images.gr-assets.com/books/1474154022m...</td>\n",
              "      <td>https://images.gr-assets.com/books/1474154022s...</td>\n",
              "      <td>Harry Potter's life is miserable. His parents ...</td>\n",
              "    </tr>\n",
              "    <tr>\n",
              "      <th>2</th>\n",
              "      <td>3</td>\n",
              "      <td>41865</td>\n",
              "      <td>41865</td>\n",
              "      <td>3212258</td>\n",
              "      <td>226</td>\n",
              "      <td>316015849</td>\n",
              "      <td>9.780316e+12</td>\n",
              "      <td>Stephenie Meyer</td>\n",
              "      <td>2005.0</td>\n",
              "      <td>Twilight</td>\n",
              "      <td>Twilight (Twilight, #1)</td>\n",
              "      <td>en-US</td>\n",
              "      <td>3.57</td>\n",
              "      <td>3866839</td>\n",
              "      <td>3916824</td>\n",
              "      <td>95009</td>\n",
              "      <td>456191</td>\n",
              "      <td>436802</td>\n",
              "      <td>793319</td>\n",
              "      <td>875073</td>\n",
              "      <td>1355439</td>\n",
              "      <td>https://images.gr-assets.com/books/1361039443m...</td>\n",
              "      <td>https://images.gr-assets.com/books/1361039443s...</td>\n",
              "      <td>About three things I was absolutely positive.F...</td>\n",
              "    </tr>\n",
              "    <tr>\n",
              "      <th>3</th>\n",
              "      <td>4</td>\n",
              "      <td>2657</td>\n",
              "      <td>2657</td>\n",
              "      <td>3275794</td>\n",
              "      <td>487</td>\n",
              "      <td>61120081</td>\n",
              "      <td>9.780061e+12</td>\n",
              "      <td>Harper Lee</td>\n",
              "      <td>1960.0</td>\n",
              "      <td>To Kill a Mockingbird</td>\n",
              "      <td>To Kill a Mockingbird</td>\n",
              "      <td>eng</td>\n",
              "      <td>4.25</td>\n",
              "      <td>3198671</td>\n",
              "      <td>3340896</td>\n",
              "      <td>72586</td>\n",
              "      <td>60427</td>\n",
              "      <td>117415</td>\n",
              "      <td>446835</td>\n",
              "      <td>1001952</td>\n",
              "      <td>1714267</td>\n",
              "      <td>https://images.gr-assets.com/books/1361975680m...</td>\n",
              "      <td>https://images.gr-assets.com/books/1361975680s...</td>\n",
              "      <td>The unforgettable novel of a childhood in a sl...</td>\n",
              "    </tr>\n",
              "    <tr>\n",
              "      <th>4</th>\n",
              "      <td>5</td>\n",
              "      <td>4671</td>\n",
              "      <td>4671</td>\n",
              "      <td>245494</td>\n",
              "      <td>1356</td>\n",
              "      <td>743273567</td>\n",
              "      <td>9.780743e+12</td>\n",
              "      <td>F. Scott Fitzgerald</td>\n",
              "      <td>1925.0</td>\n",
              "      <td>The Great Gatsby</td>\n",
              "      <td>The Great Gatsby</td>\n",
              "      <td>eng</td>\n",
              "      <td>3.89</td>\n",
              "      <td>2683664</td>\n",
              "      <td>2773745</td>\n",
              "      <td>51992</td>\n",
              "      <td>86236</td>\n",
              "      <td>197621</td>\n",
              "      <td>606158</td>\n",
              "      <td>936012</td>\n",
              "      <td>947718</td>\n",
              "      <td>https://images.gr-assets.com/books/1490528560m...</td>\n",
              "      <td>https://images.gr-assets.com/books/1490528560s...</td>\n",
              "      <td>THE GREAT GATSBY, F. Scott Fitzgerald’s third ...</td>\n",
              "    </tr>\n",
              "  </tbody>\n",
              "</table>\n",
              "</div>"
            ],
            "text/plain": [
              "   id  ...                                   book_description\n",
              "0   1  ...  Winning will make you famous. Losing means cer...\n",
              "1   2  ...  Harry Potter's life is miserable. His parents ...\n",
              "2   3  ...  About three things I was absolutely positive.F...\n",
              "3   4  ...  The unforgettable novel of a childhood in a sl...\n",
              "4   5  ...  THE GREAT GATSBY, F. Scott Fitzgerald’s third ...\n",
              "\n",
              "[5 rows x 24 columns]"
            ]
          },
          "metadata": {
            "tags": []
          },
          "execution_count": 3
        }
      ]
    },
    {
      "cell_type": "code",
      "metadata": {
        "ExecuteTime": {
          "end_time": "2020-09-05T11:35:31.626497Z",
          "start_time": "2020-09-05T11:35:31.613866Z"
        },
        "id": "JhraS621Ly0v"
      },
      "source": [
        "# diccionario con id del usuario y id de libros con los que ha interactuado en el pasado \n",
        "with open('goodreads_past_interactions.json') as f:\n",
        "    user_interactions = json.load(f)\n",
        "\n",
        "# diccionario con id del usuario y id de libros para testear el modelo     \n",
        "with open('goodreads_test_interactions.json') as f:\n",
        "    user_interactions_test = json.load(f)\n"
      ],
      "execution_count": 4,
      "outputs": []
    },
    {
      "cell_type": "code",
      "metadata": {
        "ExecuteTime": {
          "end_time": "2020-09-05T11:35:49.010912Z",
          "start_time": "2020-09-05T11:35:49.007005Z"
        },
        "id": "kklEXHTMLy03"
      },
      "source": [
        "# dict index 2 book id and vice-versa for recommendation \n",
        "idx2bookid = {i: id_ for i, id_ in enumerate(df_books.book_id)}\n",
        "bookid2idx = {id_:i for i, id_ in enumerate(df_books.book_id)}"
      ],
      "execution_count": 5,
      "outputs": []
    },
    {
      "cell_type": "markdown",
      "metadata": {
        "id": "vpgk8_p-Ly06"
      },
      "source": [
        "# Cargar características pre-entrenadas: BERT y BERT-large\n",
        "\n",
        "En esta sección se trabajará con modelos pre-entrenados de modelos de lenguage BERT y BERT-large que convierten texto a embeddings. \n",
        "\n",
        "Bidirectional Encoder Representations from Transformers (BERT) es una técnica de NLP (Natural Language Processing) desarrollada por Google y publicada en 2018 por Jacob Devlin. \n",
        "\n",
        "Actualmente Google utiliza BERT para entender las consultas de los usuarios en su buscador. \n",
        "\n",
        "Tiene dos versiones: \n",
        "- **BERT:** 12 capas, 12 cabezales de atencion y 110 millones de parámetros. Genera vectores de 768 dimensiones \n",
        "- **BERT-large:** 24 capas, 16 cabezales de atencion y 340 millones de parámetros.  \n",
        "\n",
        "![BERT y BERT-large](http://jalammar.github.io/images/bert-base-bert-large.png)\n",
        "\n",
        "![BERT y BERT-large arquitectura](http://jalammar.github.io/images/bert-base-bert-large-encoders.png)\n",
        "\n",
        "En este caso los textos que utilizaremos son los títulos de los libros con su descripción y compararemos los resultados de recomendación con BERT y BERT-large. Para efectos de este trabajo los vectores de características ya fueron entrenados y guardados en archivos numpy. A continuación son cargados en memoria.\n",
        "\n",
        "Para mayores detalles sobre el modelo de lenguaje BERT se recomienda revisar el siguiente artículo:\n",
        "- [BERT: Pre-training of Deep Bidirectional Transformers for Language Understanding](https://arxiv.org/pdf/1810.04805.pdf)\n"
      ]
    },
    {
      "cell_type": "code",
      "metadata": {
        "ExecuteTime": {
          "end_time": "2020-09-05T11:35:57.092349Z",
          "start_time": "2020-09-05T11:35:57.075885Z"
        },
        "id": "70GKnNfrLy06"
      },
      "source": [
        "bert_featmat = np.load('goodreads_bert_embeddings.npy', allow_pickle=True)\n",
        "bert_large_featmat = np.load('goodreads_bert_large_embeddings.npy', allow_pickle=True)"
      ],
      "execution_count": 6,
      "outputs": []
    },
    {
      "cell_type": "code",
      "metadata": {
        "ExecuteTime": {
          "end_time": "2020-09-05T11:35:59.530323Z",
          "start_time": "2020-09-05T11:35:59.525324Z"
        },
        "colab": {
          "base_uri": "https://localhost:8080/"
        },
        "id": "u_do7vxtLy0_",
        "outputId": "b89f5115-f3d3-4b93-a5eb-0068db13868f"
      },
      "source": [
        "bert_featmat.shape"
      ],
      "execution_count": 7,
      "outputs": [
        {
          "output_type": "execute_result",
          "data": {
            "text/plain": [
              "(4771, 768)"
            ]
          },
          "metadata": {
            "tags": []
          },
          "execution_count": 7
        }
      ]
    },
    {
      "cell_type": "code",
      "metadata": {
        "ExecuteTime": {
          "end_time": "2020-09-05T11:36:00.421823Z",
          "start_time": "2020-09-05T11:36:00.411993Z"
        },
        "colab": {
          "base_uri": "https://localhost:8080/"
        },
        "id": "076Tu9o-Ly1C",
        "outputId": "0359eb0a-8aea-4f8a-d1da-28c89abd8d94"
      },
      "source": [
        "bert_large_featmat.shape"
      ],
      "execution_count": 8,
      "outputs": [
        {
          "output_type": "execute_result",
          "data": {
            "text/plain": [
              "(4771, 1024)"
            ]
          },
          "metadata": {
            "tags": []
          },
          "execution_count": 8
        }
      ]
    },
    {
      "cell_type": "markdown",
      "metadata": {
        "id": "EOp61nz0Ly1E"
      },
      "source": [
        "### **Pregunta 1** \n",
        "\n",
        "Considerando que haremos un recomendador basado en contenidos ¿Por qué el uso de modelos de lenguage es una buena elección para este tipo de problema?"
      ]
    },
    {
      "cell_type": "markdown",
      "metadata": {
        "id": "YtMPx5VfLy1F"
      },
      "source": [
        "**Respuesta 1:** Como estamos ocupando el dataset de goodreads, nos interesaría pasar el titulo y la descripción (es el contenido que se quiere utilizar) a algún vector que sea procesable (númerico), de esta forma, los modelos de lenguaje nos permiten hacer este embedding de las oraciones/palabras que hay en estos apartados del libro."
      ]
    },
    {
      "cell_type": "markdown",
      "metadata": {
        "id": "oV1SmfEoLy1F"
      },
      "source": [
        "# Probamos con BERT y BERT-large reduciendo dimensionalidad con PCA-20\n",
        "\n",
        "Una vez calculado (o cargado) los vectores característicos de cada libro a partir de su titulo y descripción, reducimos dimensionalidad. Probaremos con BERT y BERT-large para comparar los resultados de ambos en recomendación basada en contenido. \n"
      ]
    },
    {
      "cell_type": "code",
      "metadata": {
        "ExecuteTime": {
          "end_time": "2020-09-05T11:36:15.597694Z",
          "start_time": "2020-09-05T11:36:14.926635Z"
        },
        "id": "K63l3IDDLy1G"
      },
      "source": [
        "# Project into a 20 PCA feature space\n",
        "pca20_bert_featmat = PCA(n_components=20).fit_transform(bert_featmat)\n",
        "pca20_bert_large_featmat = PCA(n_components=20).fit_transform(bert_large_featmat)"
      ],
      "execution_count": 9,
      "outputs": []
    },
    {
      "cell_type": "code",
      "metadata": {
        "ExecuteTime": {
          "end_time": "2020-09-05T11:36:16.530240Z",
          "start_time": "2020-09-05T11:36:16.524921Z"
        },
        "colab": {
          "base_uri": "https://localhost:8080/"
        },
        "id": "edXddHMgLy1I",
        "outputId": "7d2973c4-b8ed-43d0-c5a8-2190bdd864c6"
      },
      "source": [
        "pca20_bert_featmat.shape"
      ],
      "execution_count": 10,
      "outputs": [
        {
          "output_type": "execute_result",
          "data": {
            "text/plain": [
              "(4771, 20)"
            ]
          },
          "metadata": {
            "tags": []
          },
          "execution_count": 10
        }
      ]
    },
    {
      "cell_type": "code",
      "metadata": {
        "ExecuteTime": {
          "end_time": "2020-09-05T11:36:17.395228Z",
          "start_time": "2020-09-05T11:36:17.390291Z"
        },
        "colab": {
          "base_uri": "https://localhost:8080/"
        },
        "id": "poVgB01ELy1K",
        "outputId": "37d2cce1-42e5-4306-d566-06ec6e527879"
      },
      "source": [
        "pca20_bert_large_featmat.shape"
      ],
      "execution_count": 11,
      "outputs": [
        {
          "output_type": "execute_result",
          "data": {
            "text/plain": [
              "(4771, 20)"
            ]
          },
          "metadata": {
            "tags": []
          },
          "execution_count": 11
        }
      ]
    },
    {
      "cell_type": "markdown",
      "metadata": {
        "id": "5I-uPstPLy1N"
      },
      "source": [
        "### **Pregunta 2**\n",
        "\n",
        "Comente por qué se utiliza PCA para reducir la dimensión de cada vector característico. ¿Qué sucede con la pérdida de información en la reducción de dimensionalidad?"
      ]
    },
    {
      "cell_type": "markdown",
      "metadata": {
        "id": "vZTjzT8oLy1N"
      },
      "source": [
        "### Respuesta 2: \n",
        "Parece necesario dada la dimensionalidad original del embedding de BERT y BERT-L, podría ser necesario hacer reducción de dimensionalidad para disminuir la complejidad de nuestro modelo. Por otro lado, por qué se ocupa PCA? Este método trata de \"perder\" la menor información posible, en este sentido, sí o sí se va a perder información, pero con un método como PCA, probablemente va a ser menos que con otros métodos."
      ]
    },
    {
      "cell_type": "markdown",
      "metadata": {
        "id": "72J6mq5CLy1N"
      },
      "source": [
        "# Similar document retrieval \n",
        "\n",
        "En esta sección utilizaremos los vectores cargados para hacer un sistema de recuperación o búsqueda de información, para diferentes métricas de distancia.\n",
        "\n",
        "Buscamos libros similares de acuerdo a la representación vectorial (BERT) de su título y descripción. \n"
      ]
    },
    {
      "cell_type": "code",
      "metadata": {
        "ExecuteTime": {
          "end_time": "2020-09-05T11:36:25.394834Z",
          "start_time": "2020-09-05T11:36:25.390694Z"
        },
        "colab": {
          "base_uri": "https://localhost:8080/"
        },
        "id": "SxCprSiiLy1O",
        "outputId": "94139600-1516-49e7-bb7b-5f1aae9baf14"
      },
      "source": [
        "# format results \n",
        "pd.options.display.max_colwidth = 50\n",
        "pd.set_option('display.max_colwidth', -1)"
      ],
      "execution_count": 12,
      "outputs": [
        {
          "output_type": "stream",
          "text": [
            "/usr/local/lib/python3.6/dist-packages/ipykernel_launcher.py:3: FutureWarning: Passing a negative integer is deprecated in version 1.0 and will not be supported in future version. Instead, use None to not limit the column width.\n",
            "  This is separate from the ipykernel package so we can avoid doing imports until\n"
          ],
          "name": "stderr"
        }
      ]
    },
    {
      "cell_type": "code",
      "metadata": {
        "ExecuteTime": {
          "end_time": "2020-09-05T11:36:26.354216Z",
          "start_time": "2020-09-05T11:36:26.347790Z"
        },
        "id": "2Za4TGZ5Ly1Q"
      },
      "source": [
        "# Find similar images by image id\n",
        "def find_similar_books(embedding, query_id=None, metric='euclidean', topk=10):\n",
        "    \n",
        "    n = embedding.shape[0]\n",
        "    \n",
        "    if query_id is None:\n",
        "        query_i = np.random.randint(n)\n",
        "        query_id = idx2bookid[query_i]\n",
        "    \n",
        "    else:\n",
        "        query_i = bookid2idx[query_id]\n",
        "        \n",
        "    \n",
        "    distances = pairwise_distances(embedding[query_i].reshape(1,-1), embedding, metric=metric)\n",
        "    heap = []\n",
        "    for i in range(n):            \n",
        "        if len(heap) < topk:\n",
        "            heapq.heappush(heap, (-distances[0][i], i))\n",
        "        else:\n",
        "            heapq.heappushpop(heap, (-distances[0][i], i))\n",
        "\n",
        "    heap.sort(reverse=True)\n",
        "    rec_ids = [idx2bookid[i] for _,i in heap]\n",
        "    \n",
        "    return rec_ids"
      ],
      "execution_count": 13,
      "outputs": []
    },
    {
      "cell_type": "markdown",
      "metadata": {
        "id": "kpDND3ElLy1S"
      },
      "source": [
        "## Usando BERT "
      ]
    },
    {
      "cell_type": "code",
      "metadata": {
        "ExecuteTime": {
          "end_time": "2020-09-05T11:36:28.525378Z",
          "start_time": "2020-09-05T11:36:28.506509Z"
        },
        "colab": {
          "base_uri": "https://localhost:8080/"
        },
        "id": "xSXMckE9Ly1S",
        "outputId": "9813bad8-255e-4cf0-a6a5-15ec764c8ee7"
      },
      "source": [
        "# libros similares al libro de id 41865 (Twilight) utilizando distancia euclideana. se puede cambiar a \"cosine\" \n",
        "similar_books = find_similar_books(bert_featmat, query_id = 41865, metric = 'manhattan', topk=10 )\n",
        "similar_books"
      ],
      "execution_count": 33,
      "outputs": [
        {
          "output_type": "execute_result",
          "data": {
            "text/plain": [
              "[41865,\n",
              " 7617119,\n",
              " 15799166,\n",
              " 7896345,\n",
              " 8130839,\n",
              " 7187395,\n",
              " 20797535,\n",
              " 17802724,\n",
              " 6933876,\n",
              " 9975679]"
            ]
          },
          "metadata": {
            "tags": []
          },
          "execution_count": 33
        }
      ]
    },
    {
      "cell_type": "code",
      "metadata": {
        "ExecuteTime": {
          "end_time": "2020-09-05T11:36:30.385056Z",
          "start_time": "2020-09-05T11:36:30.374035Z"
        },
        "colab": {
          "base_uri": "https://localhost:8080/",
          "height": 1000
        },
        "id": "ewrZUZUcLy1V",
        "outputId": "85277673-acd7-4f20-b695-e1e87fcabf90"
      },
      "source": [
        "df_books[df_books.book_id.isin(similar_books)][['book_id', 'original_title', 'book_description', 'authors']]"
      ],
      "execution_count": 34,
      "outputs": [
        {
          "output_type": "execute_result",
          "data": {
            "text/html": [
              "<div>\n",
              "<style scoped>\n",
              "    .dataframe tbody tr th:only-of-type {\n",
              "        vertical-align: middle;\n",
              "    }\n",
              "\n",
              "    .dataframe tbody tr th {\n",
              "        vertical-align: top;\n",
              "    }\n",
              "\n",
              "    .dataframe thead th {\n",
              "        text-align: right;\n",
              "    }\n",
              "</style>\n",
              "<table border=\"1\" class=\"dataframe\">\n",
              "  <thead>\n",
              "    <tr style=\"text-align: right;\">\n",
              "      <th></th>\n",
              "      <th>book_id</th>\n",
              "      <th>original_title</th>\n",
              "      <th>book_description</th>\n",
              "      <th>authors</th>\n",
              "    </tr>\n",
              "  </thead>\n",
              "  <tbody>\n",
              "    <tr>\n",
              "      <th>2</th>\n",
              "      <td>41865</td>\n",
              "      <td>Twilight</td>\n",
              "      <td>About three things I was absolutely positive.First, Edward was a vampire.Second, there was a part of him—and I didn't know how dominant that part might be—that thirsted for my blood.And third, I was unconditionally and irrevocably in love with him.In the first book of the Twilight Saga, internationally bestselling author Stephenie Meyer introduces Bella Swan and Edward Cullen, a pair of star-crossed lovers whose forbidden relationship ripens against the backdrop of small-town suspicion and a mysterious coven of vampires. This is a love story with bite.</td>\n",
              "      <td>Stephenie Meyer</td>\n",
              "    </tr>\n",
              "    <tr>\n",
              "      <th>218</th>\n",
              "      <td>17802724</td>\n",
              "      <td>The Husband's Secret</td>\n",
              "      <td>At the heart of The Husband’s Secret is a letter that’s not meant to be readMy darling Cecilia, if you’re reading this, then I’ve died...Imagine that your husband wrote you a letter, to be opened after his death. Imagine, too, that the letter contains his deepest, darkest secret—something with the potential to destroy not just the life you built together, but the lives of others as well. Imagine, then, that you stumble across that letter while your husband is still very much alive. . . .Cecilia Fitzpatrick has achieved it all—she’s an incredibly successful businesswoman, a pillar of her small community, and a devoted wife and mother. Her life is as orderly and spotless as her home. But that letter is about to change everything, and not just for her: Rachel and Tess barely know Cecilia—or each other—but they too are about to feel the earth-shattering repercussions of her husband’s secret.Acclaimed author Liane Moriarty has written a gripping, thought-provoking novel about how well it is really possible to know our spouses—and, ultimately, ourselves.</td>\n",
              "      <td>Liane Moriarty</td>\n",
              "    </tr>\n",
              "    <tr>\n",
              "      <th>1447</th>\n",
              "      <td>15799166</td>\n",
              "      <td>Release Me (Stark Trilogy, #1)</td>\n",
              "      <td>For fans of Fifty Shades of Grey and Bared to You comes an erotic, emotionally charged romance between a powerful man who’s never heard “no” and a fiery woman who says “yes” on her own terms. He was the one man I couldn’t avoid. And the one man I couldn’t resist. Damien Stark could have his way with any woman. He was sexy, confident, and commanding: Anything he wanted, he got. And what he wanted was me.Our attraction was unmistakable, almost beyond control, but as much as I ached to be his, I feared the pressures of his demands. Submitting to Damien meant I had to bare the darkest truth about my past—and risk breaking us apart.But Damien was haunted, too. And as our passion came to obsess us both, his secrets threatened to destroy him—and us—forever.Release Me is an erotic romance intended for mature audiences.</td>\n",
              "      <td>J. Kenner</td>\n",
              "    </tr>\n",
              "    <tr>\n",
              "      <th>2103</th>\n",
              "      <td>7896345</td>\n",
              "      <td>The Gathering</td>\n",
              "      <td>Sixteen-year-old Maya is just an ordinary teen in an ordinary town. Sure, she doesn't know much about her background - the only thing she really has to cling to is an odd paw-print birthmark on her hip - but she never really put much thought into who her parents were or how she ended up with her adopted parents in this tiny medical-research community on Vancouver Island.Until now.Strange things have been happening in this claustrophobic town - from the mountain lions that have been approaching Maya to her best friend's hidden talent for \"feeling\" out people and situations, to the sexy new bad boy who makes Maya feel...different. Combine that with a few unexplained deaths and a mystery involving Maya's biological parents and it's easy to suspect that this town might have more than its share of skeletons in its closet.In THE GATHERING, New York Times best-selling author Kelley Armstrong brings all the supernatural thrills from her wildly successful Darkest Powers series to Darkness Rising, her scorching hot new trilogy.</td>\n",
              "      <td>Kelley Armstrong</td>\n",
              "    </tr>\n",
              "    <tr>\n",
              "      <th>3260</th>\n",
              "      <td>7187395</td>\n",
              "      <td>The Walk</td>\n",
              "      <td>\"My name is Alan Christoffersen. You don’t know me. ‘Just another book in the library,’ my father would say. ‘Unopened and unread.’ You have no idea how far I’ve come or what I’ve lost. More important, you have no idea what I’ve found.\" —Prologue What would you do if you lost everything—your job, your home, and the love of your life—all at the same time? When it happens to Seattle ad executive Alan Christoffersen, he’s tempted by his darkest thoughts. A bottle of pills in his hand and nothing left to live for, he plans to end his misery. Instead, he decides to take a walk. But not any ordinary walk. Taking with him only the barest of essentials, Al leaves behind all that he’s known and heads for the farthest point on his map: Key West, Florida. The people he encounters along the way, and the lessons they share with him, will save his life—and inspire yours. Richard Paul Evans’s extraordinary New York Times bestsellers have made him one of the world’s most beloved storytellers. A life-changing journey, both physical and spiritual, The Walk is the first of an unforgettable series of books about one man’s search for hope.</td>\n",
              "      <td>Richard Paul Evans</td>\n",
              "    </tr>\n",
              "    <tr>\n",
              "      <th>3299</th>\n",
              "      <td>6933876</td>\n",
              "      <td>Changeless</td>\n",
              "      <td>Alexia Maccon, the Lady Woolsey, awakens in the wee hours of the mid-afternoon to find her husband, who should be decently asleep like any normal werewolf, yelling at the top of his lungs. Then he disappears; leaving her to deal with a regiment of supernatural soldiers encamped on her doorstep, a plethora of exorcised ghosts, and an angry Queen Victoria.But Alexia is armed with her trusty parasol, the latest fashions, and an arsenal of biting civility. So even when her investigations take her to Scotland, the backwater of ugly waistcoats, she is prepared: upending werewolf pack dynamics as only the soulless can. She might even find time to track down her wayward husband, if she feels like it.CHANGELESS is the second book of the Parasol Protectorate series: a comedy of manners set in Victorian London, full of werewolves, vampires, dirigibles, and tea-drinking.</td>\n",
              "      <td>Gail Carriger</td>\n",
              "    </tr>\n",
              "    <tr>\n",
              "      <th>3321</th>\n",
              "      <td>7617119</td>\n",
              "      <td>I Am Not A Serial Killer (John Cleaver, #1)</td>\n",
              "      <td>John Wayne Cleaver is dangerous, and he knows it.He's spent his life doing his best not to live up to his potential.He's obsessed with serial killers, but really doesn't want to become one. So for his own sake, and the safety of those around him, he lives by rigid rules he's written for himself, practicing normal life as if it were a private religion that could save him from damnation.Dead bodies are normal to John. He likes them, actually. They don't demand or expect the empathy he's unable to offer. Perhaps that's what gives him the objectivity to recognize that there's something different about the body the police have just found behind the Wash-n-Dry Laundromat---and to appreciate what that difference means.Now, for the first time, John has to confront a danger outside himself, a threat he can't control, a menace to everything and everyone he would love, if only he could.Dan Wells' debut novel is the first volume of a trilogy that will keep you awake and then haunt your dreams.</td>\n",
              "      <td>Dan Wells</td>\n",
              "    </tr>\n",
              "    <tr>\n",
              "      <th>3411</th>\n",
              "      <td>8130839</td>\n",
              "      <td>Bloodrose</td>\n",
              "      <td>Calla has always welcomed war. But now that the final battle is upon her, there's more at stake than fighting. There's saving Ren, even if it incurs Shay's wrath. There's keeping Ansel safe, even if he's been branded a traitor. There's proving herself as the pack's alpha, facing unnamable horrors, and ridding the world of the Keepers' magic once and for all. And then there's deciding what to do when the war ends. If Calla makes it out alive, that is. In this remarkable final installment of the Nightshade trilogy, international bestselling author Andrea Cremer crafts a dynamic novel with twists and turns that will keep you breathless until its final pages.</td>\n",
              "      <td>Andrea Cremer</td>\n",
              "    </tr>\n",
              "    <tr>\n",
              "      <th>3577</th>\n",
              "      <td>9975679</td>\n",
              "      <td>Monsters</td>\n",
              "      <td>It could happen tomorrow . . .An electromagnetic pulse flashes across the sky, destroying every electronic device, wiping out every computerized system, and killing billions.Alex hiked into the woods to say good-bye to her dead parents and her personal demons. Now desperate to find out what happened after the pulse crushes her to the ground, Alex meets up with Tom—a young soldier—and Ellie, a girl whose grandfather was killed by the EMP.For this improvised family and the others who are spared, it’s now a question of who can be trusted and who is no longer human.Author Ilsa J. Bick crafts a terrifying and thrilling post-apocalyptic novel about a world that could become ours at any moment, where those left standing must learn what it means not just to survive, but to live amidst the devastation.</td>\n",
              "      <td>Ilsa J. Bick</td>\n",
              "    </tr>\n",
              "    <tr>\n",
              "      <th>4164</th>\n",
              "      <td>20797535</td>\n",
              "      <td>A Better World</td>\n",
              "      <td>The brilliants changed everything.Since 1980, 1% of the world has been born with gifts we’d only dreamed of. The ability to sense a person’s most intimate secrets, or predict the stock market, or move virtually unseen. For thirty years the world has struggled with a growing divide between the exceptional...and the rest of us.Now a terrorist network led by brilliants has crippled three cities. Supermarket shelves stand empty. 911 calls go unanswered. Fanatics are burning people alive.Nick Cooper has always fought to make the world better for his children. As both a brilliant and an advisor to the president of the United States, he’s against everything the terrorists represent. But as America slides toward a devastating civil war, Cooper is forced to play a game he dares not lose—because his opponents have their own vision of a better world.And to reach it, they’re willing to burn this one down.From Marcus Sakey, “the master of the mindful page turner” (Gillian Flynn) and “one of our best storytellers” (Michael Connelly), Book Two of the Brilliance Saga is a relentless thrill ride that will change the way you look at your world—and the people around you.</td>\n",
              "      <td>Marcus Sakey</td>\n",
              "    </tr>\n",
              "  </tbody>\n",
              "</table>\n",
              "</div>"
            ],
            "text/plain": [
              "       book_id  ...             authors\n",
              "2     41865     ...  Stephenie Meyer   \n",
              "218   17802724  ...  Liane Moriarty    \n",
              "1447  15799166  ...  J. Kenner         \n",
              "2103  7896345   ...  Kelley Armstrong  \n",
              "3260  7187395   ...  Richard Paul Evans\n",
              "3299  6933876   ...  Gail Carriger     \n",
              "3321  7617119   ...  Dan Wells         \n",
              "3411  8130839   ...  Andrea Cremer     \n",
              "3577  9975679   ...  Ilsa J. Bick      \n",
              "4164  20797535  ...  Marcus Sakey      \n",
              "\n",
              "[10 rows x 4 columns]"
            ]
          },
          "metadata": {
            "tags": []
          },
          "execution_count": 34
        }
      ]
    },
    {
      "cell_type": "markdown",
      "metadata": {
        "id": "huFoq1AuLy1X"
      },
      "source": [
        "## Usando BERT reducidos con PCA "
      ]
    },
    {
      "cell_type": "code",
      "metadata": {
        "ExecuteTime": {
          "end_time": "2020-09-05T11:36:54.729372Z",
          "start_time": "2020-09-05T11:36:54.711530Z"
        },
        "colab": {
          "base_uri": "https://localhost:8080/"
        },
        "id": "fUMrLGAcLy1Y",
        "outputId": "253ea6aa-3bfa-4db6-ea33-81361563c270"
      },
      "source": [
        "# libros similares al libro de id 41865 (Twilight) utilizando distancia euclideana. se puede cambiar a \"cosine\" \n",
        "similar_books = find_similar_books(pca20_bert_featmat, query_id = 41865, metric = 'manhattan', topk=10 )\n",
        "similar_books"
      ],
      "execution_count": 35,
      "outputs": [
        {
          "output_type": "execute_result",
          "data": {
            "text/plain": [
              "[41865,\n",
              " 8130839,\n",
              " 7617119,\n",
              " 13522285,\n",
              " 5776788,\n",
              " 11429,\n",
              " 2753843,\n",
              " 6455256,\n",
              " 9579634,\n",
              " 15813668]"
            ]
          },
          "metadata": {
            "tags": []
          },
          "execution_count": 35
        }
      ]
    },
    {
      "cell_type": "code",
      "metadata": {
        "ExecuteTime": {
          "end_time": "2020-09-05T11:36:56.144766Z",
          "start_time": "2020-09-05T11:36:56.133793Z"
        },
        "colab": {
          "base_uri": "https://localhost:8080/",
          "height": 1000
        },
        "id": "1-F1PEPvLy1a",
        "outputId": "2f2b3a0c-92d0-43a8-a6ed-76ec97b29884"
      },
      "source": [
        "df_books[df_books.book_id.isin(similar_books)][['book_id', 'original_title', 'book_description', 'authors']]"
      ],
      "execution_count": 36,
      "outputs": [
        {
          "output_type": "execute_result",
          "data": {
            "text/html": [
              "<div>\n",
              "<style scoped>\n",
              "    .dataframe tbody tr th:only-of-type {\n",
              "        vertical-align: middle;\n",
              "    }\n",
              "\n",
              "    .dataframe tbody tr th {\n",
              "        vertical-align: top;\n",
              "    }\n",
              "\n",
              "    .dataframe thead th {\n",
              "        text-align: right;\n",
              "    }\n",
              "</style>\n",
              "<table border=\"1\" class=\"dataframe\">\n",
              "  <thead>\n",
              "    <tr style=\"text-align: right;\">\n",
              "      <th></th>\n",
              "      <th>book_id</th>\n",
              "      <th>original_title</th>\n",
              "      <th>book_description</th>\n",
              "      <th>authors</th>\n",
              "    </tr>\n",
              "  </thead>\n",
              "  <tbody>\n",
              "    <tr>\n",
              "      <th>2</th>\n",
              "      <td>41865</td>\n",
              "      <td>Twilight</td>\n",
              "      <td>About three things I was absolutely positive.First, Edward was a vampire.Second, there was a part of him—and I didn't know how dominant that part might be—that thirsted for my blood.And third, I was unconditionally and irrevocably in love with him.In the first book of the Twilight Saga, internationally bestselling author Stephenie Meyer introduces Bella Swan and Edward Cullen, a pair of star-crossed lovers whose forbidden relationship ripens against the backdrop of small-town suspicion and a mysterious coven of vampires. This is a love story with bite.</td>\n",
              "      <td>Stephenie Meyer</td>\n",
              "    </tr>\n",
              "    <tr>\n",
              "      <th>1313</th>\n",
              "      <td>9579634</td>\n",
              "      <td>Prince of Thorns</td>\n",
              "      <td>Before the thorns taught me their sharp lessons and bled weakness from me I had but one brother, and I loved him well. But those days are gone and what is left of them lies in my mother's tomb. Now I have many brothers, quick with knife and sword, and as evil as you please. We ride this broken empire and loot its corpse. They say these are violent times, the end of days when the dead roam and monsters haunt the night. All that's true enough, but there's something worse out there, in the dark. Much worse.From being a privileged royal child, raised by a loving mother, Jorg Ancrath has become the Prince of Thorns, a charming, immoral boy leading a grim band of outlaws in a series of raids and atrocities. The world is in chaos: violence is rife, nightmares everywhere. Jorg has the ability to master the living and the dead, but there is still one thing that puts a chill in him. Returning to his father's castle Jorg must confront horrors from his childhood and carve himself a future with all hands turned against him.Mark Lawrence's debut novel tells a tale of blood and treachery, magic and brotherhood and paints a compelling and brutal, and sometimes beautiful, picture of an exceptional boy on his journey toward manhood and the throne.</td>\n",
              "      <td>Mark  Lawrence</td>\n",
              "    </tr>\n",
              "    <tr>\n",
              "      <th>1498</th>\n",
              "      <td>2753843</td>\n",
              "      <td>Revelations</td>\n",
              "      <td>Schuyler Van Alen's blood legacy has just been called into question: is the young vampire in fact a Blue Blood, or is it the sinister Silver Blood that runs through her veins? As controversy swirls, Schuyler is left stranded in the Force household, trapped under the same roof as her cunning nemesis, Mimi Force, and her forbidden crush, Jack Force.When an ancient place of power is threatened in Rio de Janeiro, however, the Blue Bloods need Schuyler on their side. The stakes are high, the battle is bloody; and through it all Schuyler is torn between duty and passion, love and freedom.Romance, glamour, and vampire lore collide in the highly anticipated third book in best-selling author Melissa de la Cruz's Blue Bloods series.</td>\n",
              "      <td>Melissa de la Cruz</td>\n",
              "    </tr>\n",
              "    <tr>\n",
              "      <th>2044</th>\n",
              "      <td>13522285</td>\n",
              "      <td>Severed Heads, Broken Hearts</td>\n",
              "      <td>Golden boy Ezra Faulkner believes everyone has a tragedy waiting for them—a single encounter after which everything that really matters will happen. His particular tragedy waited until he was primed to lose it all: in one spectacular night, a reckless driver shatters Ezra’s knee, his athletic career, and his social life.No longer a front-runner for Homecoming King, Ezra finds himself at the table of misfits, where he encounters new girl Cassidy Thorpe. Cassidy is unlike anyone Ezra’s ever met, achingly effortless, fiercely intelligent, and determined to bring Ezra along on her endless adventures.But as Ezra dives into his new studies, new friendships, and new love, he learns that some people, like books, are easy to misread. And now he must consider: if one’s singular tragedy has already hit and everything after it has mattered quite a bit, what happens when more misfortune strikes? Robyn Schneider’s The Beginning of Everything is a lyrical, witty, and heart-wrenching novel about how difficult it is to play the part that people expect, and how new beginnings can stem from abrupt and tragic endings.</td>\n",
              "      <td>Robyn Schneider</td>\n",
              "    </tr>\n",
              "    <tr>\n",
              "      <th>2752</th>\n",
              "      <td>5776788</td>\n",
              "      <td>Sandman Slim</td>\n",
              "      <td>Supernatural fantasy has a new antihero in Sandman Slim, star of this gripping, gritty new series by Richard Kadrey.Life sucks and then you die. Or, if you’re James Stark, you spend eleven years in Hell as a hitman before finally escaping, only to land back in the hell-on-earth that is Los Angeles.Now Stark’s back, and ready for revenge. And absolution, and maybe even love. But when his first stop saddles him with an abusive talking head, Stark discovers that the road to absolution and revenge is much longer than you’d expect, and both Heaven and Hell have their own ideas for his future.Resurrection sucks. Saving the world is worse.Darkly twisted, irreverent, and completely hilarious, Sandman Slim is the breakthrough novel by an acclaimed author.</td>\n",
              "      <td>Richard Kadrey</td>\n",
              "    </tr>\n",
              "    <tr>\n",
              "      <th>3321</th>\n",
              "      <td>7617119</td>\n",
              "      <td>I Am Not A Serial Killer (John Cleaver, #1)</td>\n",
              "      <td>John Wayne Cleaver is dangerous, and he knows it.He's spent his life doing his best not to live up to his potential.He's obsessed with serial killers, but really doesn't want to become one. So for his own sake, and the safety of those around him, he lives by rigid rules he's written for himself, practicing normal life as if it were a private religion that could save him from damnation.Dead bodies are normal to John. He likes them, actually. They don't demand or expect the empathy he's unable to offer. Perhaps that's what gives him the objectivity to recognize that there's something different about the body the police have just found behind the Wash-n-Dry Laundromat---and to appreciate what that difference means.Now, for the first time, John has to confront a danger outside himself, a threat he can't control, a menace to everything and everyone he would love, if only he could.Dan Wells' debut novel is the first volume of a trilogy that will keep you awake and then haunt your dreams.</td>\n",
              "      <td>Dan Wells</td>\n",
              "    </tr>\n",
              "    <tr>\n",
              "      <th>3411</th>\n",
              "      <td>8130839</td>\n",
              "      <td>Bloodrose</td>\n",
              "      <td>Calla has always welcomed war. But now that the final battle is upon her, there's more at stake than fighting. There's saving Ren, even if it incurs Shay's wrath. There's keeping Ansel safe, even if he's been branded a traitor. There's proving herself as the pack's alpha, facing unnamable horrors, and ridding the world of the Keepers' magic once and for all. And then there's deciding what to do when the war ends. If Calla makes it out alive, that is. In this remarkable final installment of the Nightshade trilogy, international bestselling author Andrea Cremer crafts a dynamic novel with twists and turns that will keep you breathless until its final pages.</td>\n",
              "      <td>Andrea Cremer</td>\n",
              "    </tr>\n",
              "    <tr>\n",
              "      <th>3558</th>\n",
              "      <td>6455256</td>\n",
              "      <td>Worst Case</td>\n",
              "      <td>One by one, children of New York's wealthiest are taken hostage. But the criminal doesn't crave money or power--he only wants to ask the elite if they know the price others pay for their luxurious lifestyles. And, if they don't, he corrects their ignorance--by killing them.To Detective Michael Bennett, it becomes clear that these murders are linked and must be part of a greater, more public demonstration. With the city thrown into chaos, he is forced to team up with FBI agent Emily Parker, and the two set out to capture the killer before he begins his most public lesson yet--a deadly message for the entire city to witness.From the bestselling author who brought you the Alex Cross novels comes James Patterson's most action-packed series yet. With the heart-pounding suspense that only Patterson delivers, Worst Casel leave you gasping for breath until the very end.From the shocking first page to the last exhilarating scene, Worst Case is a non-stop thriller from \"America's #1 storyteller\" –Forbes).</td>\n",
              "      <td>James Patterson, Michael Ledwidge</td>\n",
              "    </tr>\n",
              "    <tr>\n",
              "      <th>4007</th>\n",
              "      <td>15813668</td>\n",
              "      <td>Fifth Grave Past the Light</td>\n",
              "      <td>Never underestimate the power of a woman on a double espresso with a mocha latte chaser high.- T-shirtCharley Davidson isn't your everyday, run-of-the-mill grim reaper. She's more of a paranormal private eye/grim reaper extraordinaire. However, she gets sidetracked when the sexy, sultry son of Satan, Reyes Farrow, moves in next door. To further complicate matters, Reyes is her main suspect in an arson case. Charley has vowed to stay away from him until she can find out the truth...but then dead women start appearing in her apartment, one after another, each lost, confused, and terrified beyond reason. When it becomes apparent that her own sister, Gemma is the serial killer's next target, Charley has no choice but to ask for Reyes's help. Arsonist or not, he's the one man alive who could protect Gemma no matter who or what came at her. But he wants something in return. Charley. All of her, body and soul. And to keep her sister safe, it is a price she is willing to pay.Charley Davidson is at it again in the sexy, suspenseful, and laugh-out-loud funny fifth installment of the New York Times best selling series.</td>\n",
              "      <td>Darynda Jones</td>\n",
              "    </tr>\n",
              "    <tr>\n",
              "      <th>4578</th>\n",
              "      <td>11429</td>\n",
              "      <td>Ever After</td>\n",
              "      <td>In Ever After, bestselling author Karen Kingsbury has created a moving sequel to Even Now. The book opens as Emily Anderson, now twenty years old, attends college on a soccer scholarship. Through an o</td>\n",
              "      <td>Karen Kingsbury</td>\n",
              "    </tr>\n",
              "  </tbody>\n",
              "</table>\n",
              "</div>"
            ],
            "text/plain": [
              "       book_id  ...                            authors\n",
              "2     41865     ...  Stephenie Meyer                  \n",
              "1313  9579634   ...  Mark  Lawrence                   \n",
              "1498  2753843   ...  Melissa de la Cruz               \n",
              "2044  13522285  ...  Robyn Schneider                  \n",
              "2752  5776788   ...  Richard Kadrey                   \n",
              "3321  7617119   ...  Dan Wells                        \n",
              "3411  8130839   ...  Andrea Cremer                    \n",
              "3558  6455256   ...  James Patterson, Michael Ledwidge\n",
              "4007  15813668  ...  Darynda Jones                    \n",
              "4578  11429     ...  Karen Kingsbury                  \n",
              "\n",
              "[10 rows x 4 columns]"
            ]
          },
          "metadata": {
            "tags": []
          },
          "execution_count": 36
        }
      ]
    },
    {
      "cell_type": "markdown",
      "metadata": {
        "id": "VW8iuwo8Ly1c"
      },
      "source": [
        "## Usando BERT-large"
      ]
    },
    {
      "cell_type": "code",
      "metadata": {
        "ExecuteTime": {
          "end_time": "2020-09-05T11:37:00.366878Z",
          "start_time": "2020-09-05T11:37:00.344896Z"
        },
        "colab": {
          "base_uri": "https://localhost:8080/"
        },
        "id": "Owe0gMlcLy1c",
        "outputId": "c9d658b3-d3d5-4d7e-a25c-66d88ec20a22"
      },
      "source": [
        "# libros similares al libro de id 41865 (Twilight) utilizando distancia euclideana. se puede cambiar a \"cosine\" \n",
        "similar_books = find_similar_books(bert_large_featmat, query_id = 41865, metric = 'manhattan', topk=10 )\n",
        "similar_books"
      ],
      "execution_count": 37,
      "outputs": [
        {
          "output_type": "execute_result",
          "data": {
            "text/plain": [
              "[41865,\n",
              " 22611920,\n",
              " 15799166,\n",
              " 6303733,\n",
              " 17675462,\n",
              " 7783191,\n",
              " 22021611,\n",
              " 454856,\n",
              " 7048800,\n",
              " 13188676]"
            ]
          },
          "metadata": {
            "tags": []
          },
          "execution_count": 37
        }
      ]
    },
    {
      "cell_type": "code",
      "metadata": {
        "ExecuteTime": {
          "end_time": "2020-09-05T11:37:01.359277Z",
          "start_time": "2020-09-05T11:37:01.346504Z"
        },
        "colab": {
          "base_uri": "https://localhost:8080/",
          "height": 1000
        },
        "id": "5icRMPVMLy1e",
        "outputId": "be3556ff-6001-43c3-c894-1bf009624976"
      },
      "source": [
        "df_books[df_books.book_id.isin(similar_books)][['book_id', 'original_title', 'book_description', 'authors']]"
      ],
      "execution_count": 19,
      "outputs": [
        {
          "output_type": "execute_result",
          "data": {
            "text/html": [
              "<div>\n",
              "<style scoped>\n",
              "    .dataframe tbody tr th:only-of-type {\n",
              "        vertical-align: middle;\n",
              "    }\n",
              "\n",
              "    .dataframe tbody tr th {\n",
              "        vertical-align: top;\n",
              "    }\n",
              "\n",
              "    .dataframe thead th {\n",
              "        text-align: right;\n",
              "    }\n",
              "</style>\n",
              "<table border=\"1\" class=\"dataframe\">\n",
              "  <thead>\n",
              "    <tr style=\"text-align: right;\">\n",
              "      <th></th>\n",
              "      <th>book_id</th>\n",
              "      <th>original_title</th>\n",
              "      <th>book_description</th>\n",
              "      <th>authors</th>\n",
              "    </tr>\n",
              "  </thead>\n",
              "  <tbody>\n",
              "    <tr>\n",
              "      <th>2</th>\n",
              "      <td>41865</td>\n",
              "      <td>Twilight</td>\n",
              "      <td>About three things I was absolutely positive.First, Edward was a vampire.Second, there was a part of him—and I didn't know how dominant that part might be—that thirsted for my blood.And third, I was unconditionally and irrevocably in love with him.In the first book of the Twilight Saga, internationally bestselling author Stephenie Meyer introduces Bella Swan and Edward Cullen, a pair of star-crossed lovers whose forbidden relationship ripens against the backdrop of small-town suspicion and a mysterious coven of vampires. This is a love story with bite.</td>\n",
              "      <td>Stephenie Meyer</td>\n",
              "    </tr>\n",
              "    <tr>\n",
              "      <th>794</th>\n",
              "      <td>17675462</td>\n",
              "      <td>The Raven Boys</td>\n",
              "      <td>“There are only two reasons a non-seer would see a spirit on St. Mark’s Eve,” Neeve said. “Either you’re his true love . . . or you killed him.”It is freezing in the churchyard, even before the dead arrive.Every year, Blue Sargent stands next to her clairvoyant mother as the soon-to-be dead walk past. Blue herself never sees them—not until this year, when a boy emerges from the dark and speaks directly to her.His name is Gansey, and Blue soon discovers that he is a rich student at Aglionby, the local private school. Blue has a policy of staying away from Aglionby boys. Known as Raven Boys, they can only mean trouble.But Blue is drawn to Gansey, in a way she can’t entirely explain. He has it all—family money, good looks, devoted friends—but he’s looking for much more than that. He is on a quest that has encompassed three other Raven Boys: Adam, the scholarship student who resents all the privilege around him; Ronan, the fierce soul who ranges from anger to despair; and Noah, the taciturn watcher of the four, who notices many things but says very little.For as long as she can remember, Blue has been warned that she will cause her true love to die. She never thought this would be a problem. But now, as her life becomes caught up in the strange and sinister world of the Raven Boys, she’s not so sure anymore.From Maggie Stiefvater, the bestselling and acclaimed author of the Shiver trilogy and The Scorpio Races, comes a spellbinding new series where the inevitability of death and the nature of love lead us to a place we’ve never been before.</td>\n",
              "      <td>Maggie Stiefvater</td>\n",
              "    </tr>\n",
              "    <tr>\n",
              "      <th>1296</th>\n",
              "      <td>13188676</td>\n",
              "      <td>Ignite Me (Shatter Me, #3)</td>\n",
              "      <td>The heart-stopping conclusion to the New York Times bestselling Shatter Me series, which Ransom Riggs, bestselling author of Miss Peregrine’s Home for Peculiar Children, called “a thrilling, high-stakes saga of self-discovery and forbidden love.”With Omega Point destroyed, Juliette doesn’t know if the rebels, her friends, or even Adam are alive. But that won’t keep her from trying to take down The Reestablishment once and for all. Now she must rely on Warner, the handsome commander of Sector 45. The one person she never thought she could trust. The same person who saved her life. He promises to help Juliette master her powers and save their dying world . . . but that’s not all he wants with her.The Shatter Me series is perfect for fans who crave action-packed young adult novels with tantalizing romance like Divergent by Veronica Roth, The Hunger Games by Suzanne Collins, and Legend by Marie Lu. Tahereh Mafi has created a captivating and original story that combines the best of dystopian and paranormal, and was praised by Publishers Weekly as “a gripping read from an author who’s not afraid to take risks.” Now this final book brings the series to a shocking and satisfying end.</td>\n",
              "      <td>Tahereh Mafi</td>\n",
              "    </tr>\n",
              "    <tr>\n",
              "      <th>1409</th>\n",
              "      <td>454856</td>\n",
              "      <td>Look Me in the Eye: My Life with Asperger's</td>\n",
              "      <td>Ever since he was small, John Robison had longed to connect with other people, but by the time he was a teenager, his odd habits—an inclination to blurt out non sequiturs, avoid eye contact, dismantle radios, and dig five-foot holes (and stick his younger brother in them)—had earned him the label “social deviant.” No guidance came from his mother, who conversed with light fixtures, or his father, who spent evenings pickling himself in sherry. It was no wonder he gravitated to machines, which could, at least, be counted on.After fleeing his parents and dropping out of high school, his savant-like ability to visualize electronic circuits landed him a gig with KISS, for whom he created their legendary fire-breathing guitars. Later, he drifted into a “real” job, as an engineer for a major toy company. But the higher Robison rose in the company, the more he had to pretend to be “normal” and do what he simply couldn’t: communicate. It wasn’t worth the paycheck.It was not until he was forty that an insightful therapist told him he had the form of autism called Asperger’s syndrome. That understanding transformed the way Robison saw himself—and the world.Look Me in the Eye is the moving, darkly funny story of growing up with Asperger’s at a time when the diagnosis simply didn’t exist. A born storyteller, Robison takes you inside the head of a boy whom teachers and other adults regarded as “defective,” who could not avail himself of KISS’s endless supply of groupies, and who still has a peculiar aversion to using people’s given names (he calls his wife “Unit Two”). He also provides a fascinating reverse angle on the younger brother he left at the mercy of their nutty parents—the boy who would later change his name to Augusten Burroughs and write the bestselling memoir Running with Scissors.Ultimately, this is the story of Robison’s journey from his world into ours, and his new life as a husband, father, and successful small business owner—repairing his beloved high-end automobiles. It’s a strange, sly, indelible account—sometimes alien, yet always deeply human.</td>\n",
              "      <td>John Elder Robison</td>\n",
              "    </tr>\n",
              "    <tr>\n",
              "      <th>1447</th>\n",
              "      <td>15799166</td>\n",
              "      <td>Release Me (Stark Trilogy, #1)</td>\n",
              "      <td>For fans of Fifty Shades of Grey and Bared to You comes an erotic, emotionally charged romance between a powerful man who’s never heard “no” and a fiery woman who says “yes” on her own terms. He was the one man I couldn’t avoid. And the one man I couldn’t resist. Damien Stark could have his way with any woman. He was sexy, confident, and commanding: Anything he wanted, he got. And what he wanted was me.Our attraction was unmistakable, almost beyond control, but as much as I ached to be his, I feared the pressures of his demands. Submitting to Damien meant I had to bare the darkest truth about my past—and risk breaking us apart.But Damien was haunted, too. And as our passion came to obsess us both, his secrets threatened to destroy him—and us—forever.Release Me is an erotic romance intended for mature audiences.</td>\n",
              "      <td>J. Kenner</td>\n",
              "    </tr>\n",
              "    <tr>\n",
              "      <th>3128</th>\n",
              "      <td>22611920</td>\n",
              "      <td>The Hook Up</td>\n",
              "      <td>The rules: no kissing on the mouth, no staying the night, no telling anyone, and above all… No falling in love.Anna Jones just wants to finish college and figure out her life. Falling for star quarterback Drew Baylor is certainly not on her to do list. Confident and charming, he lives in the limelight and is way too gorgeous for his own good. If only she could ignore his heated stares and stop thinking about doing hot and dirty things with him. Easy right?Too bad he’s committed to making her break every rule…Football has been good to Drew. It’s given him recognition, two National Championships, and the Heisman. But what he really craves is sexy yet prickly Anna Jones. Her cutting humor and blatant disregard for his fame turns him on like nothing else. But there’s one problem: she's shut him down. Completely.That is until a chance encounter leads to the hottest sex of their lives, along with the possibility of something great. Unfortunately, Anna wants it to remain a hook up. Now it’s up to Drew to tempt her with more: more sex, more satisfaction, more time with him. Until she’s truly hooked. It's a good thing Drew knows all about winning.All’s fair in love and football…Game on. New Adult/Contemporary Romance with a HEA - Recommended for readers 17 and older.</td>\n",
              "      <td>Kristen Callihan</td>\n",
              "    </tr>\n",
              "    <tr>\n",
              "      <th>4255</th>\n",
              "      <td>18594594</td>\n",
              "      <td>Cop Town</td>\n",
              "      <td>NEW YORK TIMES BESTSELLERKarin Slaughter, author of the bestselling Will Trent novels, is widely acclaimed as “one of the best crime novelists in America” (The Washington Post). Now she delivers her first stand-alone novel: an epic story of a city in the midst of seismic upheaval, a serial killer targeting cops, and a divided police force tasked with bringing a madman to justice.   Atlanta, 1974: As a brutal murder and a furious manhunt rock the city’s police department, Kate Murphy wonders if her first day on the job will also be her last. She’s determined to defy her privileged background by making her own way—wearing a badge and carrying a gun. But for a beautiful young woman, life will be anything but easy in the macho world of the Atlanta PD, where even the female cops have little mercy for rookies. It’s also the worst day possible to start given that a beloved cop has been gunned down, his brothers in blue are out for blood, and the city is on the edge of war.   Kate isn’t the only woman on the force who’s feeling the heat. Maggie Lawson followed her uncle and brother into the ranks to prove her worth in their cynical eyes. When she and Kate, her new partner, are pushed out of the citywide search for a cop killer, their fury, pain, and pride finally reach the boiling point. With a killer poised to strike again, they will pursue their own line of investigation, risking everything as they venture into the city’s darkest heart.   Relentlessly paced, acutely observed, wickedly funny, and often heartbreaking, Cop Town is Karin Slaughter’s most powerful novel yet—a tour de force of storytelling from our foremost master of character, atmosphere, and suspense.\\nFeatures a preview of Karin Slaughter’s next novel, Pretty Girls\\n \\n \\n“Karin Slaughter is simply one of the best thriller writers working today, and Cop Town shows the author at the top of her game—relentless pacing, complex characters, and gritty realism, all set against the backdrop of a city on the edge. Slaughter’s eye for detail and truth is unmatched. . . . I’d follow her anywhere.”—Gillian Flynn “Cop Town proves Karin Slaughter is one of America’s best writers. . . . She pulls her readers into a twisted tale of mystery and keeps them fascinated from start to finish.”—The Huffington Post“Stunning . . . Karin Slaughter breaks new ground with this riveting story. If you haven’t yet read her, this is the moment.”—Michael Connelly“Compulsively readable . . . will have your heart racing.”—O: The Oprah Magazine\\n \\n“Intense . . . engrossing . . . evocative . . . [Karin Slaughter’s] first stand-alone novel [has] a gritty, action-packed plot and strong, believable characters.”—Associated Press  “Slaughter graphically exposes the rampant racism, homophobia, and misogyny of cop culture in the 1970s. . . . Winning leads, the retro setting, and a riveting plot make this one of Slaughter’s best.”—Booklist (starred review)  “Superb . . . explosive . . . [Cop Town] is sure to win over readers new to Slaughter’s work while reminding old fans of her enormous talent.”—Library Journal (starred review)  “Evocative writing . . . amazing characters . . . with edge-of-your-seat suspense and a riveting plot . . . Slaughter’s first stand-alone book is a knockout.”—RT Book Reviews</td>\n",
              "      <td>Karin Slaughter</td>\n",
              "    </tr>\n",
              "    <tr>\n",
              "      <th>4285</th>\n",
              "      <td>6303733</td>\n",
              "      <td>That Old Cape Magic</td>\n",
              "      <td>Following Bridge of Sighs—a national best seller hailed by The Boston Globe as “an astounding achievement” and “a masterpiece”—Richard Russo gives us the story of a marriage, and of all the other ties that bind, from parents and in-laws to children and the promises of youth.Griffin has been tooling around for nearly a year with his father’s ashes in the trunk, but his mother is very much alive and not shy about calling on his cell phone. She does so as he drives down to Cape Cod, where he and his wife, Joy, will celebrate the marriage of their daughter Laura’s best friend. For Griffin this is akin to driving into the past, since he took his childhood summer vacations here, his parents’ respite from the hated Midwest. And the Cape is where he and Joy honeymooned, in the course of which they drafted the Great Truro Accord, a plan for their lives together that’s now thirty years old and has largely come true. He’d left screenwriting and Los Angeles behind for the sort of New England college his snobby academic parents had always aspired to in vain; they’d moved into an old house full of character; and they’d started a family. Check, check and check.But be careful what you pray for, especially if you manage to achieve it. By the end of this perfectly lovely weekend, the past has so thoroughly swamped the present that the future suddenly hangs in the balance. And when, a year later, a far more important wedding takes place, their beloved Laura’s, on the coast of Maine, Griffin’s chauffeuring two urns of ashes as he contends once more with Joy and her large, unruly family, and both he and she have brought dates along. How in the world could this have happened?That Old Cape Magic is a novel of deep introspection and every family feeling imaginable, with a middle-aged man confronting his parents and their failed marriage, his own troubled one, his daughter’s new life and, finally, what it was he thought he wanted and what in fact he has. The storytelling is flawless throughout, moments of great comedy and even hilarity alternating with others of rueful understanding and heart-stopping sadness, and its ending is at once surprising, uplifting and unlike anything this Pulitzer Prize winner has ever written.From the Hardcover edition.</td>\n",
              "      <td>Richard Russo, Arthur Morey</td>\n",
              "    </tr>\n",
              "    <tr>\n",
              "      <th>4347</th>\n",
              "      <td>7783191</td>\n",
              "      <td>The Invisible Gorilla</td>\n",
              "      <td>Reading this book will make you less sure of yourself—and that’s a good thing. In The Invisible Gorilla, Christopher Chabris and Daniel Simons, creators of one of psychology’s most famous experiments, use remarkable stories and counterintuitive scientific findings to demonstrate an important truth: Our minds don’t work the way we think they do. We think we see ourselves and the world as they really are, but we’re actually missing a whole lot.Again and again, we think we experience and understand the world as it is, but our thoughts are beset by everyday illusions. We write traffic laws and build criminal cases on the assumption that people will notice when something unusual happens right in front of them. We’re sure we know where we were on 9/11, falsely believing that vivid memories are seared into our minds with perfect fidelity. And as a society, we spend billions on devices to train our brains because we’re continually tempted by the lure of quick fixes and effortless self-improvement.  The Invisible Gorilla reveals the myriad ways that our intuitions can deceive us, but it’s much more than a catalog of human failings. Chabris and Simons explain why we succumb to these everyday illusions and what we can do to inoculate ourselves against their effects. Ultimately, the book provides a kind of x-ray vision into our own minds, making it possible to pierce the veil of illusions that clouds our thoughts and to think clearly for perhaps the first time.</td>\n",
              "      <td>Christopher Chabris, Daniel Simons</td>\n",
              "    </tr>\n",
              "    <tr>\n",
              "      <th>4531</th>\n",
              "      <td>13568619</td>\n",
              "      <td>The Shadowhunter's Codex</td>\n",
              "      <td>The Clave is pleased to announce the newest edition of the Nephilim’s oldest and most famous training manual: the Shadowhunter’s Codex. Since the thirteenth century, the Codex has been the young Shadowhunter’s best friend. When you’re being swarmed by demons it can be easy to forget the finer points of obscure demon languages or the fastest way to stop an attack of Raum demons. With the Codex by your side, you never have to worry.  Now in its twenty-seventh edition, the Codex covers it all: the history and the laws of our world; how to identify, interact with, and if necessary, kill that world’s many colorful denizens; which end of the stele is the end you write with. No more will your attempt to fight off rogue vampires and warlocks be slowed by the need to answer endless questions from your new recruits: What is a Pyxis? Why don’t we use guns? If I can’t see a warlock’s mark, is there a polite way to ask him where it is? Where do we get all our holy water? Geography, History, Magic, and Zoology textbook all rolled into one, the Codex is here to help new Shadowhunters navigate the beautiful, often brutal world that we inhabit.  Do not let it be said that the Clave is outdated or, as the younger Shadowhunters say, “uncool”: this new edition of the Codex will be available not only in the usual magically-sealed demonskin binding, but also in a smart, modern edition using all of today’s most exciting printing techniques, including such new features as a sturdy clothbound cover, a protective dust jacket, and information about title, author, publisher, and so on conveniently available right on the cover. You’ll be pleased to know that it fits neatly into most satchels, and unlike previous editions, it rarely sets off alarm wards.  The old woodcuts and engravings have been replaced as well: instead, you’ll find lavish modern illustrations by some of the brightest luminaries of the fantastic. Creatures, weapons, people, and places have been carefully and accurately rendered by the likes of Rebecca Guay, Charles Vess, Jim Nelson, Theo Black, Elisabeth Alba, and Cassandra Jean. Chapters are beautifully introduced by the drawings of Michael Kaluta, and along with our condensation of the classic 2,450-page tome, A History of the Nephilim, you will find a selection of the best of the lovely illustrations of that volume by John Dollar.  This edition of the Codex will be available in Institute libraries and what mundanes sometimes call “book stores” in October 2013.</td>\n",
              "      <td>Cassandra Clare, Joshua Lewis</td>\n",
              "    </tr>\n",
              "  </tbody>\n",
              "</table>\n",
              "</div>"
            ],
            "text/plain": [
              "       book_id  ...                             authors\n",
              "2     41865     ...  Stephenie Meyer                   \n",
              "794   17675462  ...  Maggie Stiefvater                 \n",
              "1296  13188676  ...  Tahereh Mafi                      \n",
              "1409  454856    ...  John Elder Robison                \n",
              "1447  15799166  ...  J. Kenner                         \n",
              "3128  22611920  ...  Kristen Callihan                  \n",
              "4255  18594594  ...  Karin Slaughter                   \n",
              "4285  6303733   ...  Richard Russo, Arthur Morey       \n",
              "4347  7783191   ...  Christopher Chabris, Daniel Simons\n",
              "4531  13568619  ...  Cassandra Clare, Joshua Lewis     \n",
              "\n",
              "[10 rows x 4 columns]"
            ]
          },
          "metadata": {
            "tags": []
          },
          "execution_count": 19
        }
      ]
    },
    {
      "cell_type": "markdown",
      "metadata": {
        "id": "GhcdSuO8Ly1h"
      },
      "source": [
        "## Usando BERT-large reducidos con PCA "
      ]
    },
    {
      "cell_type": "code",
      "metadata": {
        "ExecuteTime": {
          "end_time": "2020-09-05T11:37:06.242137Z",
          "start_time": "2020-09-05T11:37:06.227193Z"
        },
        "colab": {
          "base_uri": "https://localhost:8080/"
        },
        "id": "xj6IXe1qLy1i",
        "outputId": "13ecb8cb-4c27-44f5-ba76-3421b43334bd"
      },
      "source": [
        "# libros similares al libro de id 41865 (Twilight) utilizando distancia euclideana. se puede cambiar a \"cosine\" \n",
        "similar_books = find_similar_books(pca20_bert_large_featmat, query_id = 41865, metric = 'manhattan', topk=10 )\n",
        "similar_books"
      ],
      "execution_count": 38,
      "outputs": [
        {
          "output_type": "execute_result",
          "data": {
            "text/plain": [
              "[41865,\n",
              " 13188676,\n",
              " 18126198,\n",
              " 17411703,\n",
              " 22611920,\n",
              " 15799166,\n",
              " 17623975,\n",
              " 6303733,\n",
              " 704043,\n",
              " 13522957]"
            ]
          },
          "metadata": {
            "tags": []
          },
          "execution_count": 38
        }
      ]
    },
    {
      "cell_type": "code",
      "metadata": {
        "ExecuteTime": {
          "end_time": "2020-09-05T11:37:08.218656Z",
          "start_time": "2020-09-05T11:37:08.206096Z"
        },
        "colab": {
          "base_uri": "https://localhost:8080/",
          "height": 1000
        },
        "id": "aD5dtU16Ly1k",
        "outputId": "94c1727e-6db6-4f37-d7f8-3eaba2755186"
      },
      "source": [
        "df_books[df_books.book_id.isin(similar_books)][['book_id', 'original_title', 'book_description', 'authors']]"
      ],
      "execution_count": 39,
      "outputs": [
        {
          "output_type": "execute_result",
          "data": {
            "text/html": [
              "<div>\n",
              "<style scoped>\n",
              "    .dataframe tbody tr th:only-of-type {\n",
              "        vertical-align: middle;\n",
              "    }\n",
              "\n",
              "    .dataframe tbody tr th {\n",
              "        vertical-align: top;\n",
              "    }\n",
              "\n",
              "    .dataframe thead th {\n",
              "        text-align: right;\n",
              "    }\n",
              "</style>\n",
              "<table border=\"1\" class=\"dataframe\">\n",
              "  <thead>\n",
              "    <tr style=\"text-align: right;\">\n",
              "      <th></th>\n",
              "      <th>book_id</th>\n",
              "      <th>original_title</th>\n",
              "      <th>book_description</th>\n",
              "      <th>authors</th>\n",
              "    </tr>\n",
              "  </thead>\n",
              "  <tbody>\n",
              "    <tr>\n",
              "      <th>2</th>\n",
              "      <td>41865</td>\n",
              "      <td>Twilight</td>\n",
              "      <td>About three things I was absolutely positive.First, Edward was a vampire.Second, there was a part of him—and I didn't know how dominant that part might be—that thirsted for my blood.And third, I was unconditionally and irrevocably in love with him.In the first book of the Twilight Saga, internationally bestselling author Stephenie Meyer introduces Bella Swan and Edward Cullen, a pair of star-crossed lovers whose forbidden relationship ripens against the backdrop of small-town suspicion and a mysterious coven of vampires. This is a love story with bite.</td>\n",
              "      <td>Stephenie Meyer</td>\n",
              "    </tr>\n",
              "    <tr>\n",
              "      <th>885</th>\n",
              "      <td>18126198</td>\n",
              "      <td>Four: A Divergent Collection</td>\n",
              "      <td>Two years before Beatrice Prior made her choice, the sixteen-year-old son of Abnegation’s faction leader did the same. Tobias’s transfer to Dauntless is a chance to begin again. Here, he will not be called the name his parents gave him. Here, he will not let fear turn him into a cowering child.Newly christened “Four,” he discovers during initiation that he will succeed in Dauntless. Initiation is only the beginning, though; Four must claim his place in the Dauntless hierarchy. His decisions will affect future initiates as well as uncover secrets that could threaten his own future—and the future of the entire faction system.Two years later, Four is poised to take action, but the course is still unclear. The first new initiate who jumps into the net might change all that. With her, the way to righting their world might become clear. With her, it might become possible to be Tobias once again.From #1 New York Times bestselling author Veronica Roth comes a companion volume to the worldwide bestselling DIVERGENT series, told from the per-spective of the immensely popular character Tobias. The four pieces included here—THE TRANSFER, THE INITIATE, THE SON, and THE TRAITOR—plus three additional exclusive scenes, give readers an electrifying glimpse into the history and heart of Tobias, and set the stage for the epic saga of the DIVERGENT trilogy.</td>\n",
              "      <td>Veronica Roth</td>\n",
              "    </tr>\n",
              "    <tr>\n",
              "      <th>1296</th>\n",
              "      <td>13188676</td>\n",
              "      <td>Ignite Me (Shatter Me, #3)</td>\n",
              "      <td>The heart-stopping conclusion to the New York Times bestselling Shatter Me series, which Ransom Riggs, bestselling author of Miss Peregrine’s Home for Peculiar Children, called “a thrilling, high-stakes saga of self-discovery and forbidden love.”With Omega Point destroyed, Juliette doesn’t know if the rebels, her friends, or even Adam are alive. But that won’t keep her from trying to take down The Reestablishment once and for all. Now she must rely on Warner, the handsome commander of Sector 45. The one person she never thought she could trust. The same person who saved her life. He promises to help Juliette master her powers and save their dying world . . . but that’s not all he wants with her.The Shatter Me series is perfect for fans who crave action-packed young adult novels with tantalizing romance like Divergent by Veronica Roth, The Hunger Games by Suzanne Collins, and Legend by Marie Lu. Tahereh Mafi has created a captivating and original story that combines the best of dystopian and paranormal, and was praised by Publishers Weekly as “a gripping read from an author who’s not afraid to take risks.” Now this final book brings the series to a shocking and satisfying end.</td>\n",
              "      <td>Tahereh Mafi</td>\n",
              "    </tr>\n",
              "    <tr>\n",
              "      <th>1416</th>\n",
              "      <td>17623975</td>\n",
              "      <td>Just One Day</td>\n",
              "      <td>From the New York Times bestselling author of If I Stay Allyson Healey's life is exactly like her suitcase—packed, planned, ordered. Then on the last day of her three-week post-graduation European tour, she meets Willem. A free-spirited, roving actor, Willem is everything she’s not, and when he invites her to abandon her plans and come to Paris with him, Allyson says yes. This uncharacteristic decision leads to a day of risk and romance, liberation and intimacy: 24 hours that will transform Allyson’s life.A book about love, heartbreak, travel, identity, and the “accidents” of fate, Just One Day shows us how sometimes in order to get found, you first have to get lost. . . and how often the people we are seeking are much closer than we know.The first in a sweepingly romantic duet of novels. Willem’s story—Just One Year—is coming soon!</td>\n",
              "      <td>Gayle Forman</td>\n",
              "    </tr>\n",
              "    <tr>\n",
              "      <th>1447</th>\n",
              "      <td>15799166</td>\n",
              "      <td>Release Me (Stark Trilogy, #1)</td>\n",
              "      <td>For fans of Fifty Shades of Grey and Bared to You comes an erotic, emotionally charged romance between a powerful man who’s never heard “no” and a fiery woman who says “yes” on her own terms. He was the one man I couldn’t avoid. And the one man I couldn’t resist. Damien Stark could have his way with any woman. He was sexy, confident, and commanding: Anything he wanted, he got. And what he wanted was me.Our attraction was unmistakable, almost beyond control, but as much as I ached to be his, I feared the pressures of his demands. Submitting to Damien meant I had to bare the darkest truth about my past—and risk breaking us apart.But Damien was haunted, too. And as our passion came to obsess us both, his secrets threatened to destroy him—and us—forever.Release Me is an erotic romance intended for mature audiences.</td>\n",
              "      <td>J. Kenner</td>\n",
              "    </tr>\n",
              "    <tr>\n",
              "      <th>2106</th>\n",
              "      <td>704043</td>\n",
              "      <td>Kiss of Midnight</td>\n",
              "      <td>He watches her from across the crowded dance club, a sensual black-haired stranger who stirs Gabrielle Maxwell’s deepest fantasies. But nothing about this night—or this man—is what it seems. For when Gabrielle witnesses a murder outside the club, reality shifts into something dark and deadly. In that shattering instant she is thrust into a realm she never knew existed—a realm where vampires stalk the shadows and a blood war is set to ignite.Lucan Thorne despises the violence carried out by his lawless brethren. A vampire himself, Lucan is a Breed warrior, sworn to protect his kind—and the unwitting humans existing alongside them—from the mounting threat of the Rogues. Lucan cannot risk binding himself to a mortal woman, but when Gabrielle is targeted by his enemies, he has no choice but to bring her into the dark underworld he commands.Here, in the arms of the Breed’s formidable leader, Gabrielle will confront an extraordinary destiny of danger, seduction, and the darkest pleasures of all. . . .</td>\n",
              "      <td>Lara Adrian</td>\n",
              "    </tr>\n",
              "    <tr>\n",
              "      <th>2635</th>\n",
              "      <td>17411703</td>\n",
              "      <td>Complete Me</td>\n",
              "      <td>This sexy, emotionally charged romance continues the story of Damien Stark, the powerful multimillionaire who’s never had to take “no” for an answer, and Nikki Fairchild, the Southern belle who only says “yes” on her own terms.Our desire runs deep. But our secrets cut close. Beautiful, strong, and commanding, Damien Stark fills a void in me that no other man can touch. His fierce cravings push me beyond the brink of bliss—and unleash a wild passion that utterly consumes us both.Yet beneath his need for dominance, he carries the wounds of a painful past. Haunted by a legacy of dark secrets and broken trust, he seeks release in our shared ecstasy, the  heat between us burning stronger each day.Our attraction is undeniable, our obsession inevitable. Yet not even Damien can run from his ghosts, or shield us from the dangers yet to come.Complete Me is an erotic romance intended for mature audiences.</td>\n",
              "      <td>J. Kenner</td>\n",
              "    </tr>\n",
              "    <tr>\n",
              "      <th>3128</th>\n",
              "      <td>22611920</td>\n",
              "      <td>The Hook Up</td>\n",
              "      <td>The rules: no kissing on the mouth, no staying the night, no telling anyone, and above all… No falling in love.Anna Jones just wants to finish college and figure out her life. Falling for star quarterback Drew Baylor is certainly not on her to do list. Confident and charming, he lives in the limelight and is way too gorgeous for his own good. If only she could ignore his heated stares and stop thinking about doing hot and dirty things with him. Easy right?Too bad he’s committed to making her break every rule…Football has been good to Drew. It’s given him recognition, two National Championships, and the Heisman. But what he really craves is sexy yet prickly Anna Jones. Her cutting humor and blatant disregard for his fame turns him on like nothing else. But there’s one problem: she's shut him down. Completely.That is until a chance encounter leads to the hottest sex of their lives, along with the possibility of something great. Unfortunately, Anna wants it to remain a hook up. Now it’s up to Drew to tempt her with more: more sex, more satisfaction, more time with him. Until she’s truly hooked. It's a good thing Drew knows all about winning.All’s fair in love and football…Game on. New Adult/Contemporary Romance with a HEA - Recommended for readers 17 and older.</td>\n",
              "      <td>Kristen Callihan</td>\n",
              "    </tr>\n",
              "    <tr>\n",
              "      <th>4251</th>\n",
              "      <td>13522957</td>\n",
              "      <td>Feral Sins</td>\n",
              "      <td>If your inner wolf and your body react rather enthusiastically to a psychotic Alpha male who’s own wolf has a tendency to turn feral, it can’t be a good thing, can it? Entering into a bargain with him wouldn’t be good either. Unfortunately, Taryn Warner, a latent wolf shifter, doesn’t have many options open to her right now. Okay, she has no options. Basically it comes down to whether she’ll do what it takes to escape the arranged mating with the sick SOB that her father set up. As the answer in this case is yes, it looks as though she’ll have to agree to Trey Coleman’s deal…she’ll have to mate with him instead. Having always disliked shifter politics, Trey Coleman hadn’t bothered trying to form alliances with other packs. Now that his uncle – a wolf with many alliances – means to take Trey’s territory and his pack, he has no option but to form some alliances of his own very quickly or he’ll be easily outnumbered in the upcoming battle. He figures that the easiest way to do that would be to mate with a female whose Alpha is powerful and influential. There’s only one problem with that – he would then be stuck with her, and the last thing Trey wants is a mate. When he hears of Taryn’s situation, he offers her a deal – if she falsely claims he’s her true mate and allows him to claim her, he’ll save her from her arranged mating and then let her leave after the battle with his uncle is over. Sounds like a pretty straightforward deal...but soon Taryn and Trey realize they got more than they bargained for. Their mating instincts to protect and possess are weighing on them, they crave each other’s touch and company, and their inner wolves don’t like it whenever they’re apart. Add in that they’ll have to deal with this for an entire three months until the day of the battle finally arrives, and they’ve got themselves a recipe for disaster – or maybe for something quite the opposite. Warning: This novel contains an extremely sarcastic Alpha female, a broody possessive Alpha male, bitter in-laws, voyeuristic enforcers, a whole lot of dirty talk, and steamy bedroom battles for dominance. Reader Advisory: This book also contains a graphic ménage scene - not for the faint-hearted.</td>\n",
              "      <td>Suzanne Wright</td>\n",
              "    </tr>\n",
              "    <tr>\n",
              "      <th>4285</th>\n",
              "      <td>6303733</td>\n",
              "      <td>That Old Cape Magic</td>\n",
              "      <td>Following Bridge of Sighs—a national best seller hailed by The Boston Globe as “an astounding achievement” and “a masterpiece”—Richard Russo gives us the story of a marriage, and of all the other ties that bind, from parents and in-laws to children and the promises of youth.Griffin has been tooling around for nearly a year with his father’s ashes in the trunk, but his mother is very much alive and not shy about calling on his cell phone. She does so as he drives down to Cape Cod, where he and his wife, Joy, will celebrate the marriage of their daughter Laura’s best friend. For Griffin this is akin to driving into the past, since he took his childhood summer vacations here, his parents’ respite from the hated Midwest. And the Cape is where he and Joy honeymooned, in the course of which they drafted the Great Truro Accord, a plan for their lives together that’s now thirty years old and has largely come true. He’d left screenwriting and Los Angeles behind for the sort of New England college his snobby academic parents had always aspired to in vain; they’d moved into an old house full of character; and they’d started a family. Check, check and check.But be careful what you pray for, especially if you manage to achieve it. By the end of this perfectly lovely weekend, the past has so thoroughly swamped the present that the future suddenly hangs in the balance. And when, a year later, a far more important wedding takes place, their beloved Laura’s, on the coast of Maine, Griffin’s chauffeuring two urns of ashes as he contends once more with Joy and her large, unruly family, and both he and she have brought dates along. How in the world could this have happened?That Old Cape Magic is a novel of deep introspection and every family feeling imaginable, with a middle-aged man confronting his parents and their failed marriage, his own troubled one, his daughter’s new life and, finally, what it was he thought he wanted and what in fact he has. The storytelling is flawless throughout, moments of great comedy and even hilarity alternating with others of rueful understanding and heart-stopping sadness, and its ending is at once surprising, uplifting and unlike anything this Pulitzer Prize winner has ever written.From the Hardcover edition.</td>\n",
              "      <td>Richard Russo, Arthur Morey</td>\n",
              "    </tr>\n",
              "  </tbody>\n",
              "</table>\n",
              "</div>"
            ],
            "text/plain": [
              "       book_id  ...                      authors\n",
              "2     41865     ...  Stephenie Meyer            \n",
              "885   18126198  ...  Veronica Roth              \n",
              "1296  13188676  ...  Tahereh Mafi               \n",
              "1416  17623975  ...  Gayle Forman               \n",
              "1447  15799166  ...  J. Kenner                  \n",
              "2106  704043    ...  Lara Adrian                \n",
              "2635  17411703  ...  J. Kenner                  \n",
              "3128  22611920  ...  Kristen Callihan           \n",
              "4251  13522957  ...  Suzanne Wright             \n",
              "4285  6303733   ...  Richard Russo, Arthur Morey\n",
              "\n",
              "[10 rows x 4 columns]"
            ]
          },
          "metadata": {
            "tags": []
          },
          "execution_count": 39
        }
      ]
    },
    {
      "cell_type": "markdown",
      "metadata": {
        "id": "zaL2FqeJLy1m"
      },
      "source": [
        "### Pregunta 3: \n",
        "Comente los resultados obtenidos, en cuanto a modelo de lenguaje, reduccion de dimensionalidad y métrica de distancia utilizada. \n"
      ]
    },
    {
      "cell_type": "markdown",
      "metadata": {
        "id": "QmWOYk78Ly1n"
      },
      "source": [
        "### Respuesta 3: \n",
        "\n",
        "Podemos ver que en general se repiten libros en la lista de recomendaciones y que, además, estos son los primeros en los modelos de BERT y BERT-Large. De esto podemos pensar que la reducción de dimensionalidad no afecta tanto los resultados obtenidos , por último, según la métrica de distancia (se probó con manhattan), los modelos de BERT y BERT-L no cambian en sus libros más cercanos, BERT-L PCA cambia en algunos libros, pero sigue manteniendo la mayoría y, finalmente, BERT PCA tiene una gran variación en sus más cercanos (Twilight sigue siendo la mejor)."
      ]
    },
    {
      "cell_type": "markdown",
      "metadata": {
        "id": "9DCWpJ15Ly1n"
      },
      "source": [
        "# Recomendaciones "
      ]
    },
    {
      "cell_type": "code",
      "metadata": {
        "ExecuteTime": {
          "end_time": "2020-09-05T11:37:43.885802Z",
          "start_time": "2020-09-05T11:37:43.881309Z"
        },
        "colab": {
          "base_uri": "https://localhost:8080/"
        },
        "id": "A4RyjVZrLy1o",
        "outputId": "bb07adc2-5690-40d0-b936-52e52a01c35f"
      },
      "source": [
        "# format results \n",
        "pd.options.display.max_colwidth = 50\n",
        "pd.set_option('display.max_colwidth', -1)"
      ],
      "execution_count": 22,
      "outputs": [
        {
          "output_type": "stream",
          "text": [
            "/usr/local/lib/python3.6/dist-packages/ipykernel_launcher.py:3: FutureWarning: Passing a negative integer is deprecated in version 1.0 and will not be supported in future version. Instead, use None to not limit the column width.\n",
            "  This is separate from the ipykernel package so we can avoid doing imports until\n"
          ],
          "name": "stderr"
        }
      ]
    },
    {
      "cell_type": "markdown",
      "metadata": {
        "id": "X8sMoG8cLy1q"
      },
      "source": [
        "## Función para obtener recomendacion para cada usuario "
      ]
    },
    {
      "cell_type": "code",
      "metadata": {
        "ExecuteTime": {
          "end_time": "2020-09-05T11:37:45.370939Z",
          "start_time": "2020-09-05T11:37:45.366450Z"
        },
        "id": "HtY3EYYFLy1q"
      },
      "source": [
        "def recommend(embedding, user_id=None, topk=10, metric='cosine'):\n",
        "    \n",
        "    #print(\"user_id = \", user_id)\n",
        "    \n",
        "    user_id = str(user_id)\n",
        "    \n",
        "    #Calculate distance metrics\n",
        "    trx = user_interactions[user_id]\n",
        "    n = embedding.shape[0]\n",
        "    distances = 1e9\n",
        "    \n",
        "    # recorremos transacciones pasadas del usuario \n",
        "    for t in trx:\n",
        "        query_i = bookid2idx[t]\n",
        "        \n",
        "        # recomendamos items más cercanos a items con los que interactuó el usuario\n",
        "        distances = np.minimum(distances, pairwise_distances(\n",
        "                embedding[query_i].reshape(1,-1), embedding, metric=metric).reshape(-1))\n",
        "\n",
        "    #Rank items de menor a mayor distancia (nos quedamos con los topk)\n",
        "    trx_set = set(trx)\n",
        "    heap = []\n",
        "    for i in range(n):\n",
        "        if idx2bookid[i] in trx_set:\n",
        "            continue\n",
        "        if len(heap) < topk:\n",
        "            heapq.heappush(heap, (-distances[i], i))\n",
        "        else:\n",
        "            heapq.heappushpop(heap, (-distances[i], i))\n",
        "    heap.sort(reverse=True)\n",
        "    \n",
        "    # utilizamos un heap para extraer los items ordenados de menor a mayor distancia \n",
        "    recommended_ids = [idx2bookid[i] for _,i in heap]\n",
        "    \n",
        "    # retornar los que el usuario no haya consumido \n",
        "    filtered_recommended_ids = []\n",
        "    \n",
        "    return recommended_ids"
      ],
      "execution_count": 23,
      "outputs": []
    },
    {
      "cell_type": "markdown",
      "metadata": {
        "id": "POjgLB2tLy1s"
      },
      "source": [
        "## generar recomendaciones para un usuario en particular"
      ]
    },
    {
      "cell_type": "code",
      "metadata": {
        "ExecuteTime": {
          "end_time": "2020-09-05T11:37:47.616219Z",
          "start_time": "2020-09-05T11:37:47.599838Z"
        },
        "colab": {
          "base_uri": "https://localhost:8080/"
        },
        "id": "ThGkxIXzLy1s",
        "outputId": "797eed6f-ea56-429e-de24-38bd47a74532"
      },
      "source": [
        "# recomendación para el usuario id = 49299 , utilizando bert con reduccion de dimensionalidad a 20 \n",
        "user_id = '50101'\n",
        "rec = recommend(pca20_bert_featmat, user_id=user_id, topk=15)\n",
        "rec "
      ],
      "execution_count": 24,
      "outputs": [
        {
          "output_type": "execute_result",
          "data": {
            "text/plain": [
              "[49596,\n",
              " 28703,\n",
              " 7805,\n",
              " 38500,\n",
              " 2161733,\n",
              " 26046,\n",
              " 2120932,\n",
              " 11250317,\n",
              " 29800,\n",
              " 228296,\n",
              " 6050678,\n",
              " 39031,\n",
              " 25,\n",
              " 296264,\n",
              " 4162673]"
            ]
          },
          "metadata": {
            "tags": []
          },
          "execution_count": 24
        }
      ]
    },
    {
      "cell_type": "markdown",
      "metadata": {
        "id": "Ly9T0cQ7Ly1u"
      },
      "source": [
        "## transacciones pasadas del usuario "
      ]
    },
    {
      "cell_type": "code",
      "metadata": {
        "ExecuteTime": {
          "end_time": "2020-09-05T11:38:28.373698Z",
          "start_time": "2020-09-05T11:38:28.362478Z"
        },
        "colab": {
          "base_uri": "https://localhost:8080/",
          "height": 1000
        },
        "id": "-ReUvp9MLy1v",
        "outputId": "7b7f4cfb-3455-40df-90a1-1ad758b90741"
      },
      "source": [
        "past_interactions = user_interactions[str(user_id)]\n",
        "\n",
        "df_books[df_books['book_id'].isin(past_interactions)][['book_id', 'original_title', 'book_description', 'authors']]\n"
      ],
      "execution_count": 25,
      "outputs": [
        {
          "output_type": "execute_result",
          "data": {
            "text/html": [
              "<div>\n",
              "<style scoped>\n",
              "    .dataframe tbody tr th:only-of-type {\n",
              "        vertical-align: middle;\n",
              "    }\n",
              "\n",
              "    .dataframe tbody tr th {\n",
              "        vertical-align: top;\n",
              "    }\n",
              "\n",
              "    .dataframe thead th {\n",
              "        text-align: right;\n",
              "    }\n",
              "</style>\n",
              "<table border=\"1\" class=\"dataframe\">\n",
              "  <thead>\n",
              "    <tr style=\"text-align: right;\">\n",
              "      <th></th>\n",
              "      <th>book_id</th>\n",
              "      <th>original_title</th>\n",
              "      <th>book_description</th>\n",
              "      <th>authors</th>\n",
              "    </tr>\n",
              "  </thead>\n",
              "  <tbody>\n",
              "    <tr>\n",
              "      <th>1</th>\n",
              "      <td>3</td>\n",
              "      <td>Harry Potter and the Philosopher's Stone</td>\n",
              "      <td>Harry Potter's life is miserable. His parents are dead and he's stuck with his heartless relatives, who force him to live in a tiny closet under the stairs. But his fortune changes when he receives a letter that tells him the truth about himself: he's a wizard. A mysterious visitor rescues him from his relatives and takes him to his new home, Hogwarts School of Witchcraft and Wizardry.After a lifetime of bottling up his magical powers, Harry finally feels like a normal kid. But even within the Wizarding community, he is special. He is the boy who lived: the only person to have ever survived a killing curse inflicted by the evil Lord Voldemort, who launched a brutal takeover of the Wizarding world, only to vanish after failing to kill Harry.Though Harry's first year at Hogwarts is the best of his life, not everything is perfect. There is a dangerous secret object hidden within the castle walls, and Harry believes it's his responsibility to prevent it from falling into evil hands. But doing so will bring him into contact with forces more terrifying than he ever could have imagined.Full of sympathetic characters, wildly imaginative situations, and countless exciting details, the first installment in the series assembles an unforgettable magical world and sets the stage for many high-stakes adventures to come.</td>\n",
              "      <td>J.K. Rowling, Mary GrandPré</td>\n",
              "    </tr>\n",
              "    <tr>\n",
              "      <th>18</th>\n",
              "      <td>34</td>\n",
              "      <td>The Fellowship of the Ring</td>\n",
              "      <td>One Ring to rule them all, One Ring to find them, One Ring to bring them all and in the darkeness bind themIn ancient times the Rings of Power were crafted by the Elven-smiths, and Sauron, The Dark Lord, forged the One Ring, filling it with his own power so that he could rule all others. But the One Ring was taken from him, and though he sought it throughout Middle-earth, it remained lost to him. After many ages it fell into the hands of Bilbo Baggins, as told in The Hobbit.In a sleepy village in the Shire, young Frodo Baggins finds himself faced with an immense task, as his elderly cousin Bilbo entrusts the Ring to his care. Frodo must leave his home and make a perilous journey across Middle-earth to the Cracks of Doom, there to destroy the Ring and foil the Dark Lord in his evil purpose.</td>\n",
              "      <td>J.R.R. Tolkien</td>\n",
              "    </tr>\n",
              "    <tr>\n",
              "      <th>23</th>\n",
              "      <td>6</td>\n",
              "      <td>Harry Potter and the Goblet of Fire</td>\n",
              "      <td>Harry Potter is midway through both his training as a wizard and his coming of age. Harry wants to get away from the pernicious Dursleys and go to the International Quidditch Cup with Hermione, Ron, and the Weasleys. He wants to dream about Cho Chang, his crush (and maybe do more than dream). He wants to find out about the mysterious event that supposed to take place at Hogwarts this year, an event involving two other rival schools of magic, and a competition that hasn't happened for hundreds of years. He wants to be a normal, fourteen-year-old wizard. But unfortunately for Harry Potter, he's not normal - even by wizarding standards.And in his case, different can be deadly.-From the back cover</td>\n",
              "      <td>J.K. Rowling, Mary GrandPré</td>\n",
              "    </tr>\n",
              "    <tr>\n",
              "      <th>50</th>\n",
              "      <td>11</td>\n",
              "      <td>The Hitchhiker's Guide to the Galaxy</td>\n",
              "      <td>Seconds before the Earth is demolished to make way for a galactic freeway, Arthur Dent is plucked off the planet by his friend Ford Prefect, a researcher for the revised edition of The Hitchhiker's Guide to the Galaxy who, for the last fifteen years, has been posing as an out-of-work actor.Together this dynamic pair begin a journey through space aided by quotes from The Hitchhiker's Guide (\"A towel is about the most massively useful thing an interstellar hitchhiker can have\") and a galaxy-full of fellow travelers: Zaphod Beeblebrox--the two-headed, three-armed ex-hippie and totally out-to-lunch president of the galaxy; Trillian, Zaphod's girlfriend (formally Tricia McMillan), whom Arthur tried to pick up at a cocktail party once upon a time zone; Marvin, a paranoid, brilliant, and chronically depressed robot; Veet Voojagig, a former graduate student who is obsessed with the disappearance of all the ballpoint pens he bought over the years.</td>\n",
              "      <td>Douglas Adams</td>\n",
              "    </tr>\n",
              "    <tr>\n",
              "      <th>177</th>\n",
              "      <td>33</td>\n",
              "      <td>The Lord of the Rings</td>\n",
              "      <td>A fantastic starter set for new Tolkien fans or readers interested in rediscovering the magic of Middle-earth, this three-volume box set features paperback editions of the complete trilogy -- The Fellowship of the Ring, The Two Towers, and The Return of the King -- each with art from the New Line Productions feature film on the cover.J.R.R. Tolkien's The Lord of the Rings trilogy is a genuine masterpiece. The most widely read and influential fantasy epic of all time, it is also quite simply one of the most memorable and beloved tales ever told. Originally published in 1954, The Lord of the Rings set the framework upon which all epic/quest fantasy since has been built. Through the urgings of the enigmatic wizard Gandalf, young hobbit Frodo Baggins embarks on an urgent, incredibly treacherous journey to destroy the One Ring. This ring -- created and then lost by the Dark Lord, Sauron, centuries earlier -- is a weapon of evil, one that Sauron desperately wants returned to him. With the power of the ring once again his own, the Dark Lord will unleash his wrath upon all of Middle-earth. The only way to prevent this horrible fate from becoming reality is to return the Ring to Mordor, the only place it can be destroyed. Unfortunately for our heroes, Mordor is also Sauron's lair. The Lord of the Rings trilogy is essential reading not only for fans of fantasy but for lovers of classic literature as well...Librarian's note: this edition shares an ISBN with the 2004 edition published by Houghton Mifflin Company</td>\n",
              "      <td>J.R.R. Tolkien</td>\n",
              "    </tr>\n",
              "    <tr>\n",
              "      <th>307</th>\n",
              "      <td>13</td>\n",
              "      <td>The Ultimate Hitchhiker's Guide: Five Complete Novels and One Story</td>\n",
              "      <td>At last in paperback in one complete volume, here are the five novels from Douglas Adams's Hitchhiker series. \"The Hitchhiker's Guide to the Galaxy\"Seconds before the Earth is demolished for a galactic freeway, Arthur Dent is saved by Ford Prefect, a researcher for the revised Guide. Together they stick out their thumbs to the stars and begin a wild journey through time and space.\"The Restaurant at the End of the Universe\"Facing annihilation at the hands of warmongers is a curious time to crave tea. It could only happen to the cosmically displaced Arthur Dent and his comrades as they hurtle across the galaxy in a desperate search for a place to eat.\"Life, the Universe and Everything\"The unhappy inhabitants of planet Krikkit are sick of looking at the night sky- so they plan to destroy it. The universe, that is. Now only five individuals can avert Armageddon: mild-mannered Arthur Dent and his stalwart crew.\"So Long, and Thanks for All the Fish\"Back on Earth, Arthur Dent is ready to believe that the past eight years were all just a figment of his stressed-out imagination. But a gift-wrapped fishbowl with a cryptic inscription conspires to thrust him back to reality. So to speak.\"Mostly Harmless\"Just when Arthur Dent makes the terrible mistake of starting to enjoy life, all hell breaks loose. Can he save the Earth from total obliteration? Can he save the Guide from a hostile alien takeover? Can he save his daughter from herself?Also includes the short story \"Young Zaphod Plays It Safe\".</td>\n",
              "      <td>Douglas Adams</td>\n",
              "    </tr>\n",
              "    <tr>\n",
              "      <th>354</th>\n",
              "      <td>50</td>\n",
              "      <td>Hatchet</td>\n",
              "      <td>Brian is on his way to Canada to visit his estranged father when the pilot of his small prop plane suffers a heart attack. Brian is forced to crash-land the plane in a lake--and finds himself stranded in the remote Canadian wilderness with only his clothing and the hatchet his mother gave him as a present before his departure. Brian had been distraught over his parents' impending divorce and the secret he carries about his mother, but now he is truly desolate and alone. Exhausted, terrified, and hungry, Brian struggles to find food and make a shelter for himself. He has no special knowledge of the woods, and he must find a new kind of awareness and patience as he meets each day's challenges. Is the water safe to drink? Are the berries he finds poisonous? Slowly, Brian learns to turn adversity to his advantage--an invading porcupine unexpectedly shows him how to make fire, a devastating tornado shows him how to retrieve supplies from the submerged airplane. Most of all, Brian leaves behind the self-pity he has felt about his predicament as he summons the courage to stay alive. A story of survival and of transformation, this riveting book has sparked many a reader's interest in venturing into the wild.</td>\n",
              "      <td>Gary Paulsen</td>\n",
              "    </tr>\n",
              "    <tr>\n",
              "      <th>1167</th>\n",
              "      <td>28</td>\n",
              "      <td>Notes from a Small Island</td>\n",
              "      <td>\"Suddenly, in the space of a moment, I realized what it was that I loved about Britain-which is to say, all of it.\"After nearly two decades spent on British soil, Bill Bryson - bestselling author of The Mother Tongue and Made in America-decided to return to the United States. (\"I had recently read,\" Bryson writes, \"that 3.7 million Americans believed that they had been abducted by aliens at one time or another, so it was clear that my people needed me.\") But before departing, he set out on a grand farewell tour of the green and kindly island that had so long been his home.Veering from the ludicrous to the endearing and back again, Notes from a Small Island is a delightfully irreverent jaunt around the unparalleled floating nation that has produced zebra crossings, Shakespeare, Twiggie Winkie's Farm, and places with names like Farleigh Wallop and Titsey. The result is an uproarious social commentary that conveys the true glory of Britain, from the satiric pen of an unapologetic Anglophile.</td>\n",
              "      <td>Bill Bryson</td>\n",
              "    </tr>\n",
              "    <tr>\n",
              "      <th>3513</th>\n",
              "      <td>348</td>\n",
              "      <td>The Door into Summer</td>\n",
              "      <td>It is 1970, and electronics engineer Dan Davis has finally made the invention of a lifetime: a household robot with extraordinary abilities, destined to dramatically change the landscape of everyday routine. Then, with wild success just within reach, Dan's greedy partner and even greedier fiancée steal his work and leave him penniless, and trick him into taking the long sleep—suspended animation for thirty years.</td>\n",
              "      <td>Robert A. Heinlein</td>\n",
              "    </tr>\n",
              "  </tbody>\n",
              "</table>\n",
              "</div>"
            ],
            "text/plain": [
              "      book_id  ...                      authors\n",
              "1     3        ...  J.K. Rowling, Mary GrandPré\n",
              "18    34       ...  J.R.R. Tolkien             \n",
              "23    6        ...  J.K. Rowling, Mary GrandPré\n",
              "50    11       ...  Douglas Adams              \n",
              "177   33       ...  J.R.R. Tolkien             \n",
              "307   13       ...  Douglas Adams              \n",
              "354   50       ...  Gary Paulsen               \n",
              "1167  28       ...  Bill Bryson                \n",
              "3513  348      ...  Robert A. Heinlein         \n",
              "\n",
              "[9 rows x 4 columns]"
            ]
          },
          "metadata": {
            "tags": []
          },
          "execution_count": 25
        }
      ]
    },
    {
      "cell_type": "markdown",
      "metadata": {
        "id": "9l-bFL66Ly1x"
      },
      "source": [
        "## información de recomendaciones "
      ]
    },
    {
      "cell_type": "code",
      "metadata": {
        "ExecuteTime": {
          "end_time": "2020-09-05T11:38:40.965414Z",
          "start_time": "2020-09-05T11:38:40.953210Z"
        },
        "colab": {
          "base_uri": "https://localhost:8080/",
          "height": 1000
        },
        "id": "tEXlU8CFLy1y",
        "outputId": "de9f3b2e-b865-4ea8-a757-f87fd5f08b78"
      },
      "source": [
        "df_books[df_books['book_id'].isin(rec)][['book_id', 'original_title', 'book_description', 'authors']]"
      ],
      "execution_count": 26,
      "outputs": [
        {
          "output_type": "execute_result",
          "data": {
            "text/html": [
              "<div>\n",
              "<style scoped>\n",
              "    .dataframe tbody tr th:only-of-type {\n",
              "        vertical-align: middle;\n",
              "    }\n",
              "\n",
              "    .dataframe tbody tr th {\n",
              "        vertical-align: top;\n",
              "    }\n",
              "\n",
              "    .dataframe thead th {\n",
              "        text-align: right;\n",
              "    }\n",
              "</style>\n",
              "<table border=\"1\" class=\"dataframe\">\n",
              "  <thead>\n",
              "    <tr style=\"text-align: right;\">\n",
              "      <th></th>\n",
              "      <th>book_id</th>\n",
              "      <th>original_title</th>\n",
              "      <th>book_description</th>\n",
              "      <th>authors</th>\n",
              "    </tr>\n",
              "  </thead>\n",
              "  <tbody>\n",
              "    <tr>\n",
              "      <th>149</th>\n",
              "      <td>2120932</td>\n",
              "      <td>The Battle of the Labyrinth</td>\n",
              "      <td>Percy Jackson isn't expecting freshman orientation to be any fun. But when a mysterious mortal acquaintance appears at his potential new school, followed by demon cheerleaders, things quickly move from bad to worse.In this fourth installment of the blockbuster series, time is running out as war between the Olympians and the evil Titan lord Kronos draws near. Even the safe haven of Camp Half-Blood grows more vulnerable by the minute as Kronos's army prepares to invade its once impenetrable borders. To stop the invasion, Percy and his demigod friends must set out on a quest through the Labyrinth - a sprawling underground world with stunning surprises at every turn.</td>\n",
              "      <td>Rick Riordan</td>\n",
              "    </tr>\n",
              "    <tr>\n",
              "      <th>660</th>\n",
              "      <td>29800</td>\n",
              "      <td>Scott Pilgrim, Volume 1: Scott Pilgrim's Precious Little Life</td>\n",
              "      <td>Scott Pilgrim's life is totally sweet. He's 23 years old, he's in a rockband, he's \"between jobs\" and he's dating a cute high school girl. Nothing could possibly go wrong, unless a seriously mind-blowing, dangerously fashionable, rollerblading delivery girl named Ramona Flowers starts cruising through his dreams and sailing by him at parties. Will Scott's awesome life get turned upside-down? Will he have to face Ramona's seven evil ex-boyfriends in battle? The short answer is yes. The long answer is Scott Pilgrim, Volume 1: Scott Pilgrim's Precious Little Life</td>\n",
              "      <td>Bryan Lee O'Malley</td>\n",
              "    </tr>\n",
              "    <tr>\n",
              "      <th>1026</th>\n",
              "      <td>228296</td>\n",
              "      <td>Rosemary's Baby</td>\n",
              "      <td>Rosemary and Guy Woodhouse, an ordinary young couple, settle into a New York City apartment, unaware that the elderly neighbors and their bizarre group of friends have taken a disturbing interest in them. But by the time Rosemary discovers the horrifying truth, it may be far too late!</td>\n",
              "      <td>Ira Levin</td>\n",
              "    </tr>\n",
              "    <tr>\n",
              "      <th>1350</th>\n",
              "      <td>6050678</td>\n",
              "      <td>Leviathan</td>\n",
              "      <td>Prince Aleksander, would-be heir to the Austro-Hungarian throne, is on the run. His own people have turned on him. His title is worthless. All he has is a battletorn war machine and a loyal crew of men.Deryn Sharp is a commoner, disguised as a boy in the British Air Service. She's a brilliant airman. But her secret is in constant danger of being discovered.With World War I brewing, Alek and Deryn's paths cross in the most unexpected way…taking them on a fantastical, around-the-world adventure that will change both their lives forever.</td>\n",
              "      <td>Scott Westerfeld</td>\n",
              "    </tr>\n",
              "    <tr>\n",
              "      <th>1404</th>\n",
              "      <td>2161733</td>\n",
              "      <td>Child 44</td>\n",
              "      <td>In a country ruled by fear, no one is innocent.Stalin's Soviet Union is an official paradise, where citizens live free from crime and fear only one thing: the all-powerful state. Defending this system is idealistic security officer Leo Demidov, a war hero who believes in the iron fist of the law, but when a murderer starts to kill at will and Leo dares to investigate, the State's obedient servant finds himself demoted and exiled. Now, with only his wife at his side, Leo must fight to uncover shocking truths about a killer--and a country where \"crime\" doesn't exist.</td>\n",
              "      <td>Tom Rob Smith</td>\n",
              "    </tr>\n",
              "    <tr>\n",
              "      <th>1493</th>\n",
              "      <td>38500</td>\n",
              "      <td>Women</td>\n",
              "      <td>Alternate cover for this ISBN can be found hereLow-life writer and unrepentant alcoholic Henry Chinaski was born to survive. After decades of slacking off at low-paying dead-end jobs, blowing his cash on booze and women, and scrimping by in flea-bitten apartments, Chinaski sees his poetic star rising at last. Now, at fifty, he is reveling in his sudden rock-star life, running three hundred hangovers a year, and maintaining a sex life that would cripple Casanova.With all of Bukowski's trademark humor and gritty, dark honesty, this 1978 follow-up to Post Office and Factotum is an uncompromising account of life on the edge.</td>\n",
              "      <td>Charles Bukowski</td>\n",
              "    </tr>\n",
              "    <tr>\n",
              "      <th>1501</th>\n",
              "      <td>25</td>\n",
              "      <td>Notes from a Big Country</td>\n",
              "      <td>After living in Britain for two decades, Bill Bryson recently moved back to the United States with his English wife and four children (he had read somewhere that nearly 3 million Americans believed they had been abducted by aliens--as he later put it, \"it was clear my people needed me\"). They were greeted by a new and improved America that boasts microwave pancakes, twenty-four-hour dental-floss hotlines, and the staunch conviction that ice is not a luxury item. Delivering the brilliant comic musings that are a Bryson hallmark, I'm a Stranger Here Myself recounts his sometimes disconcerting reunion with the land of his birth. The result is a book filled with hysterical scenes of one man's attempt to reacquaint himself with his own country, but it is also an extended if at times bemused love letter to the homeland he has returned to after twenty years away.</td>\n",
              "      <td>Bill Bryson</td>\n",
              "    </tr>\n",
              "    <tr>\n",
              "      <th>1716</th>\n",
              "      <td>11250317</td>\n",
              "      <td>The Song of Achilles</td>\n",
              "      <td>Greece in the age of heroes. Patroclus, an awkward young prince, has been exiled to the court of King Peleus and his perfect son Achilles. Despite their difference, Achilles befriends the shamed prince, and as they grow into young men skilled in the arts of war and medicine, their bond blossoms into something deeper - despite the displeasure of Achilles' mother Thetis, a cruel sea goddess. But when word comes that Helen of Sparta has been kidnapped, Achilles must go to war in distant Troy and fulfill his destiny. Torn between love and fear for his friend, Patroclus goes with him, little knowing that the years that follow will test everything they hold dear.</td>\n",
              "      <td>Madeline Miller</td>\n",
              "    </tr>\n",
              "    <tr>\n",
              "      <th>1752</th>\n",
              "      <td>26046</td>\n",
              "      <td>Morrigan's Cross</td>\n",
              "      <td>Number-one New York Times bestselling author Nora Roberts delivers an extraordinary new trilogy—an epic tale that breaks down the boundaries between reality and the otherworldly, while forging together the passions of the men and women caught in a battle for the fate of humanity ...In the last days of high summer, with lightning striking blue in a black sky, the sorcerer stood on a high cliff overlooking the raging sea...Belting out his grief into the storm, Hoyt Mac Cionaoith rails against the evil that has torn his twin brother from their family's embrace. Her name is Lilith. Existing for over a thousand years, she has lured countless men to an immortal doom with her soul-stealing kiss. But now, this woman known as vampire will stop at nothing until she rules this world—and those beyond it...Hoyt is no match for the dark siren. But his powers come from the goddess Morrigan, and it is through her that he will get his chance at vengeance. At Morrigan's charge, he must gather five others to form a ring of power strong enough to overcome Lilith. A circle of six: himself, the witch, the warrior, the scholar, the one of many forms and the one he's lost. And it is in this circle, hundreds of years in the future, where Hoyt will learn how strong his spirit—and his heart—have become...Note: This edition includes a \"Glossary of Irish Words, Characters and Places\" immediately after the story concludes.</td>\n",
              "      <td>Nora Roberts</td>\n",
              "    </tr>\n",
              "    <tr>\n",
              "      <th>2263</th>\n",
              "      <td>7805</td>\n",
              "      <td>Pale Fire</td>\n",
              "      <td>The urbane authority that Vladimir Nabokov brought to every word he ever wrote, and the ironic amusement he cultivated in response to being uprooted and politically exiled twice in his life, never found fuller expression than in Pale Fire published in 1962 after the critical and popular success of Lolita had made him an international literary figure.An ingeniously constructed parody of detective fiction and learned commentary, Pale Fire offers a cornucopia of deceptive pleasures, at the center of which is a 999-line poem written by the literary genius John Shade just before his death. Surrounding the poem is a foreword and commentary by the demented scholar Charles Kinbote, who interweaves adoring literary analysis with the fantastical tale of an assassin from the land of Zembla in pursuit of a deposed king. Brilliantly constructed and wildly inventive, this darkly witty novel of suspense, literary one-upmanship, and political intrigue achieves that rarest of things in literature: perfect tragicomic balance.</td>\n",
              "      <td>Vladimir Nabokov</td>\n",
              "    </tr>\n",
              "    <tr>\n",
              "      <th>2452</th>\n",
              "      <td>39031</td>\n",
              "      <td>The Cabinet of Curiosities</td>\n",
              "      <td>In downtown Manhattan, a gruesome discovery has just been made-an underground charnel house containing the bones of dozens of murder victims. Research reveals that a serial killer was at work in New York's notorious Five Points neighborhood in the 1880s, bent on prolonging his lifespan by any means. When a newspaper story on the old murders appears to ignite a new series of horrifyingly similar killings, panic overtakes New York City. Now, FBI agent Pendergast, journalist Bill Smithback, and archaeologist Nora Kelly join forces to protect themselves from a vicious killer...before they become the next victims.</td>\n",
              "      <td>Douglas Preston, Lincoln Child</td>\n",
              "    </tr>\n",
              "    <tr>\n",
              "      <th>3095</th>\n",
              "      <td>49596</td>\n",
              "      <td>The Secret Adversary</td>\n",
              "      <td>Tommy and Tuppence, two young people short of money and restless for excitement, embark on a daring business scheme – Young Adventurers Ltd.Their advertisement says they are ‘willing to do anything, go anywhere’. But their first assignment, for the sinister Mr Whittington, plunges them into more danger than they ever imagined…</td>\n",
              "      <td>Agatha Christie</td>\n",
              "    </tr>\n",
              "    <tr>\n",
              "      <th>4201</th>\n",
              "      <td>28703</td>\n",
              "      <td>Cosmopolis</td>\n",
              "      <td>It is a stunningly eventful day in the life of Eric Packer, a multi-billionaire who has recently married the heiress of a vast European fortune. A violent protest is being staged by anti-globalist groups and Eric fears that he may be a target. He is the target, but not by the protestors.</td>\n",
              "      <td>Don DeLillo</td>\n",
              "    </tr>\n",
              "    <tr>\n",
              "      <th>4401</th>\n",
              "      <td>296264</td>\n",
              "      <td>The Black Arrow: A Tale of the Two Roses</td>\n",
              "      <td>From the beloved author of Treasure Island Originally serialized in a periodical of boys' adventure fiction, The Black Arrow is a swashbuckling portrait of a young man's journey to discover the heroism within himself. Young Dick Shelton, caught in the midst of England's War of the Roses, finds his loyalties torn between the guardian who will ultimately betray him and the leader of a secret fellowship, The Black Arrow. As Shelton is drawn deeper into this conspiracy, he must distinguish friend from foe and confront war, shipwreck, revenge, murder, and forbidden love, as England's crown threatens to topple around him.</td>\n",
              "      <td>Robert Louis Stevenson</td>\n",
              "    </tr>\n",
              "    <tr>\n",
              "      <th>4651</th>\n",
              "      <td>4162673</td>\n",
              "      <td>The Private Patient</td>\n",
              "      <td>When the notorious investigative journalist Rhoda Gradwyn booked into Mr Chandler-Powell's private clinic in Dorset for the removal of a disfiguring and long-standing facial scar, she had every prospect of a successful operation by a distinguished surgeon, a week's peaceful convalescence in one of Dorset's most beautiful manor houses and the beginning of a new life. She was never to leave Cheverell Manor alive. Dalgliesh and his team are called in to investigate the murder, and later a second death, which are to raise even more complicated problems than the question of innocence or guilt.</td>\n",
              "      <td>P.D. James</td>\n",
              "    </tr>\n",
              "  </tbody>\n",
              "</table>\n",
              "</div>"
            ],
            "text/plain": [
              "       book_id  ...                         authors\n",
              "149   2120932   ...  Rick Riordan                  \n",
              "660   29800     ...  Bryan Lee O'Malley            \n",
              "1026  228296    ...  Ira Levin                     \n",
              "1350  6050678   ...  Scott Westerfeld              \n",
              "1404  2161733   ...  Tom Rob Smith                 \n",
              "1493  38500     ...  Charles Bukowski              \n",
              "1501  25        ...  Bill Bryson                   \n",
              "1716  11250317  ...  Madeline Miller               \n",
              "1752  26046     ...  Nora Roberts                  \n",
              "2263  7805      ...  Vladimir Nabokov              \n",
              "2452  39031     ...  Douglas Preston, Lincoln Child\n",
              "3095  49596     ...  Agatha Christie               \n",
              "4201  28703     ...  Don DeLillo                   \n",
              "4401  296264    ...  Robert Louis Stevenson        \n",
              "4651  4162673   ...  P.D. James                    \n",
              "\n",
              "[15 rows x 4 columns]"
            ]
          },
          "metadata": {
            "tags": []
          },
          "execution_count": 26
        }
      ]
    },
    {
      "cell_type": "markdown",
      "metadata": {
        "id": "N4o9xRnBLy10"
      },
      "source": [
        "# evaluación de las recomendaciones con interacciones de testing "
      ]
    },
    {
      "cell_type": "code",
      "metadata": {
        "ExecuteTime": {
          "end_time": "2020-09-05T11:38:43.009079Z",
          "start_time": "2020-09-05T11:38:43.002843Z"
        },
        "id": "Qvz2y2E4Ly10"
      },
      "source": [
        "# Métricas de evaluación \n",
        "# Obtenido de https://gist.github.com/bwhite/3726239\n",
        "\n",
        "def precision_at_k(r, k):\n",
        "    assert k >= 1\n",
        "    r = np.asarray(r)[:k] != 0\n",
        "    if r.size != k:\n",
        "        raise ValueError('Relevance score length < k')\n",
        "    return np.mean(r)\n",
        "\n",
        "def average_precision(r):\n",
        "    r = np.asarray(r) != 0\n",
        "    out = [precision_at_k(r, k + 1) for k in range(r.size) if r[k]]\n",
        "    if not out:\n",
        "        return 0.\n",
        "    return np.mean(out)\n",
        "\n",
        "def mean_average_precision(rs):\n",
        "    return np.mean([average_precision(r) for r in rs])\n",
        "  \n",
        "def dcg_at_k(r, k):\n",
        "    r = np.asfarray(r)[:k]\n",
        "    if r.size:\n",
        "        return np.sum(np.subtract(np.power(2, r), 1) / np.log2(np.arange(2, r.size + 2)))\n",
        "    return 0.\n",
        "\n",
        "\n",
        "def ndcg_at_k(r, k):\n",
        "    idcg = dcg_at_k(sorted(r, reverse=True), k)\n",
        "\n",
        "    if not idcg:\n",
        "        return 0.\n",
        "    return dcg_at_k(r, k) / idcg\n"
      ],
      "execution_count": 27,
      "outputs": []
    },
    {
      "cell_type": "markdown",
      "metadata": {
        "id": "oofEikZALy12"
      },
      "source": [
        "## Evaluación de recomendación con BERT"
      ]
    },
    {
      "cell_type": "code",
      "metadata": {
        "ExecuteTime": {
          "end_time": "2020-09-05T11:54:57.762827Z",
          "start_time": "2020-09-05T11:47:32.339841Z"
        },
        "colab": {
          "base_uri": "https://localhost:8080/"
        },
        "id": "sSpU6zYVLy12",
        "outputId": "6836bbef-172d-4b8a-fc43-db4ff547cd2c"
      },
      "source": [
        "start = time.time()\n",
        "\n",
        "mean_map = 0.\n",
        "mean_ndcg = 0.\n",
        "\n",
        "embeddings = pca20_bert_featmat\n",
        "topk = 10 \n",
        "\n",
        "for i, u in enumerate(user_interactions_test.keys()):\n",
        "    \n",
        "    print(i, end= '\\r')\n",
        "    \n",
        "    rec = recommend(bert_featmat, user_id = u, topk=topk)\n",
        "    rel_vector = [np.isin(user_interactions_test[u], rec, assume_unique=True).astype(int)]\n",
        "    mean_map += mean_average_precision(rel_vector)\n",
        "    mean_ndcg += ndcg_at_k(rel_vector, topk)\n",
        "\n",
        "mean_map /= len(user_interactions_test)\n",
        "mean_ndcg /= len(user_interactions_test)\n",
        "\n",
        "time_taken = time.time() - start\n"
      ],
      "execution_count": 40,
      "outputs": [
        {
          "output_type": "stream",
          "text": [
            ""
          ],
          "name": "stdout"
        }
      ]
    },
    {
      "cell_type": "code",
      "metadata": {
        "ExecuteTime": {
          "end_time": "2020-09-05T11:54:57.775349Z",
          "start_time": "2020-09-05T11:54:57.768617Z"
        },
        "colab": {
          "base_uri": "https://localhost:8080/"
        },
        "id": "3Qkkdim6Ly14",
        "outputId": "85519002-b9cd-423b-f445-fddaba45d1d1"
      },
      "source": [
        "print('MAP ',mean_map)\n",
        "print('ndcg@10' ,mean_ndcg)\n",
        "print('tiempo de ejecucion {0:.2f} segs'.format(time_taken))\n"
      ],
      "execution_count": 41,
      "outputs": [
        {
          "output_type": "stream",
          "text": [
            "MAP  0.005180859080633007\n",
            "ndcg@10 0.006154232604873147\n",
            "tiempo de ejecucion 577.68 segs\n"
          ],
          "name": "stdout"
        }
      ]
    },
    {
      "cell_type": "markdown",
      "metadata": {
        "id": "F_FMcK2yLy16"
      },
      "source": [
        "## Evaluación de recomendación con BERT reducidos con PCA-20"
      ]
    },
    {
      "cell_type": "code",
      "metadata": {
        "ExecuteTime": {
          "end_time": "2020-09-05T11:55:52.953263Z",
          "start_time": "2020-09-05T11:54:57.781015Z"
        },
        "colab": {
          "base_uri": "https://localhost:8080/"
        },
        "id": "4IBT6rDOLy16",
        "outputId": "d6d0590a-9210-4204-936b-e8f58a9d72d1"
      },
      "source": [
        "start = time.time()\n",
        "\n",
        "mean_map = 0.\n",
        "mean_ndcg = 0.\n",
        "\n",
        "embeddings = pca20_bert_featmat\n",
        "topk = 10 \n",
        "\n",
        "for i, u in enumerate(user_interactions_test.keys()):\n",
        "    \n",
        "    print(i, end= '\\r')\n",
        "    \n",
        "    rec = recommend(pca20_bert_featmat, user_id = u, topk=topk)\n",
        "    rel_vector = [np.isin(user_interactions_test[u], rec, assume_unique=True).astype(int)]\n",
        "    mean_map += mean_average_precision(rel_vector)\n",
        "    mean_ndcg += ndcg_at_k(rel_vector, topk)\n",
        "\n",
        "mean_map /= len(user_interactions_test)\n",
        "mean_ndcg /= len(user_interactions_test)\n",
        "\n",
        "time_taken = time.time() - start\n"
      ],
      "execution_count": 29,
      "outputs": [
        {
          "output_type": "stream",
          "text": [
            ""
          ],
          "name": "stdout"
        }
      ]
    },
    {
      "cell_type": "code",
      "metadata": {
        "ExecuteTime": {
          "end_time": "2020-09-05T11:55:52.966297Z",
          "start_time": "2020-09-05T11:55:52.959124Z"
        },
        "colab": {
          "base_uri": "https://localhost:8080/"
        },
        "id": "RgOgkEliLy18",
        "outputId": "37b8c1b9-e8b8-4eac-c77a-1547e4f0fa77"
      },
      "source": [
        "print('MAP ',mean_map)\n",
        "print('ndcg@10' ,mean_ndcg)\n",
        "print('tiempo de ejecucion {0:.2f} segs'.format(time_taken))"
      ],
      "execution_count": 30,
      "outputs": [
        {
          "output_type": "stream",
          "text": [
            "MAP  0.005289709453236206\n",
            "ndcg@10 0.006279829188646069\n",
            "tiempo de ejecucion 81.56 segs\n"
          ],
          "name": "stdout"
        }
      ]
    },
    {
      "cell_type": "markdown",
      "metadata": {
        "id": "U7PTmqLTLy1-"
      },
      "source": [
        "## Evaluación de recomendación con BERT-large"
      ]
    },
    {
      "cell_type": "code",
      "metadata": {
        "ExecuteTime": {
          "end_time": "2020-09-05T12:05:15.113219Z",
          "start_time": "2020-09-05T11:55:52.972248Z"
        },
        "colab": {
          "base_uri": "https://localhost:8080/"
        },
        "id": "xa2NVGpWLy1_",
        "outputId": "7433660f-ef6a-4df4-cc0c-fb0dd52fe8a3"
      },
      "source": [
        "start = time.time()\n",
        "\n",
        "mean_map = 0.\n",
        "mean_ndcg = 0.\n",
        "\n",
        "topk = 10 \n",
        "\n",
        "for i, u in enumerate(user_interactions_test.keys()):\n",
        "    \n",
        "    print(i, end= '\\r')\n",
        "    \n",
        "    rec = recommend(bert_large_featmat, user_id = u, topk=topk)\n",
        "    rel_vector = [np.isin(user_interactions_test[u], rec, assume_unique=True).astype(int)]\n",
        "    mean_map += mean_average_precision(rel_vector)\n",
        "    mean_ndcg += ndcg_at_k(rel_vector, topk)\n",
        "\n",
        "mean_map /= len(user_interactions_test)\n",
        "mean_ndcg /= len(user_interactions_test)\n",
        "\n",
        "time_taken = time.time() - start"
      ],
      "execution_count": 42,
      "outputs": [
        {
          "output_type": "stream",
          "text": [
            ""
          ],
          "name": "stdout"
        }
      ]
    },
    {
      "cell_type": "code",
      "metadata": {
        "ExecuteTime": {
          "end_time": "2020-09-05T12:05:15.125773Z",
          "start_time": "2020-09-05T12:05:15.119007Z"
        },
        "colab": {
          "base_uri": "https://localhost:8080/"
        },
        "id": "RkNoQttGLy2A",
        "outputId": "bb93db08-d4ee-4f85-aa61-3d838adeed7e"
      },
      "source": [
        "print('MAP ',mean_map)\n",
        "print('ndcg@10' ,mean_ndcg)\n",
        "print('tiempo de ejecucion {0:.2f} segs'.format(time_taken))"
      ],
      "execution_count": 43,
      "outputs": [
        {
          "output_type": "stream",
          "text": [
            "MAP  0.0040714225906388676\n",
            "ndcg@10 0.00552624968600854\n",
            "tiempo de ejecucion 744.13 segs\n"
          ],
          "name": "stdout"
        }
      ]
    },
    {
      "cell_type": "markdown",
      "metadata": {
        "id": "NXcryQvTLy2C"
      },
      "source": [
        "## Evaluación de recomendación con BERT-large reducidos con PCA-20"
      ]
    },
    {
      "cell_type": "code",
      "metadata": {
        "ExecuteTime": {
          "end_time": "2020-09-05T12:06:10.370488Z",
          "start_time": "2020-09-05T12:05:15.131410Z"
        },
        "colab": {
          "base_uri": "https://localhost:8080/"
        },
        "id": "azXZQg8DLy2D",
        "outputId": "6320d1a7-0b00-4718-b04f-693eeefd57f0"
      },
      "source": [
        "start = time.time()\n",
        "\n",
        "mean_map = 0.\n",
        "mean_ndcg = 0.\n",
        "\n",
        "topk = 10 \n",
        "\n",
        "for i, u in enumerate(user_interactions_test.keys()):\n",
        "    \n",
        "    print(i, end= '\\r')\n",
        "    \n",
        "    rec = recommend(pca20_bert_large_featmat, user_id = u, topk=topk)\n",
        "    rel_vector = [np.isin(user_interactions_test[u], rec, assume_unique=True).astype(int)]\n",
        "    mean_map += mean_average_precision(rel_vector)\n",
        "    mean_ndcg += ndcg_at_k(rel_vector, topk)\n",
        "\n",
        "mean_map /= len(user_interactions_test)\n",
        "mean_ndcg /= len(user_interactions_test)\n",
        "\n",
        "time_taken = time.time() - start\n"
      ],
      "execution_count": 31,
      "outputs": [
        {
          "output_type": "stream",
          "text": [
            ""
          ],
          "name": "stdout"
        }
      ]
    },
    {
      "cell_type": "code",
      "metadata": {
        "ExecuteTime": {
          "end_time": "2020-09-05T12:06:10.382416Z",
          "start_time": "2020-09-05T12:06:10.376361Z"
        },
        "colab": {
          "base_uri": "https://localhost:8080/"
        },
        "id": "cftp6LOsLy2G",
        "outputId": "a7783436-647d-481b-9006-591aebd0f00a"
      },
      "source": [
        "print('MAP ',mean_map)\n",
        "print('ndcg@10' ,mean_ndcg)\n",
        "print('tiempo de ejecucion {0:.2f} segs'.format(time_taken))"
      ],
      "execution_count": 32,
      "outputs": [
        {
          "output_type": "stream",
          "text": [
            "MAP  0.004309158981351898\n",
            "ndcg@10 0.005149459934689776\n",
            "tiempo de ejecucion 83.41 segs\n"
          ],
          "name": "stdout"
        }
      ]
    },
    {
      "cell_type": "markdown",
      "metadata": {
        "id": "1D21lw6qLy2I"
      },
      "source": [
        "### Pregunta 4: \n",
        "- Comente los resultados en términos de tiempo de ejecución y métricas de ranking para los 4 modelos. "
      ]
    },
    {
      "cell_type": "markdown",
      "metadata": {
        "id": "5T1fYoh2Ly2I"
      },
      "source": [
        "### Respuesta 4:\n",
        "\n",
        "Respecto a los modelos que utilizan PCA, podemos ver que PCA aplicado sobre BERT traidicional tiene mejores resultados (en la centesíma) tanto para ndcg como para MAP. Como era de esperarse los tiempos de ejecución son bastante similares (ambos son vector de dim=20).\n",
        "\n",
        "Sobre ambos modelos BERT (sin reducción), podemos ver que el modelo con vector de menos dimensiones (BERT) tiene mejores bastante mejores resultados.\n",
        "\n",
        "Son comparamos todos con todos, vemos que los modelos con reducción de dimensionalidad tienen, en general, mejores resultados, esto se puede deber a ruido o a features no importantes presentes en la gran dimensionalidad de los otros modelos.\n"
      ]
    },
    {
      "cell_type": "code",
      "metadata": {
        "id": "LjpWZXbPiS5N"
      },
      "source": [
        ""
      ],
      "execution_count": null,
      "outputs": []
    }
  ]
}