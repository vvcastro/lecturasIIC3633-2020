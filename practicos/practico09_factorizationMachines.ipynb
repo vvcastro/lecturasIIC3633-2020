{
  "nbformat": 4,
  "nbformat_minor": 0,
  "metadata": {
    "kernelspec": {
      "display_name": "Python 3",
      "language": "python",
      "name": "python3"
    },
    "language_info": {
      "codemirror_mode": {
        "name": "ipython",
        "version": 3
      },
      "file_extension": ".py",
      "mimetype": "text/x-python",
      "name": "python",
      "nbconvert_exporter": "python",
      "pygments_lexer": "ipython3",
      "version": "3.6.0"
    },
    "toc": {
      "base_numbering": 1,
      "nav_menu": {},
      "number_sections": true,
      "sideBar": true,
      "skip_h1_title": false,
      "title_cell": "Table of Contents",
      "title_sidebar": "Contents",
      "toc_cell": false,
      "toc_position": {},
      "toc_section_display": true,
      "toc_window_display": false
    },
    "colab": {
      "name": "practico09_factorizationMachines.ipynb",
      "provenance": [],
      "include_colab_link": true
    }
  },
  "cells": [
    {
      "cell_type": "markdown",
      "metadata": {
        "id": "view-in-github",
        "colab_type": "text"
      },
      "source": [
        "<a href=\"https://colab.research.google.com/github/vvcastro/vvcastro-IIC3633-2020/blob/master/practicos/practico09_factorizationMachines.ipynb\" target=\"_parent\"><img src=\"https://colab.research.google.com/assets/colab-badge.svg\" alt=\"Open In Colab\"/></a>"
      ]
    },
    {
      "cell_type": "markdown",
      "metadata": {
        "id": "QCuE-CTtj-2p"
      },
      "source": [
        "# Práctico librería fastFM  - Factorization Machines\n",
        "\n",
        "Clase: IIC3633 Sistemas Recomendadores, PUC Chile\n",
        "\n",
        "En este práctico vamos a utilizar la biblioteca de Python [fastFM](https://github.com/ibayer/fastFM) para recomendación utilizando máquinas de factorización. \n",
        "\n",
        "En este caso utilizaremos un dataset de cervezas, donde además de incluir interacciones de usuarios con los items agregaremos feature de tipo de cerveza. (style-id)"
      ]
    },
    {
      "cell_type": "code",
      "metadata": {
        "id": "PwLTy-hhj-2p",
        "colab": {
          "base_uri": "https://localhost:8080/"
        },
        "outputId": "8c1651f8-d01c-4ea4-d60f-31cdd5bbb916"
      },
      "source": [
        "!curl -L -o \"beer_data.base\" \"https://docs.google.com/uc?export=download&id=1yp9UpqPCESNySlWlDoSEau5aBNKx0nYB\""
      ],
      "execution_count": 1,
      "outputs": [
        {
          "output_type": "stream",
          "text": [
            "  % Total    % Received % Xferd  Average Speed   Time    Time     Time  Current\n",
            "                                 Dload  Upload   Total   Spent    Left  Speed\n",
            "100   388    0   388    0     0    532      0 --:--:-- --:--:-- --:--:--   531\n",
            "100  775k  100  775k    0     0   621k      0  0:00:01  0:00:01 --:--:--  621k\n"
          ],
          "name": "stdout"
        }
      ]
    },
    {
      "cell_type": "code",
      "metadata": {
        "id": "zz009s18j-2q",
        "colab": {
          "base_uri": "https://localhost:8080/"
        },
        "outputId": "f2bf122c-8e44-47c4-f684-05f4e55471a0"
      },
      "source": [
        "!pip3 install fastFM"
      ],
      "execution_count": 2,
      "outputs": [
        {
          "output_type": "stream",
          "text": [
            "Collecting fastFM\n",
            "\u001b[?25l  Downloading https://files.pythonhosted.org/packages/f5/15/fdbb9b9455efa48ffb07b9880a1e567e0c7a7de0acc4aa7f1c5ba9ce4f2c/fastFM-0.2.11-cp36-cp36m-manylinux1_x86_64.whl (483kB)\n",
            "\r\u001b[K     |▊                               | 10kB 11.3MB/s eta 0:00:01\r\u001b[K     |█▍                              | 20kB 14.9MB/s eta 0:00:01\r\u001b[K     |██                              | 30kB 12.2MB/s eta 0:00:01\r\u001b[K     |██▊                             | 40kB 9.4MB/s eta 0:00:01\r\u001b[K     |███▍                            | 51kB 4.5MB/s eta 0:00:01\r\u001b[K     |████                            | 61kB 5.0MB/s eta 0:00:01\r\u001b[K     |████▊                           | 71kB 5.1MB/s eta 0:00:01\r\u001b[K     |█████▍                          | 81kB 5.4MB/s eta 0:00:01\r\u001b[K     |██████                          | 92kB 5.8MB/s eta 0:00:01\r\u001b[K     |██████▊                         | 102kB 6.1MB/s eta 0:00:01\r\u001b[K     |███████▌                        | 112kB 6.1MB/s eta 0:00:01\r\u001b[K     |████████▏                       | 122kB 6.1MB/s eta 0:00:01\r\u001b[K     |████████▉                       | 133kB 6.1MB/s eta 0:00:01\r\u001b[K     |█████████▌                      | 143kB 6.1MB/s eta 0:00:01\r\u001b[K     |██████████▏                     | 153kB 6.1MB/s eta 0:00:01\r\u001b[K     |██████████▉                     | 163kB 6.1MB/s eta 0:00:01\r\u001b[K     |███████████▌                    | 174kB 6.1MB/s eta 0:00:01\r\u001b[K     |████████████▏                   | 184kB 6.1MB/s eta 0:00:01\r\u001b[K     |████████████▉                   | 194kB 6.1MB/s eta 0:00:01\r\u001b[K     |█████████████▌                  | 204kB 6.1MB/s eta 0:00:01\r\u001b[K     |██████████████▎                 | 215kB 6.1MB/s eta 0:00:01\r\u001b[K     |███████████████                 | 225kB 6.1MB/s eta 0:00:01\r\u001b[K     |███████████████▋                | 235kB 6.1MB/s eta 0:00:01\r\u001b[K     |████████████████▎               | 245kB 6.1MB/s eta 0:00:01\r\u001b[K     |█████████████████               | 256kB 6.1MB/s eta 0:00:01\r\u001b[K     |█████████████████▋              | 266kB 6.1MB/s eta 0:00:01\r\u001b[K     |██████████████████▎             | 276kB 6.1MB/s eta 0:00:01\r\u001b[K     |███████████████████             | 286kB 6.1MB/s eta 0:00:01\r\u001b[K     |███████████████████▋            | 296kB 6.1MB/s eta 0:00:01\r\u001b[K     |████████████████████▎           | 307kB 6.1MB/s eta 0:00:01\r\u001b[K     |█████████████████████           | 317kB 6.1MB/s eta 0:00:01\r\u001b[K     |█████████████████████▊          | 327kB 6.1MB/s eta 0:00:01\r\u001b[K     |██████████████████████▍         | 337kB 6.1MB/s eta 0:00:01\r\u001b[K     |███████████████████████         | 348kB 6.1MB/s eta 0:00:01\r\u001b[K     |███████████████████████▊        | 358kB 6.1MB/s eta 0:00:01\r\u001b[K     |████████████████████████▍       | 368kB 6.1MB/s eta 0:00:01\r\u001b[K     |█████████████████████████       | 378kB 6.1MB/s eta 0:00:01\r\u001b[K     |█████████████████████████▊      | 389kB 6.1MB/s eta 0:00:01\r\u001b[K     |██████████████████████████▍     | 399kB 6.1MB/s eta 0:00:01\r\u001b[K     |███████████████████████████     | 409kB 6.1MB/s eta 0:00:01\r\u001b[K     |███████████████████████████▊    | 419kB 6.1MB/s eta 0:00:01\r\u001b[K     |████████████████████████████▌   | 430kB 6.1MB/s eta 0:00:01\r\u001b[K     |█████████████████████████████▏  | 440kB 6.1MB/s eta 0:00:01\r\u001b[K     |█████████████████████████████▉  | 450kB 6.1MB/s eta 0:00:01\r\u001b[K     |██████████████████████████████▌ | 460kB 6.1MB/s eta 0:00:01\r\u001b[K     |███████████████████████████████▏| 471kB 6.1MB/s eta 0:00:01\r\u001b[K     |███████████████████████████████▉| 481kB 6.1MB/s eta 0:00:01\r\u001b[K     |████████████████████████████████| 491kB 6.1MB/s \n",
            "\u001b[?25hRequirement already satisfied: scipy in /usr/local/lib/python3.6/dist-packages (from fastFM) (1.4.1)\n",
            "Requirement already satisfied: cython in /usr/local/lib/python3.6/dist-packages (from fastFM) (0.29.21)\n",
            "Requirement already satisfied: scikit-learn in /usr/local/lib/python3.6/dist-packages (from fastFM) (0.22.2.post1)\n",
            "Requirement already satisfied: numpy in /usr/local/lib/python3.6/dist-packages (from fastFM) (1.18.5)\n",
            "Requirement already satisfied: joblib>=0.11 in /usr/local/lib/python3.6/dist-packages (from scikit-learn->fastFM) (0.17.0)\n",
            "Installing collected packages: fastFM\n",
            "Successfully installed fastFM-0.2.11\n"
          ],
          "name": "stdout"
        }
      ]
    },
    {
      "cell_type": "code",
      "metadata": {
        "id": "ij1npcW9j-2r"
      },
      "source": [
        "import numpy as np\n",
        "import pandas as pd\n",
        "import fastFM\n",
        "from fastFM.datasets import make_user_item_regression\n",
        "from sklearn.model_selection import train_test_split\n",
        "from fastFM import sgd\n",
        "from fastFM import als\n",
        "from sklearn.metrics import mean_squared_error\n",
        "import matplotlib.pyplot as plt\n",
        "from scipy.sparse import csc_matrix\n",
        "from fastFM import mcmc\n",
        "import functools as fct\n",
        "import itertools as itools\n",
        "import random, scipy"
      ],
      "execution_count": 3,
      "outputs": []
    },
    {
      "cell_type": "markdown",
      "metadata": {
        "id": "xrBIO304j-2r"
      },
      "source": [
        "# Antes de recomendar hacemos un analisis de los datos "
      ]
    },
    {
      "cell_type": "code",
      "metadata": {
        "id": "1UdVB0CDj-2r",
        "colab": {
          "base_uri": "https://localhost:8080/",
          "height": 204
        },
        "outputId": "e84d1848-b37e-4d76-e43e-43877f251dae"
      },
      "source": [
        "df = pd.read_csv('beer_data.base',  sep=',',encoding='latin-1')\n",
        "df.head()"
      ],
      "execution_count": 4,
      "outputs": [
        {
          "output_type": "execute_result",
          "data": {
            "text/html": [
              "<div>\n",
              "<style scoped>\n",
              "    .dataframe tbody tr th:only-of-type {\n",
              "        vertical-align: middle;\n",
              "    }\n",
              "\n",
              "    .dataframe tbody tr th {\n",
              "        vertical-align: top;\n",
              "    }\n",
              "\n",
              "    .dataframe thead th {\n",
              "        text-align: right;\n",
              "    }\n",
              "</style>\n",
              "<table border=\"1\" class=\"dataframe\">\n",
              "  <thead>\n",
              "    <tr style=\"text-align: right;\">\n",
              "      <th></th>\n",
              "      <th>userID</th>\n",
              "      <th>itemID</th>\n",
              "      <th>styleID</th>\n",
              "      <th>rating</th>\n",
              "    </tr>\n",
              "  </thead>\n",
              "  <tbody>\n",
              "    <tr>\n",
              "      <th>0</th>\n",
              "      <td>4924</td>\n",
              "      <td>11757</td>\n",
              "      <td>1199</td>\n",
              "      <td>4.5</td>\n",
              "    </tr>\n",
              "    <tr>\n",
              "      <th>1</th>\n",
              "      <td>4924</td>\n",
              "      <td>5441</td>\n",
              "      <td>1199</td>\n",
              "      <td>4.5</td>\n",
              "    </tr>\n",
              "    <tr>\n",
              "      <th>2</th>\n",
              "      <td>4924</td>\n",
              "      <td>19960</td>\n",
              "      <td>1199</td>\n",
              "      <td>5.0</td>\n",
              "    </tr>\n",
              "    <tr>\n",
              "      <th>3</th>\n",
              "      <td>2916</td>\n",
              "      <td>55900</td>\n",
              "      <td>1199</td>\n",
              "      <td>2.5</td>\n",
              "    </tr>\n",
              "    <tr>\n",
              "      <th>4</th>\n",
              "      <td>2916</td>\n",
              "      <td>57110</td>\n",
              "      <td>14879</td>\n",
              "      <td>4.0</td>\n",
              "    </tr>\n",
              "  </tbody>\n",
              "</table>\n",
              "</div>"
            ],
            "text/plain": [
              "   userID  itemID  styleID  rating\n",
              "0    4924   11757     1199     4.5\n",
              "1    4924    5441     1199     4.5\n",
              "2    4924   19960     1199     5.0\n",
              "3    2916   55900     1199     2.5\n",
              "4    2916   57110    14879     4.0"
            ]
          },
          "metadata": {
            "tags": []
          },
          "execution_count": 4
        }
      ]
    },
    {
      "cell_type": "code",
      "metadata": {
        "id": "F8w9KczSj-2r",
        "colab": {
          "base_uri": "https://localhost:8080/"
        },
        "outputId": "78e04190-6c21-4194-acb1-2bb8d96278c4"
      },
      "source": [
        "num_of_items = len(df['itemID'].unique().tolist())\n",
        "num_of_users = len(df['userID'].unique().tolist())\n",
        "num_of_ratings = len(df['userID'])\n",
        "\n",
        "print('Num. of items: {}\\nNum. of users: {}\\nNum. of ratings: {}'.format(num_of_items, num_of_users, num_of_ratings))"
      ],
      "execution_count": 5,
      "outputs": [
        {
          "output_type": "stream",
          "text": [
            "Num. of items: 1836\n",
            "Num. of users: 8320\n",
            "Num. of ratings: 44379\n"
          ],
          "name": "stdout"
        }
      ]
    },
    {
      "cell_type": "code",
      "metadata": {
        "id": "MELB2WB8j-2r",
        "colab": {
          "base_uri": "https://localhost:8080/"
        },
        "outputId": "64056ac5-3cd3-4d42-e488-18087ba73a5d"
      },
      "source": [
        "# rating promedio \n",
        "df.describe()['rating']"
      ],
      "execution_count": 6,
      "outputs": [
        {
          "output_type": "execute_result",
          "data": {
            "text/plain": [
              "count    44379.000000\n",
              "mean         3.865105\n",
              "std          0.712633\n",
              "min          0.000000\n",
              "25%          3.500000\n",
              "50%          4.000000\n",
              "75%          4.500000\n",
              "max          5.000000\n",
              "Name: rating, dtype: float64"
            ]
          },
          "metadata": {
            "tags": []
          },
          "execution_count": 6
        }
      ]
    },
    {
      "cell_type": "code",
      "metadata": {
        "id": "hzn4PQ-qj-2s",
        "colab": {
          "base_uri": "https://localhost:8080/"
        },
        "outputId": "1ad549d3-43d2-4505-db99-e8773b53cb86"
      },
      "source": [
        "# items que han recibido mas ratings\n",
        "df.itemID.value_counts().head()"
      ],
      "execution_count": 7,
      "outputs": [
        {
          "output_type": "execute_result",
          "data": {
            "text/plain": [
              "11757    2206\n",
              "19960    1681\n",
              "16074    1260\n",
              "5441     1253\n",
              "429      1183\n",
              "Name: itemID, dtype: int64"
            ]
          },
          "metadata": {
            "tags": []
          },
          "execution_count": 7
        }
      ]
    },
    {
      "cell_type": "code",
      "metadata": {
        "id": "mU5YTu3ij-2s",
        "colab": {
          "base_uri": "https://localhost:8080/"
        },
        "outputId": "d7161b54-78d4-483b-8de3-88c88ad00d98"
      },
      "source": [
        "# usuarios que han dado mas rating \n",
        "df.userID.value_counts().head()"
      ],
      "execution_count": 8,
      "outputs": [
        {
          "output_type": "execute_result",
          "data": {
            "text/plain": [
              "13     181\n",
              "24     129\n",
              "490    115\n",
              "100    111\n",
              "695    106\n",
              "Name: userID, dtype: int64"
            ]
          },
          "metadata": {
            "tags": []
          },
          "execution_count": 8
        }
      ]
    },
    {
      "cell_type": "code",
      "metadata": {
        "id": "rUOV5ck1j-2s",
        "colab": {
          "base_uri": "https://localhost:8080/"
        },
        "outputId": "da40132b-9567-4f78-c2d9-80e4516becf4"
      },
      "source": [
        "# estilos que han recibido más ratings \n",
        "df.styleID.value_counts().head()"
      ],
      "execution_count": 9,
      "outputs": [
        {
          "output_type": "execute_result",
          "data": {
            "text/plain": [
              "1199     17400\n",
              "394       3584\n",
              "14879     2656\n",
              "263       2104\n",
              "3268      1503\n",
              "Name: styleID, dtype: int64"
            ]
          },
          "metadata": {
            "tags": []
          },
          "execution_count": 9
        }
      ]
    },
    {
      "cell_type": "markdown",
      "metadata": {
        "id": "SemcUuf6j-2s"
      },
      "source": [
        "# Convertir a formato fastFM"
      ]
    },
    {
      "cell_type": "markdown",
      "metadata": {
        "id": "4j2YkbBUj-2s"
      },
      "source": [
        "## funciones "
      ]
    },
    {
      "cell_type": "code",
      "metadata": {
        "id": "tv3lf2lmj-2s"
      },
      "source": [
        "def get_single_entries_in_fm_input_format(data, itemlist):\n",
        "    \n",
        "    '''Cree el formato de entrada necesario (datos, (fila, columna)) para la matriz csc para\n",
        "    las entradas individuales en los datos. Cada entrada ocuparía una fila. Esto significa que\n",
        "    daría como resultado una matriz csc con dimensión (| datos | x | lista de elementos |).\n",
        "    '''\n",
        "    \n",
        "    column = len(itemlist)\n",
        "    row = len(data)\n",
        "    shape = (row, column)\n",
        "\n",
        "    row_inds = np.zeros(len(data), dtype=np.int)\n",
        "    col_inds = np.zeros(len(data), dtype=np.int)\n",
        "    datalist = np.zeros(len(data), dtype=np.float)\n",
        "    \n",
        "    for i in range(len(data)):\n",
        "        item = data[i]\n",
        "        val = 1\n",
        "        datalist[i] = val\n",
        "        \n",
        "        # ubica su posición en la lista de elementos, arroja un error si el elemento no es un\n",
        "        # artículo posible\n",
        "        col_ind = np.where(itemlist==item)[0]\n",
        "        \n",
        "        # no deben ser elementos duplicados en la lista de elementos\n",
        "        assert len(col_ind) == 1\n",
        "        col_ind = col_ind[0]\n",
        "        row_ind = i\n",
        "\n",
        "        col_inds[i] = col_ind\n",
        "        row_inds[i] = row_ind\n",
        "\n",
        "    return datalist, row_inds, col_inds, shape\n",
        "\n",
        "\n",
        "def get_multi_entries_in_fm_input_format(data, itemlist, norm_func=None):\n",
        "    \n",
        "    '''Cree el formato de entrada necesario (datos, (fila, columna)) para la matriz csc para\n",
        "    las entradas múltiples en los datos. Cada conjunto de entradas múltiples ocuparía una fila.\n",
        "    Esto significa que daría como resultado una matriz csc con dimensión\n",
        "    (| conjuntos de entradas en datos | x | lista de elementos |).\n",
        "    '''\n",
        "    \n",
        "    column = len(itemlist)\n",
        "    \n",
        "    # número de conjuntos de entradas en los datos\n",
        "    row = len(data)\n",
        "    shape = (row, column)\n",
        "\n",
        "    # numero de datos \n",
        "    num_of_data = fct.reduce(lambda x, y: x + len(y), data, 0)\n",
        "    row_inds = np.zeros(num_of_data, dtype=np.int)\n",
        "    col_inds = np.zeros(num_of_data, dtype=np.int)\n",
        "    datalist = np.zeros(num_of_data, dtype=np.float)\n",
        "    cnt = 0\n",
        "    for i in range(len(data)):\n",
        "        multi_entry = data[i]\n",
        "\n",
        "        if norm_func != None:\n",
        "            # función que recibe el tamaño del multi_entry para decidir cómo normalizarlo\n",
        "            val = norm_func(len(multi_entry))\n",
        "        else:\n",
        "            # asignación de valor binario por defecto\n",
        "            val = 1 if len(multi_entry) > 0 else 0\n",
        "\n",
        "        # para cada entrada en multi_entry, ubique su posición en la lista de elementos,\n",
        "        # arroja error si el elemento no es un elemento posible\n",
        "        # todas las entradas permanecen en la misma fila\n",
        "        row_ind = i\n",
        "        for item in multi_entry:\n",
        "            col_ind = np.where(itemlist==item)[0]\n",
        "            assert len(col_ind) == 1\n",
        "            col_ind = col_ind[0]\n",
        "            \n",
        "            datalist[cnt] = val\n",
        "            col_inds[cnt] = col_ind\n",
        "            row_inds[cnt] = row_ind\n",
        "            \n",
        "            # actualiza contador\n",
        "            cnt += 1\n",
        "\n",
        "    return datalist, row_inds, col_inds, shape\n"
      ],
      "execution_count": 10,
      "outputs": []
    },
    {
      "cell_type": "markdown",
      "metadata": {
        "id": "lgWsCfpvj-2s"
      },
      "source": [
        "## conversion de los datos "
      ]
    },
    {
      "cell_type": "code",
      "metadata": {
        "id": "EUznuZcjj-2s",
        "colab": {
          "base_uri": "https://localhost:8080/"
        },
        "outputId": "a54ae6e6-db59-4820-a54f-c7db963b3314"
      },
      "source": [
        "beerlist = df.sort_values('itemID')['itemID'].unique()\n",
        "userlist = df.sort_values('userID')['userID'].unique()\n",
        "stylelist = df.sort_values('styleID')['styleID'].unique()\n",
        "\n",
        "# usuarios que dieron ratings \n",
        "user_data = df['userID'].values\n",
        "\n",
        "# items que recibieron ratings\n",
        "beer_data = df['itemID'].values\n",
        "\n",
        "# data de estilo de cerveza \n",
        "styles_data = df['styleID'].values\n",
        "\n",
        "# target vector: ratings\n",
        "rating_data = df['rating'].values\n",
        "\n",
        "\n",
        "# convertir a formato fastFM utilizando funciones de arriba \n",
        "user_datalist, user_row_inds, user_col_inds, user_shape = get_single_entries_in_fm_input_format(data=user_data, \n",
        "                                                                                                itemlist=userlist)\n",
        "\n",
        "beer_datalist, beer_row_inds, beer_col_inds, beer_shape = get_single_entries_in_fm_input_format(data=beer_data,\n",
        "                                                                                                   itemlist=beerlist)\n",
        "\n",
        "style_datalist, style_row_inds, style_col_inds, style_shape = get_single_entries_in_fm_input_format(data=styles_data,\n",
        "                                                                                                   itemlist=stylelist)\n",
        "\n",
        "# Concatena las dos columnas cambiando los índices de las columnas relacionadas con beer.\n",
        "# cambiar por el número de columnas en las columnas de usuario\n",
        "shift_by = len(userlist)\n",
        "beer_col_inds += shift_by\n",
        "beer_col_inds += shift_by\n",
        "\n",
        "# concatena los datos (agregamos item_styles)\n",
        "datalist = np.append(user_datalist, [beer_datalist, style_datalist])\n",
        "row_inds = np.append(user_row_inds, [beer_row_inds, style_row_inds])\n",
        "col_inds = np.append(user_col_inds, [beer_col_inds,style_col_inds])\n",
        "\n",
        "# asegúrese de que ambos conjuntos de características tengan el mismo número de filas\n",
        "print('User feature set shape: {}\\nItem feature set shape: {}\\nStyle feature set shape: {}'.format(user_shape, beer_shape, style_shape))\n",
        "\n",
        "assert user_shape[0] == beer_shape[0]\n",
        "shape = (user_shape[0], user_shape[0] + beer_shape[0] + style_shape[0])\n",
        "print('Dimension of FM input: {}'.format(shape))\n",
        "\n",
        "X = csc_matrix((datalist, (row_inds, col_inds)), shape=shape)\n",
        "y = rating_data"
      ],
      "execution_count": 11,
      "outputs": [
        {
          "output_type": "stream",
          "text": [
            "User feature set shape: (44379, 8320)\n",
            "Item feature set shape: (44379, 1836)\n",
            "Style feature set shape: (44379, 210)\n",
            "Dimension of FM input: (44379, 133137)\n"
          ],
          "name": "stdout"
        }
      ]
    },
    {
      "cell_type": "code",
      "metadata": {
        "id": "5jRHtcINj-2s"
      },
      "source": [
        "# split train y test\n",
        "X_train, X_test, y_train, y_test = train_test_split(X, y)\n"
      ],
      "execution_count": 12,
      "outputs": []
    },
    {
      "cell_type": "code",
      "metadata": {
        "id": "xTXTRBCwj-2s"
      },
      "source": [
        "# entrenar modelo optimizando con ALS y hacer la prediccion \n",
        "fm = als.FMRegression(n_iter=1000, init_stdev=0.1, rank=10, l2_reg_w=0.1, l2_reg_V=0.5)\n",
        "fm.fit(X_train, y_train)\n",
        "y_pred = fm.predict(X_test)"
      ],
      "execution_count": 13,
      "outputs": []
    },
    {
      "cell_type": "code",
      "metadata": {
        "id": "IERdW8ANj-2t",
        "colab": {
          "base_uri": "https://localhost:8080/"
        },
        "outputId": "8cf1ce39-7357-47dc-87d8-8f82e51d105c"
      },
      "source": [
        "error_als = mean_squared_error(y_test, y_pred)\n",
        "print('Mean squared error under ALS: {}'.format(error_als))"
      ],
      "execution_count": 14,
      "outputs": [
        {
          "output_type": "stream",
          "text": [
            "Mean squared error under ALS: 0.6748150131979758\n"
          ],
          "name": "stdout"
        }
      ]
    },
    {
      "cell_type": "code",
      "metadata": {
        "id": "EZIIDPqoj-2t"
      },
      "source": [
        "# entrenar modelo optimizando con SGD y hacer la prediccion \n",
        "fm_sgd = sgd.FMRegression(n_iter=10000000, init_stdev=0.01, rank=10, random_state=123, \n",
        "                              l2_reg_w=0.1, l2_reg_V=0.5, step_size=0.01)\n",
        "fm_sgd.fit(X_train, y_train)\n",
        "y_pred_sgd = fm_sgd.predict(X_test)"
      ],
      "execution_count": 15,
      "outputs": []
    },
    {
      "cell_type": "code",
      "metadata": {
        "id": "qeeQ87E8j-2t",
        "colab": {
          "base_uri": "https://localhost:8080/"
        },
        "outputId": "704d6853-b3bb-45c6-8b08-b81aaba06ec0"
      },
      "source": [
        "error_sgd = mean_squared_error(y_test, y_pred_sgd)\n",
        "print('Mean squared error under SGD: {}'.format(error_sgd))"
      ],
      "execution_count": 16,
      "outputs": [
        {
          "output_type": "stream",
          "text": [
            "Mean squared error under SGD: 0.43434161780573577\n"
          ],
          "name": "stdout"
        }
      ]
    },
    {
      "cell_type": "code",
      "metadata": {
        "id": "uYrhCrcsliq7"
      },
      "source": [
        ""
      ],
      "execution_count": null,
      "outputs": []
    }
  ]
}