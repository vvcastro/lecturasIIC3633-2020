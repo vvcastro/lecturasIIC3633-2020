{
  "nbformat": 4,
  "nbformat_minor": 0,
  "metadata": {
    "colab": {
      "name": "practico12_seqRec.ipynb",
      "provenance": [],
      "collapsed_sections": [],
      "include_colab_link": true
    },
    "kernelspec": {
      "name": "python3",
      "display_name": "Python 3"
    },
    "accelerator": "GPU"
  },
  "cells": [
    {
      "cell_type": "markdown",
      "metadata": {
        "id": "view-in-github",
        "colab_type": "text"
      },
      "source": [
        "<a href=\"https://colab.research.google.com/github/vvcastro/vvcastro-IIC3633-2020/blob/master/practicos/practico12_seqRec.ipynb\" target=\"_parent\"><img src=\"https://colab.research.google.com/assets/colab-badge.svg\" alt=\"Open In Colab\"/></a>"
      ]
    },
    {
      "cell_type": "markdown",
      "metadata": {
        "id": "bcrDor7CR1SO"
      },
      "source": [
        "# Gated Recurrent Units for session-based next item prediction\n",
        "\n",
        "Patricio Cerda, Bastián Mavrakis, Denis Parra\n",
        "\n",
        "### Ambiente: Python3 + GPU\n",
        "\n",
        "## Descargar datos y repositorio"
      ]
    },
    {
      "cell_type": "code",
      "metadata": {
        "id": "nCAQDIrOPUQP",
        "colab": {
          "base_uri": "https://localhost:8080/"
        },
        "outputId": "321fc968-96a3-4681-c137-c0783fa99021"
      },
      "source": [
        "# Clone repo\n",
        "!git clone https://github.com/pcerdam/KerasGRU4Rec --single-branch src"
      ],
      "execution_count": 1,
      "outputs": [
        {
          "output_type": "stream",
          "text": [
            "Cloning into 'src'...\n",
            "remote: Enumerating objects: 46, done.\u001b[K\n",
            "remote: Counting objects: 100% (46/46), done.\u001b[K\n",
            "remote: Compressing objects: 100% (30/30), done.\u001b[K\n",
            "remote: Total 207 (delta 15), reused 32 (delta 12), pack-reused 161\u001b[K\n",
            "Receiving objects: 100% (207/207), 10.58 MiB | 21.45 MiB/s, done.\n",
            "Resolving deltas: 100% (87/87), done.\n"
          ],
          "name": "stdout"
        }
      ]
    },
    {
      "cell_type": "code",
      "metadata": {
        "id": "BpccDqjDPbjI",
        "colab": {
          "base_uri": "https://localhost:8080/"
        },
        "outputId": "92b72340-6f4b-4a40-f213-a3c1f3a7836d"
      },
      "source": [
        "# Download RecSys Challenge 2015 dataset\n",
        "!rm -r sample_data\n",
        "!curl https://s3-eu-west-1.amazonaws.com/yc-rdata/yoochoose-data.7z --output data.7z"
      ],
      "execution_count": 2,
      "outputs": [
        {
          "output_type": "stream",
          "text": [
            "  % Total    % Received % Xferd  Average Speed   Time    Time     Time  Current\n",
            "                                 Dload  Upload   Total   Spent    Left  Speed\n",
            "100  273M  100  273M    0     0  2044k      0  0:02:17  0:02:17 --:--:-- 2886k\n"
          ],
          "name": "stdout"
        }
      ]
    },
    {
      "cell_type": "code",
      "metadata": {
        "id": "AJkLaRyqPp-z",
        "colab": {
          "base_uri": "https://localhost:8080/"
        },
        "outputId": "e4af78b0-5250-4b85-a5bb-a7025f26bc5d"
      },
      "source": [
        "# Extract dataset\n",
        "!7z e data.7z -o./rsc15\n",
        "!rm data.7z\n",
        "!mkdir data"
      ],
      "execution_count": 3,
      "outputs": [
        {
          "output_type": "stream",
          "text": [
            "\n",
            "7-Zip [64] 16.02 : Copyright (c) 1999-2016 Igor Pavlov : 2016-05-21\n",
            "p7zip Version 16.02 (locale=en_US.UTF-8,Utf16=on,HugeFiles=on,64 bits,2 CPUs Intel(R) Xeon(R) CPU @ 2.20GHz (406F0),ASM,AES-NI)\n",
            "\n",
            "Scanning the drive for archives:\n",
            "  0M Scan\b\b\b\b\b\b\b\b\b         \b\b\b\b\b\b\b\b\b1 file, 287211932 bytes (274 MiB)\n",
            "\n",
            "Extracting archive: data.7z\n",
            "--\n",
            "Path = data.7z\n",
            "Type = 7z\n",
            "Physical Size = 287211932\n",
            "Headers Size = 255\n",
            "Method = LZMA:24\n",
            "Solid = +\n",
            "Blocks = 2\n",
            "\n",
            "  0%\b\b\b\b    \b\b\b\b  0% - yoochoose-buys.dat\b\b\b\b\b\b\b\b\b\b\b\b\b\b\b\b\b\b\b\b\b\b\b\b\b                         \b\b\b\b\b\b\b\b\b\b\b\b\b\b\b\b\b\b\b\b\b\b\b\b\b  1% - yoochoose-buys.dat\b\b\b\b\b\b\b\b\b\b\b\b\b\b\b\b\b\b\b\b\b\b\b\b\b                         \b\b\b\b\b\b\b\b\b\b\b\b\b\b\b\b\b\b\b\b\b\b\b\b\b  2% - yoochoose-buys.dat\b\b\b\b\b\b\b\b\b\b\b\b\b\b\b\b\b\b\b\b\b\b\b\b\b                         \b\b\b\b\b\b\b\b\b\b\b\b\b\b\b\b\b\b\b\b\b\b\b\b\b  3% 1 - yoochoose-clicks.dat\b\b\b\b\b\b\b\b\b\b\b\b\b\b\b\b\b\b\b\b\b\b\b\b\b\b\b\b\b                             \b\b\b\b\b\b\b\b\b\b\b\b\b\b\b\b\b\b\b\b\b\b\b\b\b\b\b\b\b  4% 1 - yoochoose-clicks.dat\b\b\b\b\b\b\b\b\b\b\b\b\b\b\b\b\b\b\b\b\b\b\b\b\b\b\b\b\b                             \b\b\b\b\b\b\b\b\b\b\b\b\b\b\b\b\b\b\b\b\b\b\b\b\b\b\b\b\b  5% 1 - yoochoose-clicks.dat\b\b\b\b\b\b\b\b\b\b\b\b\b\b\b\b\b\b\b\b\b\b\b\b\b\b\b\b\b                             \b\b\b\b\b\b\b\b\b\b\b\b\b\b\b\b\b\b\b\b\b\b\b\b\b\b\b\b\b  6% 1 - yoochoose-clicks.dat\b\b\b\b\b\b\b\b\b\b\b\b\b\b\b\b\b\b\b\b\b\b\b\b\b\b\b\b\b                             \b\b\b\b\b\b\b\b\b\b\b\b\b\b\b\b\b\b\b\b\b\b\b\b\b\b\b\b\b  7% 1 - yoochoose-clicks.dat\b\b\b\b\b\b\b\b\b\b\b\b\b\b\b\b\b\b\b\b\b\b\b\b\b\b\b\b\b                             \b\b\b\b\b\b\b\b\b\b\b\b\b\b\b\b\b\b\b\b\b\b\b\b\b\b\b\b\b  8% 1 - yoochoose-clicks.dat\b\b\b\b\b\b\b\b\b\b\b\b\b\b\b\b\b\b\b\b\b\b\b\b\b\b\b\b\b                             \b\b\b\b\b\b\b\b\b\b\b\b\b\b\b\b\b\b\b\b\b\b\b\b\b\b\b\b\b  9% 1 - yoochoose-clicks.dat\b\b\b\b\b\b\b\b\b\b\b\b\b\b\b\b\b\b\b\b\b\b\b\b\b\b\b\b\b                             \b\b\b\b\b\b\b\b\b\b\b\b\b\b\b\b\b\b\b\b\b\b\b\b\b\b\b\b\b 10% 1 - yoochoose-clicks.dat\b\b\b\b\b\b\b\b\b\b\b\b\b\b\b\b\b\b\b\b\b\b\b\b\b\b\b\b\b                             \b\b\b\b\b\b\b\b\b\b\b\b\b\b\b\b\b\b\b\b\b\b\b\b\b\b\b\b\b 11% 1 - yoochoose-clicks.dat\b\b\b\b\b\b\b\b\b\b\b\b\b\b\b\b\b\b\b\b\b\b\b\b\b\b\b\b\b                             \b\b\b\b\b\b\b\b\b\b\b\b\b\b\b\b\b\b\b\b\b\b\b\b\b\b\b\b\b 12% 1 - yoochoose-clicks.dat\b\b\b\b\b\b\b\b\b\b\b\b\b\b\b\b\b\b\b\b\b\b\b\b\b\b\b\b\b                             \b\b\b\b\b\b\b\b\b\b\b\b\b\b\b\b\b\b\b\b\b\b\b\b\b\b\b\b\b 13% 1 - yoochoose-clicks.dat\b\b\b\b\b\b\b\b\b\b\b\b\b\b\b\b\b\b\b\b\b\b\b\b\b\b\b\b\b                             \b\b\b\b\b\b\b\b\b\b\b\b\b\b\b\b\b\b\b\b\b\b\b\b\b\b\b\b\b 14% 1 - yoochoose-clicks.dat\b\b\b\b\b\b\b\b\b\b\b\b\b\b\b\b\b\b\b\b\b\b\b\b\b\b\b\b\b                             \b\b\b\b\b\b\b\b\b\b\b\b\b\b\b\b\b\b\b\b\b\b\b\b\b\b\b\b\b 15% 1 - yoochoose-clicks.dat\b\b\b\b\b\b\b\b\b\b\b\b\b\b\b\b\b\b\b\b\b\b\b\b\b\b\b\b\b                             \b\b\b\b\b\b\b\b\b\b\b\b\b\b\b\b\b\b\b\b\b\b\b\b\b\b\b\b\b 16% 1 - yoochoose-clicks.dat\b\b\b\b\b\b\b\b\b\b\b\b\b\b\b\b\b\b\b\b\b\b\b\b\b\b\b\b\b                             \b\b\b\b\b\b\b\b\b\b\b\b\b\b\b\b\b\b\b\b\b\b\b\b\b\b\b\b\b 17% 1 - yoochoose-clicks.dat\b\b\b\b\b\b\b\b\b\b\b\b\b\b\b\b\b\b\b\b\b\b\b\b\b\b\b\b\b                             \b\b\b\b\b\b\b\b\b\b\b\b\b\b\b\b\b\b\b\b\b\b\b\b\b\b\b\b\b 18% 1 - yoochoose-clicks.dat\b\b\b\b\b\b\b\b\b\b\b\b\b\b\b\b\b\b\b\b\b\b\b\b\b\b\b\b\b                             \b\b\b\b\b\b\b\b\b\b\b\b\b\b\b\b\b\b\b\b\b\b\b\b\b\b\b\b\b 19% 1 - yoochoose-clicks.dat\b\b\b\b\b\b\b\b\b\b\b\b\b\b\b\b\b\b\b\b\b\b\b\b\b\b\b\b\b                             \b\b\b\b\b\b\b\b\b\b\b\b\b\b\b\b\b\b\b\b\b\b\b\b\b\b\b\b\b 20% 1 - yoochoose-clicks.dat\b\b\b\b\b\b\b\b\b\b\b\b\b\b\b\b\b\b\b\b\b\b\b\b\b\b\b\b\b                             \b\b\b\b\b\b\b\b\b\b\b\b\b\b\b\b\b\b\b\b\b\b\b\b\b\b\b\b\b 21% 1 - yoochoose-clicks.dat\b\b\b\b\b\b\b\b\b\b\b\b\b\b\b\b\b\b\b\b\b\b\b\b\b\b\b\b\b                             \b\b\b\b\b\b\b\b\b\b\b\b\b\b\b\b\b\b\b\b\b\b\b\b\b\b\b\b\b 22% 1 - yoochoose-clicks.dat\b\b\b\b\b\b\b\b\b\b\b\b\b\b\b\b\b\b\b\b\b\b\b\b\b\b\b\b\b                             \b\b\b\b\b\b\b\b\b\b\b\b\b\b\b\b\b\b\b\b\b\b\b\b\b\b\b\b\b 23% 1 - yoochoose-clicks.dat\b\b\b\b\b\b\b\b\b\b\b\b\b\b\b\b\b\b\b\b\b\b\b\b\b\b\b\b\b                             \b\b\b\b\b\b\b\b\b\b\b\b\b\b\b\b\b\b\b\b\b\b\b\b\b\b\b\b\b 24% 1 - yoochoose-clicks.dat\b\b\b\b\b\b\b\b\b\b\b\b\b\b\b\b\b\b\b\b\b\b\b\b\b\b\b\b\b                             \b\b\b\b\b\b\b\b\b\b\b\b\b\b\b\b\b\b\b\b\b\b\b\b\b\b\b\b\b 25% 1 - yoochoose-clicks.dat\b\b\b\b\b\b\b\b\b\b\b\b\b\b\b\b\b\b\b\b\b\b\b\b\b\b\b\b\b                             \b\b\b\b\b\b\b\b\b\b\b\b\b\b\b\b\b\b\b\b\b\b\b\b\b\b\b\b\b 26% 1 - yoochoose-clicks.dat\b\b\b\b\b\b\b\b\b\b\b\b\b\b\b\b\b\b\b\b\b\b\b\b\b\b\b\b\b                             \b\b\b\b\b\b\b\b\b\b\b\b\b\b\b\b\b\b\b\b\b\b\b\b\b\b\b\b\b 27% 1 - yoochoose-clicks.dat\b\b\b\b\b\b\b\b\b\b\b\b\b\b\b\b\b\b\b\b\b\b\b\b\b\b\b\b\b                             \b\b\b\b\b\b\b\b\b\b\b\b\b\b\b\b\b\b\b\b\b\b\b\b\b\b\b\b\b 28% 1 - yoochoose-clicks.dat\b\b\b\b\b\b\b\b\b\b\b\b\b\b\b\b\b\b\b\b\b\b\b\b\b\b\b\b\b                             \b\b\b\b\b\b\b\b\b\b\b\b\b\b\b\b\b\b\b\b\b\b\b\b\b\b\b\b\b 29% 1 - yoochoose-clicks.dat\b\b\b\b\b\b\b\b\b\b\b\b\b\b\b\b\b\b\b\b\b\b\b\b\b\b\b\b\b                             \b\b\b\b\b\b\b\b\b\b\b\b\b\b\b\b\b\b\b\b\b\b\b\b\b\b\b\b\b 30% 1 - yoochoose-clicks.dat\b\b\b\b\b\b\b\b\b\b\b\b\b\b\b\b\b\b\b\b\b\b\b\b\b\b\b\b\b                             \b\b\b\b\b\b\b\b\b\b\b\b\b\b\b\b\b\b\b\b\b\b\b\b\b\b\b\b\b 31% 1 - yoochoose-clicks.dat\b\b\b\b\b\b\b\b\b\b\b\b\b\b\b\b\b\b\b\b\b\b\b\b\b\b\b\b\b                             \b\b\b\b\b\b\b\b\b\b\b\b\b\b\b\b\b\b\b\b\b\b\b\b\b\b\b\b\b 32% 1 - yoochoose-clicks.dat\b\b\b\b\b\b\b\b\b\b\b\b\b\b\b\b\b\b\b\b\b\b\b\b\b\b\b\b\b                             \b\b\b\b\b\b\b\b\b\b\b\b\b\b\b\b\b\b\b\b\b\b\b\b\b\b\b\b\b 33% 1 - yoochoose-clicks.dat\b\b\b\b\b\b\b\b\b\b\b\b\b\b\b\b\b\b\b\b\b\b\b\b\b\b\b\b\b                             \b\b\b\b\b\b\b\b\b\b\b\b\b\b\b\b\b\b\b\b\b\b\b\b\b\b\b\b\b 34% 1 - yoochoose-clicks.dat\b\b\b\b\b\b\b\b\b\b\b\b\b\b\b\b\b\b\b\b\b\b\b\b\b\b\b\b\b                             \b\b\b\b\b\b\b\b\b\b\b\b\b\b\b\b\b\b\b\b\b\b\b\b\b\b\b\b\b 35% 1 - yoochoose-clicks.dat\b\b\b\b\b\b\b\b\b\b\b\b\b\b\b\b\b\b\b\b\b\b\b\b\b\b\b\b\b                             \b\b\b\b\b\b\b\b\b\b\b\b\b\b\b\b\b\b\b\b\b\b\b\b\b\b\b\b\b 36% 1 - yoochoose-clicks.dat\b\b\b\b\b\b\b\b\b\b\b\b\b\b\b\b\b\b\b\b\b\b\b\b\b\b\b\b\b                             \b\b\b\b\b\b\b\b\b\b\b\b\b\b\b\b\b\b\b\b\b\b\b\b\b\b\b\b\b 37% 1 - yoochoose-clicks.dat\b\b\b\b\b\b\b\b\b\b\b\b\b\b\b\b\b\b\b\b\b\b\b\b\b\b\b\b\b                             \b\b\b\b\b\b\b\b\b\b\b\b\b\b\b\b\b\b\b\b\b\b\b\b\b\b\b\b\b 38% 1 - yoochoose-clicks.dat\b\b\b\b\b\b\b\b\b\b\b\b\b\b\b\b\b\b\b\b\b\b\b\b\b\b\b\b\b                             \b\b\b\b\b\b\b\b\b\b\b\b\b\b\b\b\b\b\b\b\b\b\b\b\b\b\b\b\b 39% 1 - yoochoose-clicks.dat\b\b\b\b\b\b\b\b\b\b\b\b\b\b\b\b\b\b\b\b\b\b\b\b\b\b\b\b\b                             \b\b\b\b\b\b\b\b\b\b\b\b\b\b\b\b\b\b\b\b\b\b\b\b\b\b\b\b\b 40% 1 - yoochoose-clicks.dat\b\b\b\b\b\b\b\b\b\b\b\b\b\b\b\b\b\b\b\b\b\b\b\b\b\b\b\b\b                             \b\b\b\b\b\b\b\b\b\b\b\b\b\b\b\b\b\b\b\b\b\b\b\b\b\b\b\b\b 41% 1 - yoochoose-clicks.dat\b\b\b\b\b\b\b\b\b\b\b\b\b\b\b\b\b\b\b\b\b\b\b\b\b\b\b\b\b                             \b\b\b\b\b\b\b\b\b\b\b\b\b\b\b\b\b\b\b\b\b\b\b\b\b\b\b\b\b 42% 1 - yoochoose-clicks.dat\b\b\b\b\b\b\b\b\b\b\b\b\b\b\b\b\b\b\b\b\b\b\b\b\b\b\b\b\b                             \b\b\b\b\b\b\b\b\b\b\b\b\b\b\b\b\b\b\b\b\b\b\b\b\b\b\b\b\b 43% 1 - yoochoose-clicks.dat\b\b\b\b\b\b\b\b\b\b\b\b\b\b\b\b\b\b\b\b\b\b\b\b\b\b\b\b\b                             \b\b\b\b\b\b\b\b\b\b\b\b\b\b\b\b\b\b\b\b\b\b\b\b\b\b\b\b\b 44% 1 - yoochoose-clicks.dat\b\b\b\b\b\b\b\b\b\b\b\b\b\b\b\b\b\b\b\b\b\b\b\b\b\b\b\b\b                             \b\b\b\b\b\b\b\b\b\b\b\b\b\b\b\b\b\b\b\b\b\b\b\b\b\b\b\b\b 45% 1 - yoochoose-clicks.dat\b\b\b\b\b\b\b\b\b\b\b\b\b\b\b\b\b\b\b\b\b\b\b\b\b\b\b\b\b                             \b\b\b\b\b\b\b\b\b\b\b\b\b\b\b\b\b\b\b\b\b\b\b\b\b\b\b\b\b 46% 1 - yoochoose-clicks.dat\b\b\b\b\b\b\b\b\b\b\b\b\b\b\b\b\b\b\b\b\b\b\b\b\b\b\b\b\b                             \b\b\b\b\b\b\b\b\b\b\b\b\b\b\b\b\b\b\b\b\b\b\b\b\b\b\b\b\b 47% 1 - yoochoose-clicks.dat\b\b\b\b\b\b\b\b\b\b\b\b\b\b\b\b\b\b\b\b\b\b\b\b\b\b\b\b\b                             \b\b\b\b\b\b\b\b\b\b\b\b\b\b\b\b\b\b\b\b\b\b\b\b\b\b\b\b\b 48% 1 - yoochoose-clicks.dat\b\b\b\b\b\b\b\b\b\b\b\b\b\b\b\b\b\b\b\b\b\b\b\b\b\b\b\b\b                             \b\b\b\b\b\b\b\b\b\b\b\b\b\b\b\b\b\b\b\b\b\b\b\b\b\b\b\b\b 49% 1 - yoochoose-clicks.dat\b\b\b\b\b\b\b\b\b\b\b\b\b\b\b\b\b\b\b\b\b\b\b\b\b\b\b\b\b                             \b\b\b\b\b\b\b\b\b\b\b\b\b\b\b\b\b\b\b\b\b\b\b\b\b\b\b\b\b 50% 1 - yoochoose-clicks.dat\b\b\b\b\b\b\b\b\b\b\b\b\b\b\b\b\b\b\b\b\b\b\b\b\b\b\b\b\b                             \b\b\b\b\b\b\b\b\b\b\b\b\b\b\b\b\b\b\b\b\b\b\b\b\b\b\b\b\b 51% 1 - yoochoose-clicks.dat\b\b\b\b\b\b\b\b\b\b\b\b\b\b\b\b\b\b\b\b\b\b\b\b\b\b\b\b\b                             \b\b\b\b\b\b\b\b\b\b\b\b\b\b\b\b\b\b\b\b\b\b\b\b\b\b\b\b\b 52% 1 - yoochoose-clicks.dat\b\b\b\b\b\b\b\b\b\b\b\b\b\b\b\b\b\b\b\b\b\b\b\b\b\b\b\b\b                             \b\b\b\b\b\b\b\b\b\b\b\b\b\b\b\b\b\b\b\b\b\b\b\b\b\b\b\b\b 53% 1 - yoochoose-clicks.dat\b\b\b\b\b\b\b\b\b\b\b\b\b\b\b\b\b\b\b\b\b\b\b\b\b\b\b\b\b                             \b\b\b\b\b\b\b\b\b\b\b\b\b\b\b\b\b\b\b\b\b\b\b\b\b\b\b\b\b 54% 1 - yoochoose-clicks.dat\b\b\b\b\b\b\b\b\b\b\b\b\b\b\b\b\b\b\b\b\b\b\b\b\b\b\b\b\b                             \b\b\b\b\b\b\b\b\b\b\b\b\b\b\b\b\b\b\b\b\b\b\b\b\b\b\b\b\b 55% 1 - yoochoose-clicks.dat\b\b\b\b\b\b\b\b\b\b\b\b\b\b\b\b\b\b\b\b\b\b\b\b\b\b\b\b\b                             \b\b\b\b\b\b\b\b\b\b\b\b\b\b\b\b\b\b\b\b\b\b\b\b\b\b\b\b\b 56% 1 - yoochoose-clicks.dat\b\b\b\b\b\b\b\b\b\b\b\b\b\b\b\b\b\b\b\b\b\b\b\b\b\b\b\b\b                             \b\b\b\b\b\b\b\b\b\b\b\b\b\b\b\b\b\b\b\b\b\b\b\b\b\b\b\b\b 57% 1 - yoochoose-clicks.dat\b\b\b\b\b\b\b\b\b\b\b\b\b\b\b\b\b\b\b\b\b\b\b\b\b\b\b\b\b                             \b\b\b\b\b\b\b\b\b\b\b\b\b\b\b\b\b\b\b\b\b\b\b\b\b\b\b\b\b 58% 1 - yoochoose-clicks.dat\b\b\b\b\b\b\b\b\b\b\b\b\b\b\b\b\b\b\b\b\b\b\b\b\b\b\b\b\b                             \b\b\b\b\b\b\b\b\b\b\b\b\b\b\b\b\b\b\b\b\b\b\b\b\b\b\b\b\b 59% 1 - yoochoose-clicks.dat\b\b\b\b\b\b\b\b\b\b\b\b\b\b\b\b\b\b\b\b\b\b\b\b\b\b\b\b\b                             \b\b\b\b\b\b\b\b\b\b\b\b\b\b\b\b\b\b\b\b\b\b\b\b\b\b\b\b\b 60% 1 - yoochoose-clicks.dat\b\b\b\b\b\b\b\b\b\b\b\b\b\b\b\b\b\b\b\b\b\b\b\b\b\b\b\b\b                             \b\b\b\b\b\b\b\b\b\b\b\b\b\b\b\b\b\b\b\b\b\b\b\b\b\b\b\b\b 61% 1 - yoochoose-clicks.dat\b\b\b\b\b\b\b\b\b\b\b\b\b\b\b\b\b\b\b\b\b\b\b\b\b\b\b\b\b                             \b\b\b\b\b\b\b\b\b\b\b\b\b\b\b\b\b\b\b\b\b\b\b\b\b\b\b\b\b 62% 1 - yoochoose-clicks.dat\b\b\b\b\b\b\b\b\b\b\b\b\b\b\b\b\b\b\b\b\b\b\b\b\b\b\b\b\b                             \b\b\b\b\b\b\b\b\b\b\b\b\b\b\b\b\b\b\b\b\b\b\b\b\b\b\b\b\b 63% 1 - yoochoose-clicks.dat\b\b\b\b\b\b\b\b\b\b\b\b\b\b\b\b\b\b\b\b\b\b\b\b\b\b\b\b\b                             \b\b\b\b\b\b\b\b\b\b\b\b\b\b\b\b\b\b\b\b\b\b\b\b\b\b\b\b\b 64% 1 - yoochoose-clicks.dat\b\b\b\b\b\b\b\b\b\b\b\b\b\b\b\b\b\b\b\b\b\b\b\b\b\b\b\b\b                             \b\b\b\b\b\b\b\b\b\b\b\b\b\b\b\b\b\b\b\b\b\b\b\b\b\b\b\b\b 65% 1 - yoochoose-clicks.dat\b\b\b\b\b\b\b\b\b\b\b\b\b\b\b\b\b\b\b\b\b\b\b\b\b\b\b\b\b                             \b\b\b\b\b\b\b\b\b\b\b\b\b\b\b\b\b\b\b\b\b\b\b\b\b\b\b\b\b 66% 1 - yoochoose-clicks.dat\b\b\b\b\b\b\b\b\b\b\b\b\b\b\b\b\b\b\b\b\b\b\b\b\b\b\b\b\b                             \b\b\b\b\b\b\b\b\b\b\b\b\b\b\b\b\b\b\b\b\b\b\b\b\b\b\b\b\b 67% 1 - yoochoose-clicks.dat\b\b\b\b\b\b\b\b\b\b\b\b\b\b\b\b\b\b\b\b\b\b\b\b\b\b\b\b\b                             \b\b\b\b\b\b\b\b\b\b\b\b\b\b\b\b\b\b\b\b\b\b\b\b\b\b\b\b\b 68% 1 - yoochoose-clicks.dat\b\b\b\b\b\b\b\b\b\b\b\b\b\b\b\b\b\b\b\b\b\b\b\b\b\b\b\b\b                             \b\b\b\b\b\b\b\b\b\b\b\b\b\b\b\b\b\b\b\b\b\b\b\b\b\b\b\b\b 69% 1 - yoochoose-clicks.dat\b\b\b\b\b\b\b\b\b\b\b\b\b\b\b\b\b\b\b\b\b\b\b\b\b\b\b\b\b                             \b\b\b\b\b\b\b\b\b\b\b\b\b\b\b\b\b\b\b\b\b\b\b\b\b\b\b\b\b 70% 1 - yoochoose-clicks.dat\b\b\b\b\b\b\b\b\b\b\b\b\b\b\b\b\b\b\b\b\b\b\b\b\b\b\b\b\b                             \b\b\b\b\b\b\b\b\b\b\b\b\b\b\b\b\b\b\b\b\b\b\b\b\b\b\b\b\b 71% 1 - yoochoose-clicks.dat\b\b\b\b\b\b\b\b\b\b\b\b\b\b\b\b\b\b\b\b\b\b\b\b\b\b\b\b\b                             \b\b\b\b\b\b\b\b\b\b\b\b\b\b\b\b\b\b\b\b\b\b\b\b\b\b\b\b\b 72% 1 - yoochoose-clicks.dat\b\b\b\b\b\b\b\b\b\b\b\b\b\b\b\b\b\b\b\b\b\b\b\b\b\b\b\b\b                             \b\b\b\b\b\b\b\b\b\b\b\b\b\b\b\b\b\b\b\b\b\b\b\b\b\b\b\b\b 73% 1 - yoochoose-clicks.dat\b\b\b\b\b\b\b\b\b\b\b\b\b\b\b\b\b\b\b\b\b\b\b\b\b\b\b\b\b                             \b\b\b\b\b\b\b\b\b\b\b\b\b\b\b\b\b\b\b\b\b\b\b\b\b\b\b\b\b 74% 1 - yoochoose-clicks.dat\b\b\b\b\b\b\b\b\b\b\b\b\b\b\b\b\b\b\b\b\b\b\b\b\b\b\b\b\b                             \b\b\b\b\b\b\b\b\b\b\b\b\b\b\b\b\b\b\b\b\b\b\b\b\b\b\b\b\b 75% 1 - yoochoose-clicks.dat\b\b\b\b\b\b\b\b\b\b\b\b\b\b\b\b\b\b\b\b\b\b\b\b\b\b\b\b\b                             \b\b\b\b\b\b\b\b\b\b\b\b\b\b\b\b\b\b\b\b\b\b\b\b\b\b\b\b\b 76% 1 - yoochoose-clicks.dat\b\b\b\b\b\b\b\b\b\b\b\b\b\b\b\b\b\b\b\b\b\b\b\b\b\b\b\b\b                             \b\b\b\b\b\b\b\b\b\b\b\b\b\b\b\b\b\b\b\b\b\b\b\b\b\b\b\b\b 77% 1 - yoochoose-clicks.dat\b\b\b\b\b\b\b\b\b\b\b\b\b\b\b\b\b\b\b\b\b\b\b\b\b\b\b\b\b                             \b\b\b\b\b\b\b\b\b\b\b\b\b\b\b\b\b\b\b\b\b\b\b\b\b\b\b\b\b 78% 1 - yoochoose-clicks.dat\b\b\b\b\b\b\b\b\b\b\b\b\b\b\b\b\b\b\b\b\b\b\b\b\b\b\b\b\b                             \b\b\b\b\b\b\b\b\b\b\b\b\b\b\b\b\b\b\b\b\b\b\b\b\b\b\b\b\b 79% 1 - yoochoose-clicks.dat\b\b\b\b\b\b\b\b\b\b\b\b\b\b\b\b\b\b\b\b\b\b\b\b\b\b\b\b\b                             \b\b\b\b\b\b\b\b\b\b\b\b\b\b\b\b\b\b\b\b\b\b\b\b\b\b\b\b\b 80% 1 - yoochoose-clicks.dat\b\b\b\b\b\b\b\b\b\b\b\b\b\b\b\b\b\b\b\b\b\b\b\b\b\b\b\b\b                             \b\b\b\b\b\b\b\b\b\b\b\b\b\b\b\b\b\b\b\b\b\b\b\b\b\b\b\b\b 80% 2 - yoochoose-test.dat\b\b\b\b\b\b\b\b\b\b\b\b\b\b\b\b\b\b\b\b\b\b\b\b\b\b\b                           \b\b\b\b\b\b\b\b\b\b\b\b\b\b\b\b\b\b\b\b\b\b\b\b\b\b\b 81% 2 - yoochoose-test.dat\b\b\b\b\b\b\b\b\b\b\b\b\b\b\b\b\b\b\b\b\b\b\b\b\b\b\b                           \b\b\b\b\b\b\b\b\b\b\b\b\b\b\b\b\b\b\b\b\b\b\b\b\b\b\b 82% 2 - yoochoose-test.dat\b\b\b\b\b\b\b\b\b\b\b\b\b\b\b\b\b\b\b\b\b\b\b\b\b\b\b                           \b\b\b\b\b\b\b\b\b\b\b\b\b\b\b\b\b\b\b\b\b\b\b\b\b\b\b 83% 2 - yoochoose-test.dat\b\b\b\b\b\b\b\b\b\b\b\b\b\b\b\b\b\b\b\b\b\b\b\b\b\b\b                           \b\b\b\b\b\b\b\b\b\b\b\b\b\b\b\b\b\b\b\b\b\b\b\b\b\b\b 84% 2 - yoochoose-test.dat\b\b\b\b\b\b\b\b\b\b\b\b\b\b\b\b\b\b\b\b\b\b\b\b\b\b\b                           \b\b\b\b\b\b\b\b\b\b\b\b\b\b\b\b\b\b\b\b\b\b\b\b\b\b\b 85% 2 - yoochoose-test.dat\b\b\b\b\b\b\b\b\b\b\b\b\b\b\b\b\b\b\b\b\b\b\b\b\b\b\b                           \b\b\b\b\b\b\b\b\b\b\b\b\b\b\b\b\b\b\b\b\b\b\b\b\b\b\b 86% 2 - yoochoose-test.dat\b\b\b\b\b\b\b\b\b\b\b\b\b\b\b\b\b\b\b\b\b\b\b\b\b\b\b                           \b\b\b\b\b\b\b\b\b\b\b\b\b\b\b\b\b\b\b\b\b\b\b\b\b\b\b 87% 2 - yoochoose-test.dat\b\b\b\b\b\b\b\b\b\b\b\b\b\b\b\b\b\b\b\b\b\b\b\b\b\b\b                           \b\b\b\b\b\b\b\b\b\b\b\b\b\b\b\b\b\b\b\b\b\b\b\b\b\b\b 88% 2 - yoochoose-test.dat\b\b\b\b\b\b\b\b\b\b\b\b\b\b\b\b\b\b\b\b\b\b\b\b\b\b\b                           \b\b\b\b\b\b\b\b\b\b\b\b\b\b\b\b\b\b\b\b\b\b\b\b\b\b\b 89% 2 - yoochoose-test.dat\b\b\b\b\b\b\b\b\b\b\b\b\b\b\b\b\b\b\b\b\b\b\b\b\b\b\b                           \b\b\b\b\b\b\b\b\b\b\b\b\b\b\b\b\b\b\b\b\b\b\b\b\b\b\b 90% 2 - yoochoose-test.dat\b\b\b\b\b\b\b\b\b\b\b\b\b\b\b\b\b\b\b\b\b\b\b\b\b\b\b                           \b\b\b\b\b\b\b\b\b\b\b\b\b\b\b\b\b\b\b\b\b\b\b\b\b\b\b 91% 2 - yoochoose-test.dat\b\b\b\b\b\b\b\b\b\b\b\b\b\b\b\b\b\b\b\b\b\b\b\b\b\b\b                           \b\b\b\b\b\b\b\b\b\b\b\b\b\b\b\b\b\b\b\b\b\b\b\b\b\b\b 92% 2 - yoochoose-test.dat\b\b\b\b\b\b\b\b\b\b\b\b\b\b\b\b\b\b\b\b\b\b\b\b\b\b\b                           \b\b\b\b\b\b\b\b\b\b\b\b\b\b\b\b\b\b\b\b\b\b\b\b\b\b\b 93% 2 - yoochoose-test.dat\b\b\b\b\b\b\b\b\b\b\b\b\b\b\b\b\b\b\b\b\b\b\b\b\b\b\b                           \b\b\b\b\b\b\b\b\b\b\b\b\b\b\b\b\b\b\b\b\b\b\b\b\b\b\b 94% 2 - yoochoose-test.dat\b\b\b\b\b\b\b\b\b\b\b\b\b\b\b\b\b\b\b\b\b\b\b\b\b\b\b                           \b\b\b\b\b\b\b\b\b\b\b\b\b\b\b\b\b\b\b\b\b\b\b\b\b\b\b 95% 2 - yoochoose-test.dat\b\b\b\b\b\b\b\b\b\b\b\b\b\b\b\b\b\b\b\b\b\b\b\b\b\b\b                           \b\b\b\b\b\b\b\b\b\b\b\b\b\b\b\b\b\b\b\b\b\b\b\b\b\b\b 96% 2 - yoochoose-test.dat\b\b\b\b\b\b\b\b\b\b\b\b\b\b\b\b\b\b\b\b\b\b\b\b\b\b\b                           \b\b\b\b\b\b\b\b\b\b\b\b\b\b\b\b\b\b\b\b\b\b\b\b\b\b\b 97% 2 - yoochoose-test.dat\b\b\b\b\b\b\b\b\b\b\b\b\b\b\b\b\b\b\b\b\b\b\b\b\b\b\b                           \b\b\b\b\b\b\b\b\b\b\b\b\b\b\b\b\b\b\b\b\b\b\b\b\b\b\b 98% 2 - yoochoose-test.dat\b\b\b\b\b\b\b\b\b\b\b\b\b\b\b\b\b\b\b\b\b\b\b\b\b\b\b                           \b\b\b\b\b\b\b\b\b\b\b\b\b\b\b\b\b\b\b\b\b\b\b\b\b\b\b 99% 2 - yoochoose-test.dat\b\b\b\b\b\b\b\b\b\b\b\b\b\b\b\b\b\b\b\b\b\b\b\b\b\b\b                           \b\b\b\b\b\b\b\b\b\b\b\b\b\b\b\b\b\b\b\b\b\b\b\b\b\b\b 99% 3\b\b\b\b\b\b      \b\b\b\b\b\bEverything is Ok\n",
            "\n",
            "Files: 4\n",
            "Size:       1914111754\n",
            "Compressed: 287211932\n"
          ],
          "name": "stdout"
        }
      ]
    },
    {
      "cell_type": "markdown",
      "metadata": {
        "id": "gpjJOcqDR945"
      },
      "source": [
        "# Preprocesar dataset"
      ]
    },
    {
      "cell_type": "code",
      "metadata": {
        "id": "7E3mSmYQR9k-"
      },
      "source": [
        "import os\n",
        "import numpy as np\n",
        "import pandas as pd\n",
        "import datetime as dt\n",
        "from matplotlib import pyplot as plt\n",
        "os.environ['TF_CPP_MIN_LOG_LEVEL'] = '3'"
      ],
      "execution_count": 4,
      "outputs": []
    },
    {
      "cell_type": "code",
      "metadata": {
        "id": "WwNyFUAHRssj"
      },
      "source": [
        "src_path = './rsc15/'\n",
        "dst_path   = './data/'"
      ],
      "execution_count": 5,
      "outputs": []
    },
    {
      "cell_type": "code",
      "metadata": {
        "id": "om43PXTNSoLu"
      },
      "source": [
        "def process(src_path, dst_path):\n",
        "  data = pd.read_csv(src_path + 'yoochoose-clicks.dat', sep=',', header=None, usecols=[0,1,2], dtype={0:np.int32, 1:str, 2:np.int64})\n",
        "  data.columns = ['SessionId', 'TimeStr', 'ItemId']\n",
        "\n",
        "  # Add timestamp\n",
        "  data['Time'] = data.TimeStr.apply(lambda x: dt.datetime.strptime(x, '%Y-%m-%dT%H:%M:%S.%fZ').timestamp())\n",
        "  del(data['TimeStr'])\n",
        "\n",
        "  # Filter by session size > 1\n",
        "  session_lengths = data.groupby('SessionId').size()  \n",
        "  data = data[np.in1d(data.SessionId, session_lengths[session_lengths>1].index)]\n",
        "  \n",
        "  # Filter by \"known\" (appears >= 5) items\n",
        "  item_supports = data.groupby('ItemId').size()\n",
        "  data = data[np.in1d(data.ItemId, item_supports[item_supports>=5].index)]\n",
        "  \n",
        "  # Filter by session size > 2\n",
        "  session_lengths = data.groupby('SessionId').size()\n",
        "  data = data[np.in1d(data.SessionId, session_lengths[session_lengths>=2].index)]\n",
        "\n",
        "  # Test split is entire last day\n",
        "  tmax = data.Time.max()\n",
        "  session_max_times = data.groupby('SessionId').Time.max()\n",
        "  \n",
        "  session_train = session_max_times[session_max_times < tmax-86400].index\n",
        "  train = data[np.in1d(data.SessionId, session_train)]\n",
        "  \n",
        "  session_test = session_max_times[session_max_times >= tmax-86400].index\n",
        "  test = data[np.in1d(data.SessionId, session_test)]\n",
        "  test = test[np.in1d(test.ItemId, train.ItemId)]\n",
        "  tslength = test.groupby('SessionId').size()\n",
        "  test = test[np.in1d(test.SessionId, tslength[tslength>=2].index)]\n",
        "  print('Test set\\n\\tEvents: {}\\n\\tSessions: {}\\n\\tItems: {}'.format(len(test), test.SessionId.nunique(), test.ItemId.nunique()))\n",
        "  test.to_csv(dst_path + 'test.tsv', sep='\\t', index=False)\n",
        "\n",
        "  # Validation: second to last day. Train: remainder\n",
        "  tmax = train.Time.max()\n",
        "  session_max_times = train.groupby('SessionId').Time.max()\n",
        "  session_train = session_max_times[session_max_times < tmax-86400].index\n",
        "  session_valid = session_max_times[session_max_times >= tmax-86400].index\n",
        "\n",
        "  train_tr = train[np.in1d(train.SessionId, session_train)]\n",
        "  valid = train[np.in1d(train.SessionId, session_valid)]\n",
        "  valid = valid[np.in1d(valid.ItemId, train_tr.ItemId)]\n",
        "  tslength = valid.groupby('SessionId').size()\n",
        "  valid = valid[np.in1d(valid.SessionId, tslength[tslength>=2].index)]\n",
        "  print('Validation set\\n\\tEvents: {}\\n\\tSessions: {}\\n\\tItems: {}'.format(len(valid), valid.SessionId.nunique(), valid.ItemId.nunique()))\n",
        "  valid.to_csv(dst_path + 'validation.tsv', sep='\\t', index=False)\n",
        "  \n",
        "  \n",
        "  print('Train set\\n\\tEvents: {}\\n\\tSessions: {}\\n\\tItems: {}'.format(len(train_tr), train_tr.SessionId.nunique(), train_tr.ItemId.nunique()))\n",
        "  train_tr.to_csv(dst_path + 'train.tsv', sep='\\t', index=False)\n"
      ],
      "execution_count": 6,
      "outputs": []
    },
    {
      "cell_type": "code",
      "metadata": {
        "id": "nc6wy4phS1v2",
        "colab": {
          "base_uri": "https://localhost:8080/"
        },
        "outputId": "836e0eee-cda7-4dce-e6ad-c3288e97c740"
      },
      "source": [
        "process(src_path, dst_path)  # Takes ~10 minutes"
      ],
      "execution_count": 7,
      "outputs": [
        {
          "output_type": "stream",
          "text": [
            "Test set\n",
            "\tEvents: 71222\n",
            "\tSessions: 15324\n",
            "\tItems: 6751\n",
            "Validation set\n",
            "\tEvents: 58233\n",
            "\tSessions: 12372\n",
            "\tItems: 6359\n",
            "Train set\n",
            "\tEvents: 31579006\n",
            "\tSessions: 7953885\n",
            "\tItems: 37483\n"
          ],
          "name": "stdout"
        }
      ]
    },
    {
      "cell_type": "code",
      "metadata": {
        "id": "kx_HdipUDS2z"
      },
      "source": [
        "def train_fraction(df, fraction, prefix=\"train\", path=\"./data/\"):\n",
        "    \n",
        "    length = len(df['ItemId'])\n",
        "    first_session = df.iloc[length - length//fraction].SessionId\n",
        "    df = df.loc[df['SessionId'] >= first_session]\n",
        "    itemids = df['ItemId'].unique()\n",
        "    n_items = len(itemids)\n",
        "\n",
        "    print('Fractioned data set\\n\\tEvents: {}\\n\\tSessions: {}\\n\\tItems: {}'.format(len(df), df.SessionId.nunique(), df.ItemId.nunique()))\n",
        "    filename = path + '{}_{}.tsv'.format(prefix, fraction)\n",
        "    df.to_csv(filename, sep='\\t', index=False)\n",
        "    print(\"Saved as {}\".format(filename))"
      ],
      "execution_count": 8,
      "outputs": []
    },
    {
      "cell_type": "code",
      "metadata": {
        "id": "4r1tWG1gh7eX",
        "colab": {
          "base_uri": "https://localhost:8080/"
        },
        "outputId": "fd78f37a-c956-41de-d3a9-24ac5b337138"
      },
      "source": [
        "# Obtain most recent 1/nth fraction of train for demo purposes\n",
        "fraction = 64\n",
        "train = pd.read_csv(dst_path + 'train.tsv', sep='\\t', dtype={'ItemId':np.int64})\n",
        "train_fraction(train, fraction)\n"
      ],
      "execution_count": 9,
      "outputs": [
        {
          "output_type": "stream",
          "text": [
            "Fractioned data set\n",
            "\tEvents: 71391\n",
            "\tSessions: 17450\n",
            "\tItems: 8724\n",
            "Saved as ./data/train_64.tsv\n"
          ],
          "name": "stdout"
        }
      ]
    },
    {
      "cell_type": "markdown",
      "metadata": {
        "id": "ZWgvazVufHs6"
      },
      "source": [
        "# Entrenamiento"
      ]
    },
    {
      "cell_type": "code",
      "metadata": {
        "id": "PSPwVh4AS_GW",
        "colab": {
          "base_uri": "https://localhost:8080/"
        },
        "outputId": "bcb8ff5d-d7f5-4ca2-dbca-2324e3ab99d1"
      },
      "source": [
        "!python src/model/gru4rec.py --epochs 200 --train-path ./data/train_64.tsv --dev-path ./data/validation.tsv --test-path ./data/test.tsv"
      ],
      "execution_count": 10,
      "outputs": [
        {
          "output_type": "stream",
          "text": [
            "Model: \"functional_1\"\n",
            "_________________________________________________________________\n",
            "Layer (type)                 Output Shape              Param #   \n",
            "=================================================================\n",
            "input_1 (InputLayer)         [(512, 1, 8725)]          0         \n",
            "_________________________________________________________________\n",
            "GRU (GRU)                    [(512, 100), (512, 100)]  2648100   \n",
            "_________________________________________________________________\n",
            "dropout (Dropout)            (512, 100)                0         \n",
            "_________________________________________________________________\n",
            "dense (Dense)                (512, 8725)               881225    \n",
            "=================================================================\n",
            "Total params: 3,529,325\n",
            "Trainable params: 3,529,325\n",
            "Non-trainable params: 0\n",
            "_________________________________________________________________\n",
            "Epoch 1. Loss: 8.33947:  97% 16929/17451 [00:12<00:00, 1343.84it/s]\n",
            "Epoch 2. Loss: 7.87326:  97% 16929/17451 [00:05<00:00, 3307.42it/s]\n",
            "Epoch 3. Loss: 7.59479:  97% 16929/17451 [00:05<00:00, 3317.50it/s]\n",
            "Epoch 4. Loss: 7.40773:  97% 16929/17451 [00:05<00:00, 3311.60it/s]\n",
            "Epoch 5. Loss: 7.28659:  97% 16929/17451 [00:05<00:00, 3311.87it/s]\n",
            "Epoch 6. Loss: 7.15943:  97% 16929/17451 [00:05<00:00, 3296.40it/s]\n",
            "Epoch 7. Loss: 7.03683:  97% 16929/17451 [00:05<00:00, 3295.27it/s]\n",
            "Epoch 8. Loss: 6.89395:  97% 16929/17451 [00:05<00:00, 3299.18it/s]\n",
            "Epoch 9. Loss: 6.71245:  97% 16929/17451 [00:05<00:00, 3315.51it/s]\n",
            "Epoch 10. Loss: 6.53550:  97% 16929/17451 [00:05<00:00, 3306.06it/s]\n",
            "Epoch 11. Loss: 6.32788:  97% 16929/17451 [00:05<00:00, 3314.93it/s]\n",
            "Epoch 12. Loss: 6.14426:  97% 16929/17451 [00:05<00:00, 3305.40it/s]\n",
            "Epoch 13. Loss: 5.95555:  97% 16929/17451 [00:05<00:00, 3329.61it/s]\n",
            "Epoch 14. Loss: 5.77526:  97% 16929/17451 [00:05<00:00, 3262.23it/s]\n",
            "Epoch 15. Loss: 5.59658:  97% 16929/17451 [00:05<00:00, 3315.59it/s]\n",
            "Epoch 16. Loss: 5.45615:  97% 16929/17451 [00:05<00:00, 3328.58it/s]\n",
            "Epoch 17. Loss: 5.27991:  97% 16929/17451 [00:05<00:00, 3345.56it/s]\n",
            "Epoch 18. Loss: 5.13270:  97% 16929/17451 [00:05<00:00, 3316.23it/s]\n",
            "Epoch 19. Loss: 4.97685:  97% 16929/17451 [00:05<00:00, 3329.53it/s]\n",
            "Epoch 20. Loss: 4.86732:  97% 16929/17451 [00:05<00:00, 3319.65it/s]\n",
            "Epoch 21. Loss: 4.72950:  97% 16929/17451 [00:05<00:00, 3307.19it/s]\n",
            "Epoch 22. Loss: 4.62995:  97% 16929/17451 [00:05<00:00, 3289.60it/s]\n",
            "Epoch 23. Loss: 4.49407:  97% 16929/17451 [00:05<00:00, 3333.90it/s]\n",
            "Epoch 24. Loss: 4.36896:  97% 16929/17451 [00:05<00:00, 3302.66it/s]\n",
            "Epoch 25. Loss: 4.23178:  97% 16929/17451 [00:05<00:00, 3325.02it/s]\n",
            "Epoch 26. Loss: 4.13987:  97% 16929/17451 [00:05<00:00, 3322.61it/s]\n",
            "Epoch 27. Loss: 4.03547:  97% 16929/17451 [00:05<00:00, 3325.68it/s]\n",
            "Epoch 28. Loss: 3.89726:  97% 16929/17451 [00:05<00:00, 3291.55it/s]\n",
            "Epoch 29. Loss: 3.80376:  97% 16929/17451 [00:05<00:00, 3314.69it/s]\n",
            "Epoch 30. Loss: 3.74008:  97% 16929/17451 [00:05<00:00, 3297.13it/s]\n",
            "Epoch 31. Loss: 3.60915:  97% 16929/17451 [00:05<00:00, 3279.73it/s]\n",
            "Epoch 32. Loss: 3.53961:  97% 16929/17451 [00:05<00:00, 3326.49it/s]\n",
            "Epoch 33. Loss: 3.44122:  97% 16929/17451 [00:05<00:00, 3277.64it/s]\n",
            "Epoch 34. Loss: 3.38305:  97% 16929/17451 [00:05<00:00, 3313.38it/s]\n",
            "Epoch 35. Loss: 3.26624:  97% 16929/17451 [00:05<00:00, 3320.09it/s]\n",
            "Epoch 36. Loss: 3.23336:  97% 16929/17451 [00:05<00:00, 3331.38it/s]\n",
            "Epoch 37. Loss: 3.15825:  97% 16929/17451 [00:05<00:00, 3334.52it/s]\n",
            "Epoch 38. Loss: 3.10001:  97% 16929/17451 [00:05<00:00, 3312.05it/s]\n",
            "Epoch 39. Loss: 2.97696:  97% 16929/17451 [00:05<00:00, 3317.05it/s]\n",
            "Epoch 40. Loss: 2.95214:  97% 16929/17451 [00:05<00:00, 3296.91it/s]\n",
            "Epoch 41. Loss: 2.93089:  97% 16929/17451 [00:05<00:00, 3274.91it/s]\n",
            "Epoch 42. Loss: 2.87522:  97% 16929/17451 [00:05<00:00, 3271.27it/s]\n",
            "Epoch 43. Loss: 2.78536:  97% 16929/17451 [00:05<00:00, 3319.23it/s]\n",
            "Epoch 44. Loss: 2.71457:  97% 16929/17451 [00:05<00:00, 3310.92it/s]\n",
            "Epoch 45. Loss: 2.66370:  97% 16929/17451 [00:05<00:00, 3241.01it/s]\n",
            "Epoch 46. Loss: 2.62091:  97% 16929/17451 [00:05<00:00, 3185.12it/s]\n",
            "Epoch 47. Loss: 2.58712:  97% 16929/17451 [00:05<00:00, 3226.91it/s]\n",
            "Epoch 48. Loss: 2.49305:  97% 16929/17451 [00:05<00:00, 3330.35it/s]\n",
            "Epoch 49. Loss: 2.54416:  97% 16929/17451 [00:05<00:00, 3339.23it/s]\n",
            "Epoch 50. Loss: 2.50133:  97% 16929/17451 [00:05<00:00, 3314.03it/s]\n",
            "Epoch 51. Loss: 2.45207:  97% 16929/17451 [00:05<00:00, 3344.65it/s]\n",
            "Epoch 52. Loss: 2.41848:  97% 16929/17451 [00:05<00:00, 3314.56it/s]\n",
            "Epoch 53. Loss: 2.40805:  97% 16929/17451 [00:05<00:00, 3305.60it/s]\n",
            "Epoch 54. Loss: 2.37975:  97% 16929/17451 [00:05<00:00, 3303.13it/s]\n",
            "Epoch 55. Loss: 2.36657:  97% 16929/17451 [00:05<00:00, 3340.51it/s]\n",
            "Epoch 56. Loss: 2.33703:  97% 16929/17451 [00:05<00:00, 3296.26it/s]\n",
            "Epoch 57. Loss: 2.31780:  97% 16929/17451 [00:05<00:00, 3296.54it/s]\n",
            "Epoch 58. Loss: 2.31561:  97% 16929/17451 [00:05<00:00, 3311.52it/s]\n",
            "Epoch 59. Loss: 2.33383:  97% 16929/17451 [00:05<00:00, 3310.72it/s]\n",
            "Epoch 60. Loss: 2.32597:  97% 16929/17451 [00:05<00:00, 3314.22it/s]\n",
            "Epoch 61. Loss: 2.26357:  97% 16929/17451 [00:05<00:00, 3259.62it/s]\n",
            "Epoch 62. Loss: 2.20152:  97% 16929/17451 [00:05<00:00, 3269.10it/s]\n",
            "Epoch 63. Loss: 2.25571:  97% 16929/17451 [00:05<00:00, 3312.25it/s]\n",
            "Epoch 64. Loss: 2.25096:  97% 16929/17451 [00:05<00:00, 3304.51it/s]\n",
            "Epoch 65. Loss: 2.21518:  97% 16929/17451 [00:05<00:00, 3281.55it/s]\n",
            "Epoch 66. Loss: 2.26696:  97% 16929/17451 [00:05<00:00, 3284.68it/s]\n",
            "Epoch 67. Loss: 2.19570:  97% 16929/17451 [00:05<00:00, 3317.54it/s]\n",
            "Epoch 68. Loss: 2.17544:  97% 16929/17451 [00:05<00:00, 3319.66it/s]\n",
            "Epoch 69. Loss: 2.14987:  97% 16929/17451 [00:05<00:00, 3352.19it/s]\n",
            "Epoch 70. Loss: 2.17365:  97% 16929/17451 [00:05<00:00, 3326.02it/s]\n",
            "Epoch 71. Loss: 2.10247:  97% 16929/17451 [00:05<00:00, 3301.45it/s]\n",
            "Epoch 72. Loss: 2.14123:  97% 16929/17451 [00:05<00:00, 3321.68it/s]\n",
            "Epoch 73. Loss: 2.14562:  97% 16929/17451 [00:05<00:00, 3306.64it/s]\n",
            "Epoch 74. Loss: 2.15642:  97% 16929/17451 [00:05<00:00, 3300.27it/s]\n",
            "Epoch 75. Loss: 2.12215:  97% 16929/17451 [00:05<00:00, 3299.89it/s]\n",
            "Epoch 76. Loss: 2.09286:  97% 16929/17451 [00:05<00:00, 3324.43it/s]\n",
            "Epoch 77. Loss: 2.11822:  97% 16929/17451 [00:05<00:00, 3305.84it/s]\n",
            "Epoch 78. Loss: 2.07736:  97% 16929/17451 [00:05<00:00, 3286.06it/s]\n",
            "Epoch 79. Loss: 2.05851:  97% 16929/17451 [00:05<00:00, 3309.20it/s]\n",
            "Epoch 80. Loss: 2.07747:  97% 16929/17451 [00:05<00:00, 3315.17it/s]\n",
            "Epoch 81. Loss: 2.11411:  97% 16929/17451 [00:05<00:00, 3313.69it/s]\n",
            "Epoch 82. Loss: 2.01704:  97% 16929/17451 [00:05<00:00, 3314.51it/s]\n",
            "Epoch 83. Loss: 1.99349:  97% 16929/17451 [00:05<00:00, 3309.78it/s]\n",
            "Epoch 84. Loss: 2.00829:  97% 16929/17451 [00:05<00:00, 3321.50it/s]\n",
            "Epoch 85. Loss: 2.01499:  97% 16929/17451 [00:05<00:00, 3300.17it/s]\n",
            "Epoch 86. Loss: 2.00511:  97% 16929/17451 [00:05<00:00, 3312.67it/s]\n",
            "Epoch 87. Loss: 1.98098:  97% 16929/17451 [00:05<00:00, 3284.92it/s]\n",
            "Epoch 88. Loss: 2.00801:  97% 16929/17451 [00:05<00:00, 3305.48it/s]\n",
            "Epoch 89. Loss: 1.99227:  97% 16929/17451 [00:05<00:00, 3285.10it/s]\n",
            "Epoch 90. Loss: 1.99464:  97% 16929/17451 [00:05<00:00, 3280.60it/s]\n",
            "Epoch 91. Loss: 2.04329:  97% 16929/17451 [00:05<00:00, 3281.00it/s]\n",
            "Epoch 92. Loss: 1.92187:  97% 16929/17451 [00:05<00:00, 3271.60it/s]\n",
            "Epoch 93. Loss: 1.98928:  97% 16929/17451 [00:05<00:00, 3233.32it/s]\n",
            "Epoch 94. Loss: 1.93059:  97% 16929/17451 [00:05<00:00, 3296.56it/s]\n",
            "Epoch 95. Loss: 1.96156:  97% 16929/17451 [00:05<00:00, 3324.13it/s]\n",
            "Epoch 96. Loss: 1.90113:  97% 16929/17451 [00:05<00:00, 3261.22it/s]\n",
            "Epoch 97. Loss: 1.94056:  97% 16929/17451 [00:05<00:00, 3296.50it/s]\n",
            "Epoch 98. Loss: 1.93485:  97% 16929/17451 [00:05<00:00, 3299.75it/s]\n",
            "Epoch 99. Loss: 1.91489:  97% 16929/17451 [00:05<00:00, 3296.13it/s]\n",
            "Epoch 100. Loss: 1.94372:  97% 16929/17451 [00:05<00:00, 3296.76it/s]\n",
            "Epoch 101. Loss: 1.91144:  97% 16929/17451 [00:05<00:00, 3268.20it/s]\n",
            "Epoch 102. Loss: 1.86455:  97% 16929/17451 [00:05<00:00, 3320.66it/s]\n",
            "Epoch 103. Loss: 1.88175:  97% 16929/17451 [00:05<00:00, 3290.33it/s]\n",
            "Epoch 104. Loss: 1.87654:  97% 16929/17451 [00:05<00:00, 3316.81it/s]\n",
            "Epoch 105. Loss: 1.85534:  97% 16929/17451 [00:05<00:00, 3283.63it/s]\n",
            "Epoch 106. Loss: 1.86265:  97% 16929/17451 [00:05<00:00, 3192.16it/s]\n",
            "Epoch 107. Loss: 1.86594:  97% 16929/17451 [00:05<00:00, 3199.50it/s]\n",
            "Epoch 108. Loss: 1.88934:  97% 16929/17451 [00:05<00:00, 3231.27it/s]\n",
            "Epoch 109. Loss: 1.81333:  97% 16929/17451 [00:05<00:00, 3269.55it/s]\n",
            "Epoch 110. Loss: 1.90847:  97% 16929/17451 [00:05<00:00, 3287.44it/s]\n",
            "Epoch 111. Loss: 1.85666:  97% 16929/17451 [00:05<00:00, 3260.95it/s]\n",
            "Epoch 112. Loss: 1.83088:  97% 16929/17451 [00:05<00:00, 3304.46it/s]\n",
            "Epoch 113. Loss: 1.87704:  97% 16929/17451 [00:05<00:00, 3264.66it/s]\n",
            "Epoch 114. Loss: 1.80012:  97% 16929/17451 [00:05<00:00, 3275.65it/s]\n",
            "Epoch 115. Loss: 1.80589:  97% 16929/17451 [00:05<00:00, 3282.09it/s]\n",
            "Epoch 116. Loss: 1.83478:  97% 16929/17451 [00:05<00:00, 3227.00it/s]\n",
            "Epoch 117. Loss: 1.78179:  97% 16929/17451 [00:05<00:00, 3276.32it/s]\n",
            "Epoch 118. Loss: 1.81053:  97% 16929/17451 [00:05<00:00, 3294.14it/s]\n",
            "Epoch 119. Loss: 1.84393:  97% 16929/17451 [00:05<00:00, 3316.65it/s]\n",
            "Epoch 120. Loss: 1.77939:  97% 16929/17451 [00:05<00:00, 3257.85it/s]\n",
            "Epoch 121. Loss: 1.81096:  97% 16929/17451 [00:05<00:00, 3269.12it/s]\n",
            "Epoch 122. Loss: 1.84330:  97% 16929/17451 [00:05<00:00, 3304.24it/s]\n",
            "Epoch 123. Loss: 1.82107:  97% 16929/17451 [00:05<00:00, 3264.76it/s]\n",
            "Epoch 124. Loss: 1.82621:  97% 16929/17451 [00:05<00:00, 3243.97it/s]\n",
            "Epoch 125. Loss: 1.74219:  97% 16929/17451 [00:05<00:00, 3270.61it/s]\n",
            "Epoch 126. Loss: 1.81961:  97% 16929/17451 [00:05<00:00, 3289.56it/s]\n",
            "Epoch 127. Loss: 1.78128:  97% 16929/17451 [00:05<00:00, 3325.06it/s]\n",
            "Epoch 128. Loss: 1.76140:  97% 16929/17451 [00:05<00:00, 3290.16it/s]\n",
            "Epoch 129. Loss: 1.76261:  97% 16929/17451 [00:05<00:00, 3308.61it/s]\n",
            "Epoch 130. Loss: 1.71733:  97% 16929/17451 [00:05<00:00, 3338.52it/s]\n",
            "Epoch 131. Loss: 1.74276:  97% 16929/17451 [00:05<00:00, 3287.34it/s]\n",
            "Epoch 132. Loss: 1.68627:  97% 16929/17451 [00:05<00:00, 3309.59it/s]\n",
            "Epoch 133. Loss: 1.76566:  97% 16929/17451 [00:05<00:00, 3306.49it/s]\n",
            "Epoch 134. Loss: 1.75707:  97% 16929/17451 [00:05<00:00, 3320.24it/s]\n",
            "Epoch 135. Loss: 1.72137:  97% 16929/17451 [00:05<00:00, 3325.55it/s]\n",
            "Epoch 136. Loss: 1.69853:  97% 16929/17451 [00:05<00:00, 3292.98it/s]\n",
            "Epoch 137. Loss: 1.69123:  97% 16929/17451 [00:05<00:00, 3274.07it/s]\n",
            "Epoch 138. Loss: 1.82636:  97% 16929/17451 [00:05<00:00, 3279.47it/s]\n",
            "Epoch 139. Loss: 1.72323:  97% 16929/17451 [00:05<00:00, 3285.41it/s]\n",
            "Epoch 140. Loss: 1.74166:  97% 16929/17451 [00:05<00:00, 3263.18it/s]\n",
            "Epoch 141. Loss: 1.70696:  97% 16929/17451 [00:05<00:00, 3281.32it/s]\n",
            "Epoch 142. Loss: 1.69217:  97% 16929/17451 [00:05<00:00, 3277.56it/s]\n",
            "Epoch 143. Loss: 1.68826:  97% 16929/17451 [00:05<00:00, 3287.77it/s]\n",
            "Epoch 144. Loss: 1.71829:  97% 16929/17451 [00:05<00:00, 3315.37it/s]\n",
            "Epoch 145. Loss: 1.70092:  97% 16929/17451 [00:05<00:00, 3289.69it/s]\n",
            "Epoch 146. Loss: 1.71725:  97% 16929/17451 [00:05<00:00, 3298.57it/s]\n",
            "Epoch 147. Loss: 1.73595:  97% 16929/17451 [00:05<00:00, 3309.74it/s]\n",
            "Epoch 148. Loss: 1.76540:  97% 16929/17451 [00:05<00:00, 3303.46it/s]\n",
            "Epoch 149. Loss: 1.64187:  97% 16929/17451 [00:05<00:00, 3278.65it/s]\n",
            "Epoch 150. Loss: 1.66794:  97% 16929/17451 [00:05<00:00, 3305.98it/s]\n",
            "Epoch 151. Loss: 1.69561:  97% 16929/17451 [00:05<00:00, 3289.72it/s]\n",
            "Epoch 152. Loss: 1.69681:  97% 16929/17451 [00:05<00:00, 3295.06it/s]\n",
            "Epoch 153. Loss: 1.69040:  97% 16929/17451 [00:05<00:00, 3305.28it/s]\n",
            "Epoch 154. Loss: 1.66051:  97% 16929/17451 [00:05<00:00, 3297.70it/s]\n",
            "Epoch 155. Loss: 1.70464:  97% 16929/17451 [00:05<00:00, 3259.26it/s]\n",
            "Epoch 156. Loss: 1.66991:  97% 16929/17451 [00:05<00:00, 3282.95it/s]\n",
            "Epoch 157. Loss: 1.64653:  97% 16929/17451 [00:05<00:00, 3299.80it/s]\n",
            "Epoch 158. Loss: 1.58864:  97% 16929/17451 [00:05<00:00, 3317.91it/s]\n",
            "Epoch 159. Loss: 1.60461:  97% 16929/17451 [00:05<00:00, 3290.86it/s]\n",
            "Epoch 160. Loss: 1.63217:  97% 16929/17451 [00:05<00:00, 3311.86it/s]\n",
            "Epoch 161. Loss: 1.65094:  97% 16929/17451 [00:05<00:00, 3300.13it/s]\n",
            "Epoch 162. Loss: 1.62180:  97% 16929/17451 [00:05<00:00, 3306.57it/s]\n",
            "Epoch 163. Loss: 1.65061:  97% 16929/17451 [00:05<00:00, 3272.50it/s]\n",
            "Epoch 164. Loss: 1.69145:  97% 16929/17451 [00:05<00:00, 3298.23it/s]\n",
            "Epoch 165. Loss: 1.57901:  97% 16929/17451 [00:05<00:00, 3298.29it/s]\n",
            "Epoch 166. Loss: 1.64075:  97% 16929/17451 [00:05<00:00, 3257.75it/s]\n",
            "Epoch 167. Loss: 1.67990:  97% 16929/17451 [00:05<00:00, 3193.05it/s]\n",
            "Epoch 168. Loss: 1.61972:  97% 16929/17451 [00:05<00:00, 3224.77it/s]\n",
            "Epoch 169. Loss: 1.64115:  97% 16929/17451 [00:05<00:00, 3316.89it/s]\n",
            "Epoch 170. Loss: 1.66260:  97% 16929/17451 [00:05<00:00, 3267.31it/s]\n",
            "Epoch 171. Loss: 1.63506:  97% 16929/17451 [00:05<00:00, 3268.45it/s]\n",
            "Epoch 172. Loss: 1.66082:  97% 16929/17451 [00:05<00:00, 3305.95it/s]\n",
            "Epoch 173. Loss: 1.64007:  97% 16929/17451 [00:05<00:00, 3314.03it/s]\n",
            "Epoch 174. Loss: 1.57933:  97% 16929/17451 [00:05<00:00, 3326.88it/s]\n",
            "Epoch 175. Loss: 1.63999:  97% 16929/17451 [00:05<00:00, 3263.85it/s]\n",
            "Epoch 176. Loss: 1.64434:  97% 16929/17451 [00:05<00:00, 3277.23it/s]\n",
            "Epoch 177. Loss: 1.59936:  97% 16929/17451 [00:05<00:00, 3331.72it/s]\n",
            "Epoch 178. Loss: 1.54472:  97% 16929/17451 [00:05<00:00, 3310.84it/s]\n",
            "Epoch 179. Loss: 1.61599:  97% 16929/17451 [00:05<00:00, 3314.85it/s]\n",
            "Epoch 180. Loss: 1.68873:  97% 16929/17451 [00:05<00:00, 3312.98it/s]\n",
            "Epoch 181. Loss: 1.59834:  97% 16929/17451 [00:05<00:00, 3309.02it/s]\n",
            "Epoch 182. Loss: 1.61685:  97% 16929/17451 [00:05<00:00, 3310.17it/s]\n",
            "Epoch 183. Loss: 1.62710:  97% 16929/17451 [00:05<00:00, 3304.11it/s]\n",
            "Epoch 184. Loss: 1.59768:  97% 16929/17451 [00:05<00:00, 3279.56it/s]\n",
            "Epoch 185. Loss: 1.57370:  97% 16929/17451 [00:05<00:00, 3320.59it/s]\n",
            "Epoch 186. Loss: 1.58826:  97% 16929/17451 [00:05<00:00, 3318.35it/s]\n",
            "Epoch 187. Loss: 1.59281:  97% 16929/17451 [00:05<00:00, 3259.29it/s]\n",
            "Epoch 188. Loss: 1.63744:  97% 16929/17451 [00:05<00:00, 3328.81it/s]\n",
            "Epoch 189. Loss: 1.55244:  97% 16929/17451 [00:05<00:00, 3314.19it/s]\n",
            "Epoch 190. Loss: 1.55861:  97% 16929/17451 [00:05<00:00, 3315.83it/s]\n",
            "Epoch 191. Loss: 1.57964:  97% 16929/17451 [00:05<00:00, 3336.87it/s]\n",
            "Epoch 192. Loss: 1.60369:  97% 16929/17451 [00:05<00:00, 3318.83it/s]\n",
            "Epoch 193. Loss: 1.54413:  97% 16929/17451 [00:05<00:00, 3329.37it/s]\n",
            "Epoch 194. Loss: 1.59607:  97% 16929/17451 [00:05<00:00, 3304.40it/s]\n",
            "Epoch 195. Loss: 1.58219:  97% 16929/17451 [00:05<00:00, 3323.81it/s]\n",
            "Epoch 196. Loss: 1.59212:  97% 16929/17451 [00:05<00:00, 3295.30it/s]\n",
            "Epoch 197. Loss: 1.59727:  97% 16929/17451 [00:05<00:00, 3324.22it/s]\n",
            "Epoch 198. Loss: 1.55454:  97% 16929/17451 [00:05<00:00, 3333.22it/s]\n",
            "Epoch 199. Loss: 1.55805:  97% 16929/17451 [00:05<00:00, 3300.32it/s]\n",
            "Evaluating model...\n",
            "\t - Recall@20 epoch 200: 0.460340\n",
            "\t - MRR@20    epoch 200: 0.163068\n",
            "\n"
          ],
          "name": "stdout"
        }
      ]
    },
    {
      "cell_type": "markdown",
      "metadata": {
        "id": "tk9EgsON-8Sr"
      },
      "source": [
        "## Resultados\n",
        "\n",
        "Luego de 200 épocas, deberías obtener un desempeño similar al siguiente:\n",
        "\n",
        "\t - Recall@20: 0.47\n",
        "\t - MRR@20   : 0.16\n",
        "\n",
        "\n",
        "Para replicar resultados del paper, utiliza el set de entrenamiento completo"
      ]
    },
    {
      "cell_type": "markdown",
      "metadata": {
        "id": "njfQIzqi_KK8"
      },
      "source": [
        "## Aprovechando información implícita: Dwell Time\n",
        "\n",
        "Podemos utilizar el tiempo que cada item fue visitado por cada usuario para realizar mejores recomendaciones.\n",
        "\n",
        "El supuesto es: a mayor tiempo de permanencia (dwell time) en un item, más interesado está el usuario en dicho item.\n",
        "\n",
        "Se hará item boosting en el set de entrenamiento."
      ]
    },
    {
      "cell_type": "code",
      "metadata": {
        "id": "lh9fruDcuVYg"
      },
      "source": [
        "def preprocess_df(df):    \n",
        "    n_items = len(df['ItemId'].unique())\n",
        "    aux = list(df['ItemId'].unique())\n",
        "    itemids = np.array(aux)\n",
        "    itemidmap = pd.Series(data=np.arange(n_items), index=itemids)  # (id_item => (0, n_items))\n",
        "    \n",
        "    item_key = 'ItemId'\n",
        "    session_key = 'SessionId'\n",
        "    time_key = 'Time'\n",
        "    \n",
        "    data = pd.merge(df, pd.DataFrame({item_key:itemids, 'ItemIdx':itemidmap[itemids].values}), on=item_key, how='inner')\n",
        "    data.sort_values([session_key, time_key], inplace=True)\n",
        "\n",
        "    length = len(data['ItemId'])\n",
        "        \n",
        "    return data"
      ],
      "execution_count": 11,
      "outputs": []
    },
    {
      "cell_type": "code",
      "metadata": {
        "id": "j5O-1YDR_vNY"
      },
      "source": [
        "def compute_dwell_time(df):\n",
        "    times_t = np.roll(df['Time'], -1) # Take time row\n",
        "    times_dt  = df['Time']            # Copy, then displace by one\n",
        "    diffs = np.subtract(times_t, times_dt) # Take pairwise difference\n",
        "    length = len(df['ItemId'])\n",
        "    \n",
        "    # cummulative offset start for each session\n",
        "    offset_sessions = np.zeros(df['SessionId'].nunique()+1, dtype=np.int32)\n",
        "    offset_sessions[1:] = df.groupby('SessionId').size().cumsum() \n",
        "    offset_sessions = offset_sessions - 1\n",
        "    offset_sessions = np.roll(offset_sessions, -1)\n",
        "    \n",
        "    np.put(diffs.values, offset_sessions, np.zeros((offset_sessions.shape)), mode='raise')\n",
        "\n",
        "    return diffs"
      ],
      "execution_count": 12,
      "outputs": []
    },
    {
      "cell_type": "code",
      "metadata": {
        "id": "7vFvOPH9Bfeq"
      },
      "source": [
        "def get_distribution(dts):\n",
        "    filtered = np.array(list(filter(lambda x: int(x) != 0, dts)))\n",
        "    pd_dts = pd.DataFrame(filtered)\n",
        "    pd_dts.boxplot(vert=False, showfliers=False)\n",
        "    plt.xlabel(\"Seconds\")\n",
        "    plt.yticks([])\n",
        "    plt.title(\"Dwell time distribution for RSC15 dataset\")\n",
        "    plt.show()\n",
        "    pd_dts.describe()"
      ],
      "execution_count": 13,
      "outputs": []
    },
    {
      "cell_type": "code",
      "metadata": {
        "id": "pPxWD0xPBfVE"
      },
      "source": [
        "def join_dwell_reps(df, dt, threshold=2000):\n",
        "    # Calculate d_ti/threshold + 1 then add column to dataFrame\n",
        "    dt //= threshold\n",
        "    dt += 1   \n",
        "    df['DwellReps'] = pd.Series(dt.astype(np.int64), index=dt.index)"
      ],
      "execution_count": 14,
      "outputs": []
    },
    {
      "cell_type": "code",
      "metadata": {
        "id": "jYX1RjhQ_wZG"
      },
      "source": [
        "def augment(df):    \n",
        "    col_names = list(df.columns.values)[:3]\n",
        "    augmented = np.repeat(df.values, df['DwellReps'], axis=0) \n",
        "    augmented = pd.DataFrame(data=augmented[:,:3],\n",
        "                             columns=col_names)\n",
        "    dtype = {'SessionId': np.int64, \n",
        "             'ItemId': np.int64, \n",
        "             'Time': np.float32}\n",
        "    \n",
        "    for k, v in dtype.items():\n",
        "        augmented[k] = augmented[k].astype(v)                  \n",
        "    \n",
        "    return augmented"
      ],
      "execution_count": 15,
      "outputs": []
    },
    {
      "cell_type": "code",
      "metadata": {
        "id": "veILDG2X_yJm"
      },
      "source": [
        "new_df = preprocess_df(train)\n",
        "dts = compute_dwell_time(new_df)"
      ],
      "execution_count": 16,
      "outputs": []
    },
    {
      "cell_type": "code",
      "metadata": {
        "id": "7xIJMF5aABmF",
        "colab": {
          "base_uri": "https://localhost:8080/",
          "height": 295
        },
        "outputId": "421617c1-fadf-4644-ff8f-30d0a40600b1"
      },
      "source": [
        "# Visualize\n",
        "get_distribution(dts)"
      ],
      "execution_count": 17,
      "outputs": [
        {
          "output_type": "display_data",
          "data": {
            "image/png": "[encoded data removed]",
            "text/plain": [
              "<Figure size 432x288 with 1 Axes>"
            ]
          },
          "metadata": {
            "tags": [],
            "needs_background": "light"
          }
        }
      ]
    },
    {
      "cell_type": "code",
      "metadata": {
        "id": "Y4mZ3YB0Ai4q"
      },
      "source": [
        "# threshold is a hyperparameter\n",
        "join_dwell_reps(new_df, dts, threshold=75)\n",
        "\n",
        "# augment the sessions copying each entry an additional (dwellReps[i]-1) times\n",
        "df_aug = augment(new_df)\n",
        "df_aug.to_csv(\"./data/augmented_train.csv\", index=False, sep='\\t')"
      ],
      "execution_count": 18,
      "outputs": []
    },
    {
      "cell_type": "code",
      "metadata": {
        "id": "X1N36STyCrrs",
        "colab": {
          "base_uri": "https://localhost:8080/"
        },
        "outputId": "c7ee5916-5b6d-4e24-967c-77c5f025c74a"
      },
      "source": [
        "# retrieve 1/n most recent fraction for demo purposes \n",
        "# (note it is a smaller fraction due to the inflation process)\n",
        "fraction = 64*7\n",
        "train_fraction(df_aug, fraction, prefix='aug_train')"
      ],
      "execution_count": 19,
      "outputs": [
        {
          "output_type": "stream",
          "text": [
            "Fractioned data set\n",
            "\tEvents: 151923\n",
            "\tSessions: 16351\n",
            "\tItems: 8484\n",
            "Saved as ./data/aug_train_448.tsv\n"
          ],
          "name": "stdout"
        }
      ]
    },
    {
      "cell_type": "markdown",
      "metadata": {
        "id": "v2E2q1ArD5Sr"
      },
      "source": [
        "## Entrenamiento con Dwell Time"
      ]
    },
    {
      "cell_type": "code",
      "metadata": {
        "id": "HNq8lpRADWZ2",
        "colab": {
          "base_uri": "https://localhost:8080/"
        },
        "outputId": "8cd5cf26-c4df-4631-a9b8-24d26c8d4284"
      },
      "source": [
        "!python src/model/gru4rec.py --epochs 200 --train-path ./data/aug_train_448.tsv --dev-path ./data/validation.tsv --test-path ./data/test.tsv"
      ],
      "execution_count": 20,
      "outputs": [
        {
          "output_type": "stream",
          "text": [
            "Model: \"functional_1\"\n",
            "_________________________________________________________________\n",
            "Layer (type)                 Output Shape              Param #   \n",
            "=================================================================\n",
            "input_1 (InputLayer)         [(512, 1, 8485)]          0         \n",
            "_________________________________________________________________\n",
            "GRU (GRU)                    [(512, 100), (512, 100)]  2576100   \n",
            "_________________________________________________________________\n",
            "dropout (Dropout)            (512, 100)                0         \n",
            "_________________________________________________________________\n",
            "dense (Dense)                (512, 8485)               856985    \n",
            "=================================================================\n",
            "Total params: 3,433,085\n",
            "Trainable params: 3,433,085\n",
            "Non-trainable params: 0\n",
            "_________________________________________________________________\n",
            "Epoch 1. Loss: 7.81057:  97% 15835/16352 [00:20<00:00, 791.53it/s] \n",
            "Epoch 2. Loss: 7.14250:  97% 15835/16352 [00:12<00:00, 1290.01it/s]\n",
            "Epoch 3. Loss: 6.48595:  97% 15835/16352 [00:12<00:00, 1284.10it/s]\n",
            "Epoch 4. Loss: 5.62454:  97% 15835/16352 [00:12<00:00, 1281.98it/s]\n",
            "Epoch 5. Loss: 4.90671:  97% 15835/16352 [00:12<00:00, 1281.17it/s]\n",
            "Epoch 6. Loss: 4.31304:  97% 15835/16352 [00:12<00:00, 1286.57it/s]\n",
            "Epoch 7. Loss: 3.86204:  97% 15835/16352 [00:12<00:00, 1279.93it/s]\n",
            "Epoch 8. Loss: 3.50475:  97% 15835/16352 [00:12<00:00, 1286.98it/s]\n",
            "Epoch 9. Loss: 3.21590:  97% 15835/16352 [00:12<00:00, 1290.01it/s]\n",
            "Epoch 10. Loss: 2.95903:  97% 15835/16352 [00:12<00:00, 1288.12it/s]\n",
            "Epoch 11. Loss: 2.78747:  97% 15835/16352 [00:12<00:00, 1290.58it/s]\n",
            "Epoch 12. Loss: 2.60933:  97% 15835/16352 [00:12<00:00, 1294.65it/s]\n",
            "Epoch 13. Loss: 2.49373:  97% 15835/16352 [00:12<00:00, 1282.29it/s]\n",
            "Epoch 14. Loss: 2.34904:  97% 15835/16352 [00:12<00:00, 1280.49it/s]\n",
            "Epoch 15. Loss: 2.24965:  97% 15835/16352 [00:12<00:00, 1286.27it/s]\n",
            "Epoch 16. Loss: 2.17267:  97% 15835/16352 [00:12<00:00, 1261.36it/s]\n",
            "Epoch 17. Loss: 2.05732:  97% 15835/16352 [00:12<00:00, 1285.75it/s]\n",
            "Epoch 18. Loss: 2.00544:  97% 15835/16352 [00:12<00:00, 1283.02it/s]\n",
            "Epoch 19. Loss: 1.88838:  97% 15835/16352 [00:12<00:00, 1296.59it/s]\n",
            "Epoch 20. Loss: 1.82057:  97% 15835/16352 [00:12<00:00, 1281.42it/s]\n",
            "Epoch 21. Loss: 1.76694:  97% 15835/16352 [00:12<00:00, 1293.58it/s]\n",
            "Epoch 22. Loss: 1.80678:  97% 15835/16352 [00:12<00:00, 1299.12it/s]\n",
            "Epoch 23. Loss: 1.69456:  97% 15835/16352 [00:12<00:00, 1284.43it/s]\n",
            "Epoch 24. Loss: 1.62780:  97% 15835/16352 [00:12<00:00, 1303.41it/s]\n",
            "Epoch 25. Loss: 1.59714:  97% 15835/16352 [00:12<00:00, 1294.61it/s]\n",
            "Epoch 26. Loss: 1.57411:  97% 15835/16352 [00:12<00:00, 1289.58it/s]\n",
            "Epoch 27. Loss: 1.53852:  97% 15835/16352 [00:12<00:00, 1274.30it/s]\n",
            "Epoch 28. Loss: 1.51252:  97% 15835/16352 [00:12<00:00, 1286.93it/s]\n",
            "Epoch 29. Loss: 1.50262:  97% 15835/16352 [00:12<00:00, 1293.85it/s]\n",
            "Epoch 30. Loss: 1.46743:  97% 15835/16352 [00:12<00:00, 1291.91it/s]\n",
            "Epoch 31. Loss: 1.45857:  97% 15835/16352 [00:12<00:00, 1286.92it/s]\n",
            "Epoch 32. Loss: 1.44409:  97% 15835/16352 [00:12<00:00, 1294.77it/s]\n",
            "Epoch 33. Loss: 1.37940:  97% 15835/16352 [00:12<00:00, 1288.76it/s]\n",
            "Epoch 34. Loss: 1.37694:  97% 15835/16352 [00:12<00:00, 1293.24it/s]\n",
            "Epoch 35. Loss: 1.33409:  97% 15835/16352 [00:12<00:00, 1286.02it/s]\n",
            "Epoch 36. Loss: 1.33014:  97% 15835/16352 [00:12<00:00, 1277.16it/s]\n",
            "Epoch 37. Loss: 1.35498:  97% 15835/16352 [00:12<00:00, 1293.49it/s]\n",
            "Epoch 38. Loss: 1.34039:  97% 15835/16352 [00:12<00:00, 1287.12it/s]\n",
            "Epoch 39. Loss: 1.31001:  97% 15835/16352 [00:12<00:00, 1287.97it/s]\n",
            "Epoch 40. Loss: 1.29682:  97% 15835/16352 [00:12<00:00, 1282.34it/s]\n",
            "Epoch 41. Loss: 1.29163:  97% 15835/16352 [00:12<00:00, 1261.38it/s]\n",
            "Epoch 42. Loss: 1.28454:  97% 15835/16352 [00:12<00:00, 1291.15it/s]\n",
            "Epoch 43. Loss: 1.20974:  97% 15835/16352 [00:12<00:00, 1289.25it/s]\n",
            "Epoch 44. Loss: 1.26671:  97% 15835/16352 [00:12<00:00, 1289.60it/s]\n",
            "Epoch 45. Loss: 1.26772:  97% 15835/16352 [00:12<00:00, 1295.97it/s]\n",
            "Epoch 46. Loss: 1.24570:  97% 15835/16352 [00:12<00:00, 1288.15it/s]\n",
            "Epoch 47. Loss: 1.24330:  97% 15835/16352 [00:12<00:00, 1290.95it/s]\n",
            "Epoch 48. Loss: 1.22276:  97% 15835/16352 [00:12<00:00, 1305.90it/s]\n",
            "Epoch 49. Loss: 1.20768:  97% 15835/16352 [00:12<00:00, 1293.59it/s]\n",
            "Epoch 50. Loss: 1.19499:  97% 15835/16352 [00:12<00:00, 1290.57it/s]\n",
            "Epoch 51. Loss: 1.17451:  97% 15835/16352 [00:12<00:00, 1291.13it/s]\n",
            "Epoch 52. Loss: 1.19785:  97% 15835/16352 [00:12<00:00, 1288.23it/s]\n",
            "Epoch 53. Loss: 1.16104:  97% 15835/16352 [00:12<00:00, 1282.73it/s]\n",
            "Epoch 54. Loss: 1.17986:  97% 15835/16352 [00:12<00:00, 1299.79it/s]\n",
            "Epoch 55. Loss: 1.16143:  97% 15835/16352 [00:12<00:00, 1296.05it/s]\n",
            "Epoch 56. Loss: 1.13586:  97% 15835/16352 [00:12<00:00, 1295.91it/s]\n",
            "Epoch 57. Loss: 1.13120:  97% 15835/16352 [00:12<00:00, 1303.32it/s]\n",
            "Epoch 58. Loss: 1.15086:  97% 15835/16352 [00:12<00:00, 1285.26it/s]\n",
            "Epoch 59. Loss: 1.16647:  97% 15835/16352 [00:12<00:00, 1284.66it/s]\n",
            "Epoch 60. Loss: 1.11763:  97% 15835/16352 [00:12<00:00, 1290.74it/s]\n",
            "Epoch 61. Loss: 1.12747:  97% 15835/16352 [00:12<00:00, 1295.15it/s]\n",
            "Epoch 62. Loss: 1.13520:  97% 15835/16352 [00:12<00:00, 1288.86it/s]\n",
            "Epoch 63. Loss: 1.11982:  97% 15835/16352 [00:12<00:00, 1294.93it/s]\n",
            "Epoch 64. Loss: 1.12735:  97% 15835/16352 [00:12<00:00, 1286.11it/s]\n",
            "Epoch 65. Loss: 1.12175:  97% 15835/16352 [00:12<00:00, 1294.09it/s]\n",
            "Epoch 66. Loss: 1.11427:  97% 15835/16352 [00:12<00:00, 1258.14it/s]\n",
            "Epoch 67. Loss: 1.12270:  97% 15835/16352 [00:12<00:00, 1277.18it/s]\n",
            "Epoch 68. Loss: 1.11278:  97% 15835/16352 [00:12<00:00, 1291.43it/s]\n",
            "Epoch 69. Loss: 1.07923:  97% 15835/16352 [00:12<00:00, 1296.91it/s]\n",
            "Epoch 70. Loss: 1.10933:  97% 15835/16352 [00:12<00:00, 1302.15it/s]\n",
            "Epoch 71. Loss: 1.10364:  97% 15835/16352 [00:12<00:00, 1283.78it/s]\n",
            "Epoch 72. Loss: 1.12001:  97% 15835/16352 [00:12<00:00, 1295.65it/s]\n",
            "Epoch 73. Loss: 1.10739:  97% 15835/16352 [00:12<00:00, 1297.70it/s]\n",
            "Epoch 74. Loss: 1.06002:  97% 15835/16352 [00:12<00:00, 1300.89it/s]\n",
            "Epoch 75. Loss: 1.09267:  97% 15835/16352 [00:12<00:00, 1301.98it/s]\n",
            "Epoch 76. Loss: 1.06951:  97% 15835/16352 [00:12<00:00, 1300.76it/s]\n",
            "Epoch 77. Loss: 1.13977:  97% 15835/16352 [00:12<00:00, 1298.84it/s]\n",
            "Epoch 78. Loss: 1.08343:  97% 15835/16352 [00:12<00:00, 1300.88it/s]\n",
            "Epoch 79. Loss: 1.02654:  97% 15835/16352 [00:12<00:00, 1289.75it/s]\n",
            "Epoch 80. Loss: 1.03544:  97% 15835/16352 [00:12<00:00, 1298.55it/s]\n",
            "Epoch 81. Loss: 1.07477:  97% 15835/16352 [00:12<00:00, 1303.66it/s]\n",
            "Epoch 82. Loss: 1.06548:  97% 15835/16352 [00:12<00:00, 1305.36it/s]\n",
            "Epoch 83. Loss: 1.06774:  97% 15835/16352 [00:12<00:00, 1308.60it/s]\n",
            "Epoch 84. Loss: 1.11123:  97% 15835/16352 [00:12<00:00, 1302.42it/s]\n",
            "Epoch 85. Loss: 1.07163:  97% 15835/16352 [00:12<00:00, 1298.09it/s]\n",
            "Epoch 86. Loss: 1.05480:  97% 15835/16352 [00:12<00:00, 1292.16it/s]\n",
            "Epoch 87. Loss: 1.03356:  97% 15835/16352 [00:12<00:00, 1300.04it/s]\n",
            "Epoch 88. Loss: 1.03624:  97% 15835/16352 [00:12<00:00, 1300.31it/s]\n",
            "Epoch 89. Loss: 1.02699:  97% 15835/16352 [00:12<00:00, 1308.87it/s]\n",
            "Epoch 90. Loss: 1.00156:  97% 15835/16352 [00:12<00:00, 1299.43it/s]\n",
            "Epoch 91. Loss: 1.04386:  97% 15835/16352 [00:12<00:00, 1300.42it/s]\n",
            "Epoch 92. Loss: 1.04653:  97% 15835/16352 [00:12<00:00, 1256.27it/s]\n",
            "Epoch 93. Loss: 1.04794:  97% 15835/16352 [00:12<00:00, 1286.00it/s]\n",
            "Epoch 94. Loss: 1.01187:  97% 15835/16352 [00:12<00:00, 1309.02it/s]\n",
            "Epoch 95. Loss: 1.04823:  97% 15835/16352 [00:12<00:00, 1289.79it/s]\n",
            "Epoch 96. Loss: 1.02060:  97% 15835/16352 [00:12<00:00, 1307.92it/s]\n",
            "Epoch 97. Loss: 1.04496:  97% 15835/16352 [00:12<00:00, 1299.83it/s]\n",
            "Epoch 98. Loss: 1.03880:  97% 15835/16352 [00:12<00:00, 1299.57it/s]\n",
            "Epoch 99. Loss: 1.03191:  97% 15835/16352 [00:12<00:00, 1299.57it/s]\n",
            "Epoch 100. Loss: 1.03472:  97% 15835/16352 [00:12<00:00, 1299.83it/s]\n",
            "Epoch 101. Loss: 1.04601:  97% 15835/16352 [00:12<00:00, 1310.15it/s]\n",
            "Epoch 102. Loss: 1.02307:  97% 15835/16352 [00:12<00:00, 1301.71it/s]\n",
            "Epoch 103. Loss: 1.01804:  97% 15835/16352 [00:12<00:00, 1301.38it/s]\n",
            "Epoch 104. Loss: 1.03823:  97% 15835/16352 [00:12<00:00, 1299.82it/s]\n",
            "Epoch 105. Loss: 1.00644:  97% 15835/16352 [00:12<00:00, 1307.00it/s]\n",
            "Epoch 106. Loss: 1.03992:  97% 15835/16352 [00:12<00:00, 1301.80it/s]\n",
            "Epoch 107. Loss: 1.05395:  97% 15835/16352 [00:12<00:00, 1315.21it/s]\n",
            "Epoch 108. Loss: 1.04433:  97% 15835/16352 [00:12<00:00, 1308.50it/s]\n",
            "Epoch 109. Loss: 1.01081:  97% 15835/16352 [00:12<00:00, 1311.70it/s]\n",
            "Epoch 110. Loss: 1.01001:  97% 15835/16352 [00:12<00:00, 1309.51it/s]\n",
            "Epoch 111. Loss: 1.00769:  97% 15835/16352 [00:12<00:00, 1298.87it/s]\n",
            "Epoch 112. Loss: 1.01263:  97% 15835/16352 [00:12<00:00, 1302.87it/s]\n",
            "Epoch 113. Loss: 1.00142:  97% 15835/16352 [00:12<00:00, 1304.42it/s]\n",
            "Epoch 114. Loss: 0.99799:  97% 15835/16352 [00:12<00:00, 1316.21it/s]\n",
            "Epoch 115. Loss: 0.99252:  97% 15835/16352 [00:12<00:00, 1308.00it/s]\n",
            "Epoch 116. Loss: 0.94761:  97% 15835/16352 [00:12<00:00, 1313.82it/s]\n",
            "Epoch 117. Loss: 1.06424:  97% 15835/16352 [00:12<00:00, 1286.72it/s]\n",
            "Epoch 118. Loss: 1.02325:  97% 15835/16352 [00:12<00:00, 1277.06it/s]\n",
            "Epoch 119. Loss: 1.00502:  97% 15835/16352 [00:12<00:00, 1301.13it/s]\n",
            "Epoch 120. Loss: 1.02985:  97% 15835/16352 [00:12<00:00, 1309.30it/s]\n",
            "Epoch 121. Loss: 1.00215:  97% 15835/16352 [00:12<00:00, 1301.64it/s]\n",
            "Epoch 122. Loss: 1.08877:  97% 15835/16352 [00:12<00:00, 1309.99it/s]\n",
            "Epoch 123. Loss: 1.03533:  97% 15835/16352 [00:12<00:00, 1318.63it/s]\n",
            "Epoch 124. Loss: 1.05044:  97% 15835/16352 [00:12<00:00, 1309.11it/s]\n",
            "Epoch 125. Loss: 0.78383:  30% 4949/16352 [00:03<00:08, 1393.38it/s]\n",
            "Traceback (most recent call last):\n",
            "  File \"src/model/gru4rec.py\", line 293, in <module>\n",
            "    train_model(model, args)\n",
            "  File \"src/model/gru4rec.py\", line 233, in train_model\n",
            "    target_oh = to_categorical(target, num_classes=loader.n_items)\n",
            "  File \"/usr/local/lib/python3.6/dist-packages/tensorflow/python/keras/utils/np_utils.py\", line 77, in to_categorical\n",
            "KeyboardInterrupt\n"
          ],
          "name": "stdout"
        }
      ]
    },
    {
      "cell_type": "markdown",
      "metadata": {
        "id": "YdMFiWFK65w1"
      },
      "source": [
        "Indique el resultado del modelo con Dwell Time. \n",
        "\n",
        "Podemos ver que la inclusión del tiempo de Dwell, si bien produce que el entrenamiento sea bastante más lento, también logra un ajuste mucho mejor a los datos (esto lo podemos ver en la función de pérdida). A partir de esto igual, tanto Recall@20 como MRR@20 mejoraron."
      ]
    },
    {
      "cell_type": "code",
      "metadata": {
        "id": "SfZcUUx21UGS"
      },
      "source": [
        ""
      ],
      "execution_count": null,
      "outputs": []
    }
  ]
}